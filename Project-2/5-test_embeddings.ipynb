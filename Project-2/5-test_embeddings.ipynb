{
 "cells": [
  {
   "cell_type": "markdown",
   "id": "6f80d2f6",
   "metadata": {},
   "source": [
    "# Libraries import"
   ]
  },
  {
   "cell_type": "code",
   "execution_count": null,
   "id": "4dff9509",
   "metadata": {},
   "outputs": [],
   "source": [
    "%%capture\n",
    "!pip install tensorflow_hub"
   ]
  },
  {
   "cell_type": "code",
   "execution_count": null,
   "id": "7d6092b9",
   "metadata": {},
   "outputs": [],
   "source": [
    "import tensorflow_hub as hub"
   ]
  },
  {
   "cell_type": "code",
   "execution_count": null,
   "id": "5d617570",
   "metadata": {},
   "outputs": [],
   "source": [
    "# !pip install tensorflow"
   ]
  },
  {
   "cell_type": "code",
   "execution_count": null,
   "id": "3fdb2ea0",
   "metadata": {},
   "outputs": [],
   "source": [
    "!pip install tensorflow-text"
   ]
  },
  {
   "cell_type": "code",
   "execution_count": null,
   "id": "fbbd3911",
   "metadata": {},
   "outputs": [],
   "source": [
    "import tensorflow\n",
    "import tensorflow_text"
   ]
  },
  {
   "cell_type": "code",
   "execution_count": 1,
   "id": "08d50887",
   "metadata": {},
   "outputs": [],
   "source": [
    "import pandas as pd\n",
    "import numpy as np\n",
    "from tqdm import tqdm\n",
    "\n",
    "from sklearn.preprocessing import OrdinalEncoder\n",
    "from sklearn.model_selection import train_test_split\n",
    "from sklearn.linear_model import LogisticRegression\n",
    "from sklearn.metrics import f1_score"
   ]
  },
  {
   "cell_type": "code",
   "execution_count": null,
   "id": "59cf68a1",
   "metadata": {},
   "outputs": [],
   "source": [
    "MODEL = hub.load(\"https://tfhub.dev/google/universal-sentence-encoder-multilingual/3\")"
   ]
  },
  {
   "cell_type": "markdown",
   "id": "47241693",
   "metadata": {},
   "source": [
    "# Data import and splitting"
   ]
  },
  {
   "cell_type": "code",
   "execution_count": 2,
   "id": "21674839",
   "metadata": {},
   "outputs": [],
   "source": [
    "data = pd.read_csv('lab2_oil_gas_field_construction_data.csv')"
   ]
  },
  {
   "cell_type": "code",
   "execution_count": 7,
   "id": "256dc12c",
   "metadata": {},
   "outputs": [],
   "source": [
    "unmarked_data = data[((data.generalized_work_class.isna())) & (data.global_work_class.isna())]\n",
    "marked_data = data[((data.generalized_work_class.notna())) & (data.global_work_class.notna())]"
   ]
  },
  {
   "cell_type": "code",
   "execution_count": 6,
   "id": "9892a5ec",
   "metadata": {},
   "outputs": [
    {
     "data": {
      "text/plain": [
       "419209"
      ]
     },
     "execution_count": 6,
     "metadata": {},
     "output_type": "execute_result"
    }
   ],
   "source": [
    "len(data) - len(marked_data)"
   ]
  },
  {
   "cell_type": "code",
   "execution_count": 8,
   "id": "46ef6856",
   "metadata": {},
   "outputs": [
    {
     "data": {
      "text/plain": [
       "419209"
      ]
     },
     "execution_count": 8,
     "metadata": {},
     "output_type": "execute_result"
    }
   ],
   "source": [
    "len(unmarked_data)"
   ]
  },
  {
   "cell_type": "markdown",
   "id": "fdc06977",
   "metadata": {},
   "source": [
    "# Test embedding creation"
   ]
  },
  {
   "cell_type": "code",
   "execution_count": null,
   "id": "9cf137da",
   "metadata": {},
   "outputs": [],
   "source": [
    "def create_embeddings(text_series, batch_size: int = 1024):\n",
    "    embeddings_list = []\n",
    "    for i in tqdm(range(0, text_series.shape[0], batch_size)):\n",
    "        batch = text_series.iloc[i : i + batch_size]\n",
    "\n",
    "        embedding = MODEL(batch).numpy()\n",
    "        embeddings_list.append(embedding)\n",
    "\n",
    "    embeddings = np.concatenate(embeddings_list)\n",
    "    return embeddings"
   ]
  },
  {
   "cell_type": "code",
   "execution_count": null,
   "id": "947ffc7a",
   "metadata": {},
   "outputs": [],
   "source": [
    "X_test_raw = unmarked_data.work_name"
   ]
  },
  {
   "cell_type": "code",
   "execution_count": null,
   "id": "3234dcac",
   "metadata": {},
   "outputs": [],
   "source": [
    "embeddings_test = create_embeddings(X_test_raw)"
   ]
  },
  {
   "cell_type": "code",
   "execution_count": null,
   "id": "c13faa6a",
   "metadata": {},
   "outputs": [],
   "source": [
    "X_test = pd.DataFrame(embeddings_test, index=X_test_raw.index)"
   ]
  },
  {
   "cell_type": "code",
   "execution_count": null,
   "id": "b701405a",
   "metadata": {},
   "outputs": [],
   "source": [
    "X_test.to_csv(\"x_test.csv\")"
   ]
  }
 ],
 "metadata": {
  "kernelspec": {
   "display_name": "Python 3 (ipykernel)",
   "language": "python",
   "name": "python3"
  },
  "language_info": {
   "codemirror_mode": {
    "name": "ipython",
    "version": 3
   },
   "file_extension": ".py",
   "mimetype": "text/x-python",
   "name": "python",
   "nbconvert_exporter": "python",
   "pygments_lexer": "ipython3",
   "version": "3.11.5"
  }
 },
 "nbformat": 4,
 "nbformat_minor": 5
}
