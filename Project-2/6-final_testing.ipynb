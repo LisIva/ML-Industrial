{
 "cells": [
  {
   "cell_type": "markdown",
   "id": "d11058df",
   "metadata": {},
   "source": [
    "## Modules import"
   ]
  },
  {
   "cell_type": "code",
   "execution_count": 1,
   "id": "a6e824e7",
   "metadata": {},
   "outputs": [],
   "source": [
    "import pandas as pd\n",
    "import numpy as np\n",
    "from tqdm import tqdm\n",
    "\n",
    "from matplotlib import pyplot as plt\n",
    "from sklearn.preprocessing import OrdinalEncoder\n",
    "from sklearn.model_selection import train_test_split\n",
    "from sklearn.metrics import f1_score\n",
    "\n",
    "from sklearn.neighbors import KNeighborsClassifier\n",
    "from time import time"
   ]
  },
  {
   "cell_type": "code",
   "execution_count": 40,
   "id": "b1d471a5",
   "metadata": {},
   "outputs": [],
   "source": [
    "from sklearn.linear_model import LogisticRegression"
   ]
  },
  {
   "cell_type": "markdown",
   "id": "ea88a5a0",
   "metadata": {},
   "source": [
    "## Data import"
   ]
  },
  {
   "cell_type": "code",
   "execution_count": 2,
   "id": "581fdcc4",
   "metadata": {},
   "outputs": [],
   "source": [
    "data = pd.read_csv('lab2_oil_gas_field_construction_data.csv')\n",
    "marked_data = data[((data.generalized_work_class.notna())) & (data.global_work_class.notna())]\n",
    "\n",
    "embeddings_train = pd.read_csv('x_train.csv', index_col=\"Unnamed: 0\")\n",
    "embeddings_val = pd.read_csv('x_val.csv', index_col=\"Unnamed: 0\")\n",
    "embeddings_test = pd.read_csv('x_test.csv', index_col=\"Unnamed: 0\")"
   ]
  },
  {
   "cell_type": "code",
   "execution_count": 3,
   "id": "5a16674b",
   "metadata": {},
   "outputs": [],
   "source": [
    "test = pd.read_excel(\"lab2_test_dataset.xlsx\")"
   ]
  },
  {
   "cell_type": "code",
   "execution_count": 4,
   "id": "911dce4a",
   "metadata": {},
   "outputs": [],
   "source": [
    "test = test[~test[\"generalized_work_class\"].isna()]\n",
    "test = test[~test[\"global_work_class\"].isna()]\n",
    "test = test[~test[\"work_name\"].isna()]\n",
    "test = test[~test[\"index\"].isna()]"
   ]
  },
  {
   "cell_type": "code",
   "execution_count": 19,
   "id": "8daea1d5",
   "metadata": {},
   "outputs": [
    {
     "data": {
      "text/plain": [
       "work_name                 монтаж кипиа и зра с электроприводом\n",
       "generalized_work_class                                     NaN\n",
       "global_work_class                                          NaN\n",
       "upper_works                                                NaN\n",
       "Name: 464317, dtype: object"
      ]
     },
     "execution_count": 19,
     "metadata": {},
     "output_type": "execute_result"
    }
   ],
   "source": [
    "data.loc[464317]"
   ]
  },
  {
   "cell_type": "code",
   "execution_count": 91,
   "id": "e546f6e9",
   "metadata": {},
   "outputs": [
    {
     "data": {
      "text/plain": [
       "197881"
      ]
     },
     "execution_count": 91,
     "metadata": {},
     "output_type": "execute_result"
    }
   ],
   "source": [
    "len(test)"
   ]
  },
  {
   "cell_type": "code",
   "execution_count": 5,
   "id": "2314bcf4",
   "metadata": {},
   "outputs": [
    {
     "data": {
      "text/html": [
       "<div>\n",
       "<style scoped>\n",
       "    .dataframe tbody tr th:only-of-type {\n",
       "        vertical-align: middle;\n",
       "    }\n",
       "\n",
       "    .dataframe tbody tr th {\n",
       "        vertical-align: top;\n",
       "    }\n",
       "\n",
       "    .dataframe thead th {\n",
       "        text-align: right;\n",
       "    }\n",
       "</style>\n",
       "<table border=\"1\" class=\"dataframe\">\n",
       "  <thead>\n",
       "    <tr style=\"text-align: right;\">\n",
       "      <th></th>\n",
       "      <th>work_name</th>\n",
       "      <th>generalized_work_class</th>\n",
       "      <th>global_work_class</th>\n",
       "    </tr>\n",
       "    <tr>\n",
       "      <th>index</th>\n",
       "      <th></th>\n",
       "      <th></th>\n",
       "      <th></th>\n",
       "    </tr>\n",
       "  </thead>\n",
       "  <tbody>\n",
       "    <tr>\n",
       "      <th>507695</th>\n",
       "      <td>монтаж шаровых кранов, дроссельной шайбы, запо...</td>\n",
       "      <td>Монтаж мк</td>\n",
       "      <td>Монтаж мк</td>\n",
       "    </tr>\n",
       "    <tr>\n",
       "      <th>464317</th>\n",
       "      <td>монтаж кипиа и зра с электроприводом</td>\n",
       "      <td>Монтаж ЗРА</td>\n",
       "      <td>Монтаж</td>\n",
       "    </tr>\n",
       "  </tbody>\n",
       "</table>\n",
       "</div>"
      ],
      "text/plain": [
       "                                                work_name  \\\n",
       "index                                                       \n",
       "507695  монтаж шаровых кранов, дроссельной шайбы, запо...   \n",
       "464317               монтаж кипиа и зра с электроприводом   \n",
       "\n",
       "       generalized_work_class global_work_class  \n",
       "index                                            \n",
       "507695              Монтаж мк         Монтаж мк  \n",
       "464317             Монтаж ЗРА            Монтаж  "
      ]
     },
     "execution_count": 5,
     "metadata": {},
     "output_type": "execute_result"
    }
   ],
   "source": [
    "test[\"index\"] = test[\"index\"].astype(int)\n",
    "test.set_index(test[\"index\"], inplace=True)\n",
    "test.drop(columns=[\"index\"], inplace=True)\n",
    "test.head(2)"
   ]
  },
  {
   "cell_type": "code",
   "execution_count": 6,
   "id": "63295944",
   "metadata": {},
   "outputs": [
    {
     "data": {
      "text/plain": [
       "197881"
      ]
     },
     "execution_count": 6,
     "metadata": {},
     "output_type": "execute_result"
    }
   ],
   "source": [
    "embeddings_test = embeddings_test.loc[test.index]\n",
    "len(embeddings_test)"
   ]
  },
  {
   "cell_type": "code",
   "execution_count": 7,
   "id": "49bbb6db",
   "metadata": {},
   "outputs": [],
   "source": [
    "embeddings_train_all = pd.concat([embeddings_train, embeddings_val])"
   ]
  },
  {
   "cell_type": "code",
   "execution_count": 105,
   "id": "b2fc28ab",
   "metadata": {},
   "outputs": [
    {
     "data": {
      "text/html": [
       "<div>\n",
       "<style scoped>\n",
       "    .dataframe tbody tr th:only-of-type {\n",
       "        vertical-align: middle;\n",
       "    }\n",
       "\n",
       "    .dataframe tbody tr th {\n",
       "        vertical-align: top;\n",
       "    }\n",
       "\n",
       "    .dataframe thead th {\n",
       "        text-align: right;\n",
       "    }\n",
       "</style>\n",
       "<table border=\"1\" class=\"dataframe\">\n",
       "  <thead>\n",
       "    <tr style=\"text-align: right;\">\n",
       "      <th></th>\n",
       "      <th>0</th>\n",
       "      <th>1</th>\n",
       "      <th>2</th>\n",
       "      <th>3</th>\n",
       "      <th>4</th>\n",
       "      <th>5</th>\n",
       "      <th>6</th>\n",
       "      <th>7</th>\n",
       "      <th>8</th>\n",
       "      <th>9</th>\n",
       "      <th>...</th>\n",
       "      <th>502</th>\n",
       "      <th>503</th>\n",
       "      <th>504</th>\n",
       "      <th>505</th>\n",
       "      <th>506</th>\n",
       "      <th>507</th>\n",
       "      <th>508</th>\n",
       "      <th>509</th>\n",
       "      <th>510</th>\n",
       "      <th>511</th>\n",
       "    </tr>\n",
       "  </thead>\n",
       "  <tbody>\n",
       "    <tr>\n",
       "      <th>608828</th>\n",
       "      <td>0.08920</td>\n",
       "      <td>0.009223</td>\n",
       "      <td>-0.019070</td>\n",
       "      <td>-0.003863</td>\n",
       "      <td>-0.082208</td>\n",
       "      <td>0.064999</td>\n",
       "      <td>0.041418</td>\n",
       "      <td>0.081321</td>\n",
       "      <td>0.058563</td>\n",
       "      <td>0.048179</td>\n",
       "      <td>...</td>\n",
       "      <td>-0.076867</td>\n",
       "      <td>0.009255</td>\n",
       "      <td>0.016595</td>\n",
       "      <td>0.106060</td>\n",
       "      <td>0.001887</td>\n",
       "      <td>0.025737</td>\n",
       "      <td>-0.000173</td>\n",
       "      <td>-0.012725</td>\n",
       "      <td>-0.037370</td>\n",
       "      <td>0.060899</td>\n",
       "    </tr>\n",
       "    <tr>\n",
       "      <th>699546</th>\n",
       "      <td>0.09023</td>\n",
       "      <td>-0.012241</td>\n",
       "      <td>-0.046547</td>\n",
       "      <td>0.015321</td>\n",
       "      <td>-0.067068</td>\n",
       "      <td>0.079483</td>\n",
       "      <td>-0.094171</td>\n",
       "      <td>0.037245</td>\n",
       "      <td>0.058103</td>\n",
       "      <td>0.022777</td>\n",
       "      <td>...</td>\n",
       "      <td>-0.057203</td>\n",
       "      <td>-0.007346</td>\n",
       "      <td>0.027031</td>\n",
       "      <td>0.079532</td>\n",
       "      <td>-0.032168</td>\n",
       "      <td>0.055671</td>\n",
       "      <td>0.050986</td>\n",
       "      <td>-0.029939</td>\n",
       "      <td>-0.038647</td>\n",
       "      <td>0.056857</td>\n",
       "    </tr>\n",
       "  </tbody>\n",
       "</table>\n",
       "<p>2 rows × 512 columns</p>\n",
       "</div>"
      ],
      "text/plain": [
       "              0         1         2         3         4         5         6  \\\n",
       "608828  0.08920  0.009223 -0.019070 -0.003863 -0.082208  0.064999  0.041418   \n",
       "699546  0.09023 -0.012241 -0.046547  0.015321 -0.067068  0.079483 -0.094171   \n",
       "\n",
       "               7         8         9  ...       502       503       504  \\\n",
       "608828  0.081321  0.058563  0.048179  ... -0.076867  0.009255  0.016595   \n",
       "699546  0.037245  0.058103  0.022777  ... -0.057203 -0.007346  0.027031   \n",
       "\n",
       "             505       506       507       508       509       510       511  \n",
       "608828  0.106060  0.001887  0.025737 -0.000173 -0.012725 -0.037370  0.060899  \n",
       "699546  0.079532 -0.032168  0.055671  0.050986 -0.029939 -0.038647  0.056857  \n",
       "\n",
       "[2 rows x 512 columns]"
      ]
     },
     "execution_count": 105,
     "metadata": {},
     "output_type": "execute_result"
    }
   ],
   "source": [
    "embeddings_train_all.tail(2)"
   ]
  },
  {
   "cell_type": "code",
   "execution_count": 106,
   "id": "12b05f74",
   "metadata": {},
   "outputs": [
    {
     "data": {
      "text/html": [
       "<div>\n",
       "<style scoped>\n",
       "    .dataframe tbody tr th:only-of-type {\n",
       "        vertical-align: middle;\n",
       "    }\n",
       "\n",
       "    .dataframe tbody tr th {\n",
       "        vertical-align: top;\n",
       "    }\n",
       "\n",
       "    .dataframe thead th {\n",
       "        text-align: right;\n",
       "    }\n",
       "</style>\n",
       "<table border=\"1\" class=\"dataframe\">\n",
       "  <thead>\n",
       "    <tr style=\"text-align: right;\">\n",
       "      <th></th>\n",
       "      <th>0</th>\n",
       "      <th>1</th>\n",
       "      <th>2</th>\n",
       "      <th>3</th>\n",
       "      <th>4</th>\n",
       "      <th>5</th>\n",
       "      <th>6</th>\n",
       "      <th>7</th>\n",
       "      <th>8</th>\n",
       "      <th>9</th>\n",
       "      <th>...</th>\n",
       "      <th>502</th>\n",
       "      <th>503</th>\n",
       "      <th>504</th>\n",
       "      <th>505</th>\n",
       "      <th>506</th>\n",
       "      <th>507</th>\n",
       "      <th>508</th>\n",
       "      <th>509</th>\n",
       "      <th>510</th>\n",
       "      <th>511</th>\n",
       "    </tr>\n",
       "  </thead>\n",
       "  <tbody>\n",
       "    <tr>\n",
       "      <th>608828</th>\n",
       "      <td>0.08920</td>\n",
       "      <td>0.009223</td>\n",
       "      <td>-0.019070</td>\n",
       "      <td>-0.003863</td>\n",
       "      <td>-0.082208</td>\n",
       "      <td>0.064999</td>\n",
       "      <td>0.041418</td>\n",
       "      <td>0.081321</td>\n",
       "      <td>0.058563</td>\n",
       "      <td>0.048179</td>\n",
       "      <td>...</td>\n",
       "      <td>-0.076867</td>\n",
       "      <td>0.009255</td>\n",
       "      <td>0.016595</td>\n",
       "      <td>0.106060</td>\n",
       "      <td>0.001887</td>\n",
       "      <td>0.025737</td>\n",
       "      <td>-0.000173</td>\n",
       "      <td>-0.012725</td>\n",
       "      <td>-0.037370</td>\n",
       "      <td>0.060899</td>\n",
       "    </tr>\n",
       "    <tr>\n",
       "      <th>699546</th>\n",
       "      <td>0.09023</td>\n",
       "      <td>-0.012241</td>\n",
       "      <td>-0.046547</td>\n",
       "      <td>0.015321</td>\n",
       "      <td>-0.067068</td>\n",
       "      <td>0.079483</td>\n",
       "      <td>-0.094171</td>\n",
       "      <td>0.037245</td>\n",
       "      <td>0.058103</td>\n",
       "      <td>0.022777</td>\n",
       "      <td>...</td>\n",
       "      <td>-0.057203</td>\n",
       "      <td>-0.007346</td>\n",
       "      <td>0.027031</td>\n",
       "      <td>0.079532</td>\n",
       "      <td>-0.032168</td>\n",
       "      <td>0.055671</td>\n",
       "      <td>0.050986</td>\n",
       "      <td>-0.029939</td>\n",
       "      <td>-0.038647</td>\n",
       "      <td>0.056857</td>\n",
       "    </tr>\n",
       "  </tbody>\n",
       "</table>\n",
       "<p>2 rows × 512 columns</p>\n",
       "</div>"
      ],
      "text/plain": [
       "              0         1         2         3         4         5         6  \\\n",
       "608828  0.08920  0.009223 -0.019070 -0.003863 -0.082208  0.064999  0.041418   \n",
       "699546  0.09023 -0.012241 -0.046547  0.015321 -0.067068  0.079483 -0.094171   \n",
       "\n",
       "               7         8         9  ...       502       503       504  \\\n",
       "608828  0.081321  0.058563  0.048179  ... -0.076867  0.009255  0.016595   \n",
       "699546  0.037245  0.058103  0.022777  ... -0.057203 -0.007346  0.027031   \n",
       "\n",
       "             505       506       507       508       509       510       511  \n",
       "608828  0.106060  0.001887  0.025737 -0.000173 -0.012725 -0.037370  0.060899  \n",
       "699546  0.079532 -0.032168  0.055671  0.050986 -0.029939 -0.038647  0.056857  \n",
       "\n",
       "[2 rows x 512 columns]"
      ]
     },
     "execution_count": 106,
     "metadata": {},
     "output_type": "execute_result"
    }
   ],
   "source": [
    "embeddings_val.tail(2)"
   ]
  },
  {
   "cell_type": "code",
   "execution_count": 107,
   "id": "42794da7",
   "metadata": {},
   "outputs": [
    {
     "data": {
      "text/html": [
       "<div>\n",
       "<style scoped>\n",
       "    .dataframe tbody tr th:only-of-type {\n",
       "        vertical-align: middle;\n",
       "    }\n",
       "\n",
       "    .dataframe tbody tr th {\n",
       "        vertical-align: top;\n",
       "    }\n",
       "\n",
       "    .dataframe thead th {\n",
       "        text-align: right;\n",
       "    }\n",
       "</style>\n",
       "<table border=\"1\" class=\"dataframe\">\n",
       "  <thead>\n",
       "    <tr style=\"text-align: right;\">\n",
       "      <th></th>\n",
       "      <th>0</th>\n",
       "      <th>1</th>\n",
       "      <th>2</th>\n",
       "      <th>3</th>\n",
       "      <th>4</th>\n",
       "      <th>5</th>\n",
       "      <th>6</th>\n",
       "      <th>7</th>\n",
       "      <th>8</th>\n",
       "      <th>9</th>\n",
       "      <th>...</th>\n",
       "      <th>502</th>\n",
       "      <th>503</th>\n",
       "      <th>504</th>\n",
       "      <th>505</th>\n",
       "      <th>506</th>\n",
       "      <th>507</th>\n",
       "      <th>508</th>\n",
       "      <th>509</th>\n",
       "      <th>510</th>\n",
       "      <th>511</th>\n",
       "    </tr>\n",
       "  </thead>\n",
       "  <tbody>\n",
       "    <tr>\n",
       "      <th>225625</th>\n",
       "      <td>0.094319</td>\n",
       "      <td>-0.022503</td>\n",
       "      <td>-0.051255</td>\n",
       "      <td>0.020912</td>\n",
       "      <td>-0.077827</td>\n",
       "      <td>0.074578</td>\n",
       "      <td>-0.088200</td>\n",
       "      <td>0.032821</td>\n",
       "      <td>0.045553</td>\n",
       "      <td>0.025431</td>\n",
       "      <td>...</td>\n",
       "      <td>-0.064423</td>\n",
       "      <td>-0.016055</td>\n",
       "      <td>0.039017</td>\n",
       "      <td>0.074969</td>\n",
       "      <td>-0.019998</td>\n",
       "      <td>0.064222</td>\n",
       "      <td>0.051063</td>\n",
       "      <td>-0.027311</td>\n",
       "      <td>-0.024215</td>\n",
       "      <td>0.051081</td>\n",
       "    </tr>\n",
       "    <tr>\n",
       "      <th>238367</th>\n",
       "      <td>-0.043785</td>\n",
       "      <td>-0.008877</td>\n",
       "      <td>0.012008</td>\n",
       "      <td>0.069170</td>\n",
       "      <td>-0.061046</td>\n",
       "      <td>0.045380</td>\n",
       "      <td>-0.021549</td>\n",
       "      <td>0.034831</td>\n",
       "      <td>0.044076</td>\n",
       "      <td>0.008401</td>\n",
       "      <td>...</td>\n",
       "      <td>0.000976</td>\n",
       "      <td>-0.038714</td>\n",
       "      <td>-0.008661</td>\n",
       "      <td>0.057099</td>\n",
       "      <td>-0.018799</td>\n",
       "      <td>0.072227</td>\n",
       "      <td>0.054251</td>\n",
       "      <td>-0.022674</td>\n",
       "      <td>-0.061255</td>\n",
       "      <td>0.028011</td>\n",
       "    </tr>\n",
       "  </tbody>\n",
       "</table>\n",
       "<p>2 rows × 512 columns</p>\n",
       "</div>"
      ],
      "text/plain": [
       "               0         1         2         3         4         5         6  \\\n",
       "225625  0.094319 -0.022503 -0.051255  0.020912 -0.077827  0.074578 -0.088200   \n",
       "238367 -0.043785 -0.008877  0.012008  0.069170 -0.061046  0.045380 -0.021549   \n",
       "\n",
       "               7         8         9  ...       502       503       504  \\\n",
       "225625  0.032821  0.045553  0.025431  ... -0.064423 -0.016055  0.039017   \n",
       "238367  0.034831  0.044076  0.008401  ...  0.000976 -0.038714 -0.008661   \n",
       "\n",
       "             505       506       507       508       509       510       511  \n",
       "225625  0.074969 -0.019998  0.064222  0.051063 -0.027311 -0.024215  0.051081  \n",
       "238367  0.057099 -0.018799  0.072227  0.054251 -0.022674 -0.061255  0.028011  \n",
       "\n",
       "[2 rows x 512 columns]"
      ]
     },
     "execution_count": 107,
     "metadata": {},
     "output_type": "execute_result"
    }
   ],
   "source": [
    "embeddings_train.head(2)"
   ]
  },
  {
   "cell_type": "code",
   "execution_count": 48,
   "id": "3c6d9f21",
   "metadata": {},
   "outputs": [
    {
     "data": {
      "text/html": [
       "<div>\n",
       "<style scoped>\n",
       "    .dataframe tbody tr th:only-of-type {\n",
       "        vertical-align: middle;\n",
       "    }\n",
       "\n",
       "    .dataframe tbody tr th {\n",
       "        vertical-align: top;\n",
       "    }\n",
       "\n",
       "    .dataframe thead th {\n",
       "        text-align: right;\n",
       "    }\n",
       "</style>\n",
       "<table border=\"1\" class=\"dataframe\">\n",
       "  <thead>\n",
       "    <tr style=\"text-align: right;\">\n",
       "      <th></th>\n",
       "      <th>0</th>\n",
       "      <th>1</th>\n",
       "      <th>2</th>\n",
       "      <th>3</th>\n",
       "      <th>4</th>\n",
       "      <th>5</th>\n",
       "      <th>6</th>\n",
       "      <th>7</th>\n",
       "      <th>8</th>\n",
       "      <th>9</th>\n",
       "      <th>...</th>\n",
       "      <th>502</th>\n",
       "      <th>503</th>\n",
       "      <th>504</th>\n",
       "      <th>505</th>\n",
       "      <th>506</th>\n",
       "      <th>507</th>\n",
       "      <th>508</th>\n",
       "      <th>509</th>\n",
       "      <th>510</th>\n",
       "      <th>511</th>\n",
       "    </tr>\n",
       "  </thead>\n",
       "  <tbody>\n",
       "    <tr>\n",
       "      <th>608828</th>\n",
       "      <td>0.08920</td>\n",
       "      <td>0.009223</td>\n",
       "      <td>-0.019070</td>\n",
       "      <td>-0.003863</td>\n",
       "      <td>-0.082208</td>\n",
       "      <td>0.064999</td>\n",
       "      <td>0.041418</td>\n",
       "      <td>0.081321</td>\n",
       "      <td>0.058563</td>\n",
       "      <td>0.048179</td>\n",
       "      <td>...</td>\n",
       "      <td>-0.076867</td>\n",
       "      <td>0.009255</td>\n",
       "      <td>0.016595</td>\n",
       "      <td>0.106060</td>\n",
       "      <td>0.001887</td>\n",
       "      <td>0.025737</td>\n",
       "      <td>-0.000173</td>\n",
       "      <td>-0.012725</td>\n",
       "      <td>-0.037370</td>\n",
       "      <td>0.060899</td>\n",
       "    </tr>\n",
       "    <tr>\n",
       "      <th>699546</th>\n",
       "      <td>0.09023</td>\n",
       "      <td>-0.012241</td>\n",
       "      <td>-0.046547</td>\n",
       "      <td>0.015321</td>\n",
       "      <td>-0.067068</td>\n",
       "      <td>0.079483</td>\n",
       "      <td>-0.094171</td>\n",
       "      <td>0.037245</td>\n",
       "      <td>0.058103</td>\n",
       "      <td>0.022777</td>\n",
       "      <td>...</td>\n",
       "      <td>-0.057203</td>\n",
       "      <td>-0.007346</td>\n",
       "      <td>0.027031</td>\n",
       "      <td>0.079532</td>\n",
       "      <td>-0.032168</td>\n",
       "      <td>0.055671</td>\n",
       "      <td>0.050986</td>\n",
       "      <td>-0.029939</td>\n",
       "      <td>-0.038647</td>\n",
       "      <td>0.056857</td>\n",
       "    </tr>\n",
       "  </tbody>\n",
       "</table>\n",
       "<p>2 rows × 512 columns</p>\n",
       "</div>"
      ],
      "text/plain": [
       "              0         1         2         3         4         5         6  \\\n",
       "608828  0.08920  0.009223 -0.019070 -0.003863 -0.082208  0.064999  0.041418   \n",
       "699546  0.09023 -0.012241 -0.046547  0.015321 -0.067068  0.079483 -0.094171   \n",
       "\n",
       "               7         8         9  ...       502       503       504  \\\n",
       "608828  0.081321  0.058563  0.048179  ... -0.076867  0.009255  0.016595   \n",
       "699546  0.037245  0.058103  0.022777  ... -0.057203 -0.007346  0.027031   \n",
       "\n",
       "             505       506       507       508       509       510       511  \n",
       "608828  0.106060  0.001887  0.025737 -0.000173 -0.012725 -0.037370  0.060899  \n",
       "699546  0.079532 -0.032168  0.055671  0.050986 -0.029939 -0.038647  0.056857  \n",
       "\n",
       "[2 rows x 512 columns]"
      ]
     },
     "execution_count": 48,
     "metadata": {},
     "output_type": "execute_result"
    }
   ],
   "source": [
    "embeddings_train_all.tail(2)"
   ]
  },
  {
   "cell_type": "code",
   "execution_count": 110,
   "id": "f091e66a",
   "metadata": {},
   "outputs": [
    {
     "data": {
      "text/plain": [
       "296858"
      ]
     },
     "execution_count": 110,
     "metadata": {},
     "output_type": "execute_result"
    }
   ],
   "source": [
    "len(marked_data)"
   ]
  },
  {
   "cell_type": "code",
   "execution_count": 111,
   "id": "56c40dd5",
   "metadata": {},
   "outputs": [
    {
     "data": {
      "text/plain": [
       "296858"
      ]
     },
     "execution_count": 111,
     "metadata": {},
     "output_type": "execute_result"
    }
   ],
   "source": [
    "len(embeddings_train_all)"
   ]
  },
  {
   "cell_type": "code",
   "execution_count": 46,
   "id": "17e9f135",
   "metadata": {},
   "outputs": [],
   "source": [
    "y1_train_raw = marked_data.generalized_work_class.loc[embeddings_train_all.index]\n",
    "y2_train_raw = marked_data.global_work_class.loc[embeddings_train_all.index]"
   ]
  },
  {
   "cell_type": "code",
   "execution_count": 47,
   "id": "706bd52d",
   "metadata": {},
   "outputs": [
    {
     "data": {
      "text/plain": [
       "225625       Монтаж теплоизоляции\n",
       "238367    Заполнение полости свай\n",
       "357855                  Монтаж мк\n",
       "270696        Монтаж трубопровода\n",
       "54329              Засыпка щебнем\n",
       "                   ...           \n",
       "253575          Изготовление свай\n",
       "535045          Монтаж ростверков\n",
       "474034        Монтаж трубопровода\n",
       "608828             Гидроиспытания\n",
       "699546       Монтаж теплоизоляции\n",
       "Name: generalized_work_class, Length: 296858, dtype: object"
      ]
     },
     "execution_count": 47,
     "metadata": {},
     "output_type": "execute_result"
    }
   ],
   "source": [
    "y1_train_raw"
   ]
  },
  {
   "cell_type": "markdown",
   "id": "7faa1a80",
   "metadata": {},
   "source": [
    "## Targets encoding"
   ]
  },
  {
   "cell_type": "code",
   "execution_count": 50,
   "id": "29904880",
   "metadata": {},
   "outputs": [],
   "source": [
    "generalized_encoder = OrdinalEncoder(handle_unknown='use_encoded_value', unknown_value=-1)\n",
    "global_encoder = OrdinalEncoder(handle_unknown='use_encoded_value', unknown_value=-1)"
   ]
  },
  {
   "cell_type": "code",
   "execution_count": 51,
   "id": "ef33b5c3",
   "metadata": {},
   "outputs": [],
   "source": [
    "y1_train = pd.Series(\n",
    "    generalized_encoder.fit_transform(\n",
    "        y1_train_raw.values.reshape(-1, 1)\n",
    "    ).flatten(),\n",
    "    index=y1_train_raw.index,\n",
    ")\n",
    "\n",
    "y2_train = pd.Series(\n",
    "    global_encoder.fit_transform(\n",
    "        y2_train_raw.values.reshape(-1, 1)\n",
    "    ).flatten(),\n",
    "    index=y2_train_raw.index,\n",
    ")"
   ]
  },
  {
   "cell_type": "code",
   "execution_count": 52,
   "id": "f8c5255e",
   "metadata": {},
   "outputs": [],
   "source": [
    "y1_test = pd.Series(\n",
    "    generalized_encoder.transform(\n",
    "        test.generalized_work_class.values.reshape(-1, 1)\n",
    "    ).flatten(),\n",
    "    index=test.index,\n",
    ")\n",
    "\n",
    "y2_test = pd.Series(\n",
    "    global_encoder.transform(\n",
    "        test.global_work_class.values.reshape(-1, 1)\n",
    "    ).flatten(),\n",
    "    index=test.index,\n",
    ")"
   ]
  },
  {
   "cell_type": "markdown",
   "id": "9e5a2681",
   "metadata": {},
   "source": [
    "## Testing"
   ]
  },
  {
   "cell_type": "code",
   "execution_count": 53,
   "id": "d135a277",
   "metadata": {},
   "outputs": [],
   "source": [
    "def show_metrics1(predictions):\n",
    "    f1_score_1_micro = f1_score(y1_test, predictions, average='micro')\n",
    "    f1_score_1_macro = f1_score(y1_test, predictions, average='macro')\n",
    "    \n",
    "    show_df = pd.DataFrame(\n",
    "        {\n",
    "        'generalized_work_class': [f1_score_1_micro, f1_score_1_macro]\n",
    "        },\n",
    "        index=['F1 micro', 'F1 macro']\n",
    "    ).round(6)\n",
    "    \n",
    "    return show_df"
   ]
  },
  {
   "cell_type": "code",
   "execution_count": 54,
   "id": "6301c73c",
   "metadata": {},
   "outputs": [],
   "source": [
    "def show_metrics2(predictions):\n",
    "    f1_score_2_micro = f1_score(y2_test, predictions, average='micro')\n",
    "    f1_score_2_macro = f1_score(y2_test, predictions, average='macro')\n",
    "    \n",
    "    show_df = pd.DataFrame(\n",
    "        {\n",
    "        'global_work_class': [f1_score_2_micro, f1_score_2_macro]\n",
    "        },\n",
    "        index=['F1 micro', 'F1 macro']\n",
    "    ).round(6)\n",
    "    \n",
    "    return show_df"
   ]
  },
  {
   "cell_type": "code",
   "execution_count": 55,
   "id": "4e3b499e",
   "metadata": {},
   "outputs": [
    {
     "name": "stdout",
     "output_type": "stream",
     "text": [
      "Time for training, s: 0.65\n",
      "Time for testing, s: 168.69\n"
     ]
    }
   ],
   "source": [
    "moment1 = time()\n",
    "knn1 =  KNeighborsClassifier(weights=\"distance\", metric='minkowski', n_neighbors=4)\n",
    "knn1.fit(embeddings_train_all, y1_train)\n",
    "moment2 = time()\n",
    "\n",
    "knn1_preds = knn1.predict(embeddings_test)\n",
    "moment3 = time()\n",
    "\n",
    "print(f\"Time for training, s: {(moment2-moment1):.2f}\")\n",
    "print(f\"Time for testing, s: {(moment3-moment2):.2f}\")"
   ]
  },
  {
   "cell_type": "code",
   "execution_count": 57,
   "id": "08e867b3",
   "metadata": {},
   "outputs": [
    {
     "name": "stdout",
     "output_type": "stream",
     "text": [
      "Time for training, s: 0.64\n",
      "Time for testing, s: 168.63\n"
     ]
    }
   ],
   "source": [
    "moment1 = time()\n",
    "knn2 =  KNeighborsClassifier(weights=\"distance\", n_neighbors=4)\n",
    "knn2.fit(embeddings_train_all, y2_train)\n",
    "moment2 = time()\n",
    "\n",
    "knn2_preds = knn2.predict(embeddings_test)\n",
    "moment3 = time()\n",
    "\n",
    "print(f\"Time for training, s: {(moment2-moment1):.2f}\")\n",
    "print(f\"Time for testing, s: {(moment3-moment2):.2f}\")"
   ]
  },
  {
   "cell_type": "code",
   "execution_count": 56,
   "id": "de36623e",
   "metadata": {},
   "outputs": [
    {
     "data": {
      "text/html": [
       "<div>\n",
       "<style scoped>\n",
       "    .dataframe tbody tr th:only-of-type {\n",
       "        vertical-align: middle;\n",
       "    }\n",
       "\n",
       "    .dataframe tbody tr th {\n",
       "        vertical-align: top;\n",
       "    }\n",
       "\n",
       "    .dataframe thead th {\n",
       "        text-align: right;\n",
       "    }\n",
       "</style>\n",
       "<table border=\"1\" class=\"dataframe\">\n",
       "  <thead>\n",
       "    <tr style=\"text-align: right;\">\n",
       "      <th></th>\n",
       "      <th>generalized_work_class</th>\n",
       "    </tr>\n",
       "  </thead>\n",
       "  <tbody>\n",
       "    <tr>\n",
       "      <th>F1 micro</th>\n",
       "      <td>0.995730</td>\n",
       "    </tr>\n",
       "    <tr>\n",
       "      <th>F1 macro</th>\n",
       "      <td>0.971533</td>\n",
       "    </tr>\n",
       "  </tbody>\n",
       "</table>\n",
       "</div>"
      ],
      "text/plain": [
       "          generalized_work_class\n",
       "F1 micro                0.995730\n",
       "F1 macro                0.971533"
      ]
     },
     "execution_count": 56,
     "metadata": {},
     "output_type": "execute_result"
    }
   ],
   "source": [
    "show_metrics1(knn1_preds)"
   ]
  },
  {
   "cell_type": "code",
   "execution_count": 58,
   "id": "c40ddd10",
   "metadata": {},
   "outputs": [
    {
     "data": {
      "text/html": [
       "<div>\n",
       "<style scoped>\n",
       "    .dataframe tbody tr th:only-of-type {\n",
       "        vertical-align: middle;\n",
       "    }\n",
       "\n",
       "    .dataframe tbody tr th {\n",
       "        vertical-align: top;\n",
       "    }\n",
       "\n",
       "    .dataframe thead th {\n",
       "        text-align: right;\n",
       "    }\n",
       "</style>\n",
       "<table border=\"1\" class=\"dataframe\">\n",
       "  <thead>\n",
       "    <tr style=\"text-align: right;\">\n",
       "      <th></th>\n",
       "      <th>global_work_class</th>\n",
       "    </tr>\n",
       "  </thead>\n",
       "  <tbody>\n",
       "    <tr>\n",
       "      <th>F1 micro</th>\n",
       "      <td>0.996387</td>\n",
       "    </tr>\n",
       "    <tr>\n",
       "      <th>F1 macro</th>\n",
       "      <td>0.985600</td>\n",
       "    </tr>\n",
       "  </tbody>\n",
       "</table>\n",
       "</div>"
      ],
      "text/plain": [
       "          global_work_class\n",
       "F1 micro           0.996387\n",
       "F1 macro           0.985600"
      ]
     },
     "execution_count": 58,
     "metadata": {},
     "output_type": "execute_result"
    }
   ],
   "source": [
    "show_metrics2(knn2_preds)"
   ]
  },
  {
   "cell_type": "markdown",
   "id": "b89c8a69",
   "metadata": {},
   "source": [
    "## Hypothesis testing"
   ]
  },
  {
   "cell_type": "code",
   "execution_count": 59,
   "id": "a4ee2305",
   "metadata": {},
   "outputs": [],
   "source": [
    "key_pairs_info = marked_data.groupby([\"generalized_work_class\", \"global_work_class\"]).size()\n",
    "\n",
    "keys1, keys2 = [], []\n",
    "for key1, key2 in list(key_pairs_info.index):\n",
    "    keys1.append(key1)\n",
    "    keys2.append(key2)\n",
    "    \n",
    "key_pairs_info_idx = pd.DataFrame(list(zip(keys1, keys2)), columns=[\"generalized_work_class\", \"global_work_class\"])"
   ]
  },
  {
   "cell_type": "code",
   "execution_count": 60,
   "id": "7435f39c",
   "metadata": {},
   "outputs": [
    {
     "name": "stderr",
     "output_type": "stream",
     "text": [
      "C:\\Users\\Ivik12S\\AppData\\Local\\Temp\\ipykernel_7060\\881720552.py:3: SettingWithCopyWarning: \n",
      "A value is trying to be set on a copy of a slice from a DataFrame.\n",
      "Try using .loc[row_indexer,col_indexer] = value instead\n",
      "\n",
      "See the caveats in the documentation: https://pandas.pydata.org/pandas-docs/stable/user_guide/indexing.html#returning-a-view-versus-a-copy\n",
      "  marked_data[\"Index\"] = pd.Series(marked_data.index, index=marked_data.index)\n"
     ]
    }
   ],
   "source": [
    "sur_first_keys = key_pairs_info_idx.generalized_work_class[~key_pairs_info_idx.generalized_work_class.duplicated(keep=False)]\n",
    "\n",
    "marked_data[\"Index\"] = pd.Series(marked_data.index, index=marked_data.index)\n",
    "sur_marked_data = marked_data.merge(sur_first_keys, \n",
    "                                    on=\"generalized_work_class\").set_index(\"Index\")\n",
    "sur_keys_data = sur_marked_data[[\"generalized_work_class\", \"global_work_class\"]].drop_duplicates()"
   ]
  },
  {
   "cell_type": "code",
   "execution_count": 61,
   "id": "7373d21b",
   "metadata": {},
   "outputs": [
    {
     "data": {
      "text/html": [
       "<div>\n",
       "<style scoped>\n",
       "    .dataframe tbody tr th:only-of-type {\n",
       "        vertical-align: middle;\n",
       "    }\n",
       "\n",
       "    .dataframe tbody tr th {\n",
       "        vertical-align: top;\n",
       "    }\n",
       "\n",
       "    .dataframe thead th {\n",
       "        text-align: right;\n",
       "    }\n",
       "</style>\n",
       "<table border=\"1\" class=\"dataframe\">\n",
       "  <thead>\n",
       "    <tr style=\"text-align: right;\">\n",
       "      <th></th>\n",
       "      <th>generalized_work_class</th>\n",
       "      <th>global_work_class</th>\n",
       "    </tr>\n",
       "  </thead>\n",
       "  <tbody>\n",
       "    <tr>\n",
       "      <th>0</th>\n",
       "      <td>132.0</td>\n",
       "      <td>54.0</td>\n",
       "    </tr>\n",
       "    <tr>\n",
       "      <th>1</th>\n",
       "      <td>157.0</td>\n",
       "      <td>26.0</td>\n",
       "    </tr>\n",
       "  </tbody>\n",
       "</table>\n",
       "</div>"
      ],
      "text/plain": [
       "   generalized_work_class  global_work_class\n",
       "0                   132.0               54.0\n",
       "1                   157.0               26.0"
      ]
     },
     "execution_count": 61,
     "metadata": {},
     "output_type": "execute_result"
    }
   ],
   "source": [
    "row1 = pd.Series(\n",
    "    generalized_encoder.transform(sur_keys_data \\\n",
    "                             .generalized_work_class \\\n",
    "                             .values.reshape(-1, 1)) \\\n",
    "                             .flatten(),\n",
    "    name=\"generalized_work_class\")\n",
    "\n",
    "row2 = pd.Series(\n",
    "    global_encoder.transform(sur_keys_data \\\n",
    "                             .global_work_class \\\n",
    "                             .values.reshape(-1, 1)) \\\n",
    "                             .flatten(),\n",
    "    name=\"global_work_class\")\n",
    "\n",
    "sur_keys_encoded = pd.concat([row1, row2], axis=1)\n",
    "sur_keys_encoded.head(2)"
   ]
  },
  {
   "cell_type": "code",
   "execution_count": 62,
   "id": "a8a6e2ff",
   "metadata": {},
   "outputs": [],
   "source": [
    "knn1_preds_series = pd.Series(knn1_preds, index=test.index, name=\"generalized_work_class\")\n",
    "knn2_preds_series = pd.Series(knn2_preds, index=test.index, name=\"global_work_class\")"
   ]
  },
  {
   "cell_type": "code",
   "execution_count": 64,
   "id": "547443a4",
   "metadata": {},
   "outputs": [
    {
     "data": {
      "text/html": [
       "<div>\n",
       "<style scoped>\n",
       "    .dataframe tbody tr th:only-of-type {\n",
       "        vertical-align: middle;\n",
       "    }\n",
       "\n",
       "    .dataframe tbody tr th {\n",
       "        vertical-align: top;\n",
       "    }\n",
       "\n",
       "    .dataframe thead th {\n",
       "        text-align: right;\n",
       "    }\n",
       "</style>\n",
       "<table border=\"1\" class=\"dataframe\">\n",
       "  <thead>\n",
       "    <tr style=\"text-align: right;\">\n",
       "      <th></th>\n",
       "      <th>generalized_work_class</th>\n",
       "      <th>global_work_class</th>\n",
       "    </tr>\n",
       "    <tr>\n",
       "      <th>index</th>\n",
       "      <th></th>\n",
       "      <th></th>\n",
       "    </tr>\n",
       "  </thead>\n",
       "  <tbody>\n",
       "    <tr>\n",
       "      <th>507695</th>\n",
       "      <td>139.0</td>\n",
       "      <td>34.0</td>\n",
       "    </tr>\n",
       "    <tr>\n",
       "      <th>464317</th>\n",
       "      <td>80.0</td>\n",
       "      <td>26.0</td>\n",
       "    </tr>\n",
       "  </tbody>\n",
       "</table>\n",
       "</div>"
      ],
      "text/plain": [
       "        generalized_work_class  global_work_class\n",
       "index                                            \n",
       "507695                   139.0               34.0\n",
       "464317                    80.0               26.0"
      ]
     },
     "execution_count": 64,
     "metadata": {},
     "output_type": "execute_result"
    }
   ],
   "source": [
    "knns_def_preds = knn1_preds_series.to_frame()\\\n",
    "            .merge(sur_keys_encoded, on=\"generalized_work_class\", how=\"left\")\\\n",
    "            .set_index(y1_test.index)\n",
    "knns_def_preds.head(2)"
   ]
  },
  {
   "cell_type": "code",
   "execution_count": 65,
   "id": "ba2e27f2",
   "metadata": {},
   "outputs": [],
   "source": [
    "knn_idxs = knns_def_preds.global_work_class[knns_def_preds.global_work_class.isna()].index"
   ]
  },
  {
   "cell_type": "code",
   "execution_count": 66,
   "id": "e1e6e714",
   "metadata": {},
   "outputs": [],
   "source": [
    "knns_def_preds.loc[knn_idxs, \"global_work_class\"] = knn2_preds_series[knn_idxs]"
   ]
  },
  {
   "cell_type": "code",
   "execution_count": 67,
   "id": "103c4206",
   "metadata": {},
   "outputs": [],
   "source": [
    "knn_pred_gen = knns_def_preds.generalized_work_class.values\n",
    "knn_pred_glob = knns_def_preds.global_work_class.values"
   ]
  },
  {
   "cell_type": "code",
   "execution_count": 68,
   "id": "0702b28a",
   "metadata": {},
   "outputs": [
    {
     "data": {
      "text/html": [
       "<div>\n",
       "<style scoped>\n",
       "    .dataframe tbody tr th:only-of-type {\n",
       "        vertical-align: middle;\n",
       "    }\n",
       "\n",
       "    .dataframe tbody tr th {\n",
       "        vertical-align: top;\n",
       "    }\n",
       "\n",
       "    .dataframe thead th {\n",
       "        text-align: right;\n",
       "    }\n",
       "</style>\n",
       "<table border=\"1\" class=\"dataframe\">\n",
       "  <thead>\n",
       "    <tr style=\"text-align: right;\">\n",
       "      <th></th>\n",
       "      <th>global_work_class</th>\n",
       "    </tr>\n",
       "  </thead>\n",
       "  <tbody>\n",
       "    <tr>\n",
       "      <th>F1 micro</th>\n",
       "      <td>0.996367</td>\n",
       "    </tr>\n",
       "    <tr>\n",
       "      <th>F1 macro</th>\n",
       "      <td>0.985680</td>\n",
       "    </tr>\n",
       "  </tbody>\n",
       "</table>\n",
       "</div>"
      ],
      "text/plain": [
       "          global_work_class\n",
       "F1 micro           0.996367\n",
       "F1 macro           0.985680"
      ]
     },
     "execution_count": 68,
     "metadata": {},
     "output_type": "execute_result"
    }
   ],
   "source": [
    "show_metrics2(knn_pred_glob)"
   ]
  },
  {
   "cell_type": "code",
   "execution_count": null,
   "id": "8926aa19",
   "metadata": {},
   "outputs": [],
   "source": []
  }
 ],
 "metadata": {
  "kernelspec": {
   "display_name": "Python 3 (ipykernel)",
   "language": "python",
   "name": "python3"
  },
  "language_info": {
   "codemirror_mode": {
    "name": "ipython",
    "version": 3
   },
   "file_extension": ".py",
   "mimetype": "text/x-python",
   "name": "python",
   "nbconvert_exporter": "python",
   "pygments_lexer": "ipython3",
   "version": "3.11.5"
  }
 },
 "nbformat": 4,
 "nbformat_minor": 5
}
