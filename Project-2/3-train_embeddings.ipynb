{
 "cells": [
  {
   "cell_type": "markdown",
   "metadata": {
    "id": "5WfAHs2czTnV"
   },
   "source": [
    "# Libraries import"
   ]
  },
  {
   "cell_type": "code",
   "execution_count": 1,
   "metadata": {
    "id": "VsSQOHgXiFhL"
   },
   "outputs": [],
   "source": [
    "%%capture\n",
    "!pip install tensorflow_hub"
   ]
  },
  {
   "cell_type": "code",
   "execution_count": 2,
   "metadata": {
    "id": "vrP3oQ59iIqe"
   },
   "outputs": [],
   "source": [
    "import tensorflow_hub as hub"
   ]
  },
  {
   "cell_type": "code",
   "execution_count": null,
   "metadata": {
    "id": "E8cVsOLwGBVJ"
   },
   "outputs": [],
   "source": [
    "!pip install tensorflow"
   ]
  },
  {
   "cell_type": "code",
   "execution_count": null,
   "metadata": {},
   "outputs": [],
   "source": [
    "!pip install tensorflow-text"
   ]
  },
  {
   "cell_type": "code",
   "execution_count": null,
   "metadata": {
    "id": "G6GWTsS1iRmO"
   },
   "outputs": [],
   "source": [
    "import tensorflow\n",
    "import tensorflow_text"
   ]
  },
  {
   "cell_type": "code",
   "execution_count": null,
   "metadata": {
    "id": "iPqt1d39zH5i"
   },
   "outputs": [],
   "source": [
    "import pandas as pd\n",
    "import numpy as np\n",
    "from tqdm import tqdm\n",
    "\n",
    "from sklearn.preprocessing import OrdinalEncoder\n",
    "from sklearn.model_selection import train_test_split\n",
    "from sklearn.linear_model import LogisticRegression\n",
    "from sklearn.metrics import f1_score"
   ]
  },
  {
   "cell_type": "code",
   "execution_count": null,
   "metadata": {
    "id": "wZVGXapo1bdK"
   },
   "outputs": [],
   "source": [
    "MODEL = hub.load(\"https://tfhub.dev/google/universal-sentence-encoder-multilingual/3\")"
   ]
  },
  {
   "cell_type": "markdown",
   "metadata": {
    "id": "n7aSQm9FzYD_"
   },
   "source": [
    "# Data import and splitting"
   ]
  },
  {
   "cell_type": "code",
   "execution_count": null,
   "metadata": {
    "id": "cDCqFE2cy4dR"
   },
   "outputs": [],
   "source": [
    "data = pd.read_csv('gas_data.csv')"
   ]
  },
  {
   "cell_type": "code",
   "execution_count": null,
   "metadata": {
    "colab": {
     "base_uri": "https://localhost:8080/"
    },
    "id": "nUif7Sc7y7VZ",
    "outputId": "271936a7-adee-49d6-9e04-13a9f7a4435c"
   },
   "outputs": [
    {
     "name": "stdout",
     "output_type": "stream",
     "text": [
      "The training dataset size is 282015 records, or 95.00 % of the data available for training.\n",
      "The validation dataset size is 14843 records, or 5.00 % of the data available for training.\n"
     ]
    }
   ],
   "source": [
    "marked_data = data[((data.generalized_work_class.notna())) & (data.global_work_class.notna())] # Select the data labelled by both class fields\n",
    "\n",
    "train, val = train_test_split(\n",
    "    marked_data, test_size=0.05, train_size=0.95, random_state=42\n",
    ")  # Reserve 5% of dataset for validation\n",
    "\n",
    "print(f'The training dataset size is {train.shape[0]} records, or {100 * train.shape[0]/marked_data.shape[0]:.2f} % of the data available for training.')\n",
    "print(f'The validation dataset size is {val.shape[0]} records, or {100 * val.shape[0]/marked_data.shape[0]:.2f} % of the data available for training.')"
   ]
  },
  {
   "cell_type": "code",
   "execution_count": null,
   "metadata": {
    "colab": {
     "base_uri": "https://localhost:8080/",
     "height": 143
    },
    "id": "0Fc2eB8E0yZn",
    "outputId": "8bd98816-0a03-4d92-ebc8-1383d2d4b12e"
   },
   "outputs": [
    {
     "data": {
      "text/html": [
       "\n",
       "  <div id=\"df-88659d88-4abc-4993-9c2e-58e394e32be4\" class=\"colab-df-container\">\n",
       "    <div>\n",
       "<style scoped>\n",
       "    .dataframe tbody tr th:only-of-type {\n",
       "        vertical-align: middle;\n",
       "    }\n",
       "\n",
       "    .dataframe tbody tr th {\n",
       "        vertical-align: top;\n",
       "    }\n",
       "\n",
       "    .dataframe thead th {\n",
       "        text-align: right;\n",
       "    }\n",
       "</style>\n",
       "<table border=\"1\" class=\"dataframe\">\n",
       "  <thead>\n",
       "    <tr style=\"text-align: right;\">\n",
       "      <th></th>\n",
       "      <th>work_name</th>\n",
       "      <th>generalized_work_class</th>\n",
       "      <th>global_work_class</th>\n",
       "      <th>upper_works</th>\n",
       "    </tr>\n",
       "  </thead>\n",
       "  <tbody>\n",
       "    <tr>\n",
       "      <th>3</th>\n",
       "      <td>монтад лестниц</td>\n",
       "      <td>Монтаж лестниц</td>\n",
       "      <td>Строительство зданий</td>\n",
       "      <td>NaN</td>\n",
       "    </tr>\n",
       "    <tr>\n",
       "      <th>7</th>\n",
       "      <td>кипиа</td>\n",
       "      <td>Монтаж приборов</td>\n",
       "      <td>Монтаж</td>\n",
       "      <td>NaN</td>\n",
       "    </tr>\n",
       "    <tr>\n",
       "      <th>9</th>\n",
       "      <td>электромонтажные работы 1.4.2</td>\n",
       "      <td>ПНР</td>\n",
       "      <td>ПНР</td>\n",
       "      <td>NaN</td>\n",
       "    </tr>\n",
       "  </tbody>\n",
       "</table>\n",
       "</div>\n",
       "    <div class=\"colab-df-buttons\">\n",
       "\n",
       "  <div class=\"colab-df-container\">\n",
       "    <button class=\"colab-df-convert\" onclick=\"convertToInteractive('df-88659d88-4abc-4993-9c2e-58e394e32be4')\"\n",
       "            title=\"Convert this dataframe to an interactive table.\"\n",
       "            style=\"display:none;\">\n",
       "\n",
       "  <svg xmlns=\"http://www.w3.org/2000/svg\" height=\"24px\" viewBox=\"0 -960 960 960\">\n",
       "    <path d=\"M120-120v-720h720v720H120Zm60-500h600v-160H180v160Zm220 220h160v-160H400v160Zm0 220h160v-160H400v160ZM180-400h160v-160H180v160Zm440 0h160v-160H620v160ZM180-180h160v-160H180v160Zm440 0h160v-160H620v160Z\"/>\n",
       "  </svg>\n",
       "    </button>\n",
       "\n",
       "  <style>\n",
       "    .colab-df-container {\n",
       "      display:flex;\n",
       "      gap: 12px;\n",
       "    }\n",
       "\n",
       "    .colab-df-convert {\n",
       "      background-color: #E8F0FE;\n",
       "      border: none;\n",
       "      border-radius: 50%;\n",
       "      cursor: pointer;\n",
       "      display: none;\n",
       "      fill: #1967D2;\n",
       "      height: 32px;\n",
       "      padding: 0 0 0 0;\n",
       "      width: 32px;\n",
       "    }\n",
       "\n",
       "    .colab-df-convert:hover {\n",
       "      background-color: #E2EBFA;\n",
       "      box-shadow: 0px 1px 2px rgba(60, 64, 67, 0.3), 0px 1px 3px 1px rgba(60, 64, 67, 0.15);\n",
       "      fill: #174EA6;\n",
       "    }\n",
       "\n",
       "    .colab-df-buttons div {\n",
       "      margin-bottom: 4px;\n",
       "    }\n",
       "\n",
       "    [theme=dark] .colab-df-convert {\n",
       "      background-color: #3B4455;\n",
       "      fill: #D2E3FC;\n",
       "    }\n",
       "\n",
       "    [theme=dark] .colab-df-convert:hover {\n",
       "      background-color: #434B5C;\n",
       "      box-shadow: 0px 1px 3px 1px rgba(0, 0, 0, 0.15);\n",
       "      filter: drop-shadow(0px 1px 2px rgba(0, 0, 0, 0.3));\n",
       "      fill: #FFFFFF;\n",
       "    }\n",
       "  </style>\n",
       "\n",
       "    <script>\n",
       "      const buttonEl =\n",
       "        document.querySelector('#df-88659d88-4abc-4993-9c2e-58e394e32be4 button.colab-df-convert');\n",
       "      buttonEl.style.display =\n",
       "        google.colab.kernel.accessAllowed ? 'block' : 'none';\n",
       "\n",
       "      async function convertToInteractive(key) {\n",
       "        const element = document.querySelector('#df-88659d88-4abc-4993-9c2e-58e394e32be4');\n",
       "        const dataTable =\n",
       "          await google.colab.kernel.invokeFunction('convertToInteractive',\n",
       "                                                    [key], {});\n",
       "        if (!dataTable) return;\n",
       "\n",
       "        const docLinkHtml = 'Like what you see? Visit the ' +\n",
       "          '<a target=\"_blank\" href=https://colab.research.google.com/notebooks/data_table.ipynb>data table notebook</a>'\n",
       "          + ' to learn more about interactive tables.';\n",
       "        element.innerHTML = '';\n",
       "        dataTable['output_type'] = 'display_data';\n",
       "        await google.colab.output.renderOutput(dataTable, element);\n",
       "        const docLink = document.createElement('div');\n",
       "        docLink.innerHTML = docLinkHtml;\n",
       "        element.appendChild(docLink);\n",
       "      }\n",
       "    </script>\n",
       "  </div>\n",
       "\n",
       "\n",
       "<div id=\"df-2a9860ba-c631-4f3a-afd4-ca19022db29b\">\n",
       "  <button class=\"colab-df-quickchart\" onclick=\"quickchart('df-2a9860ba-c631-4f3a-afd4-ca19022db29b')\"\n",
       "            title=\"Suggest charts.\"\n",
       "            style=\"display:none;\">\n",
       "\n",
       "<svg xmlns=\"http://www.w3.org/2000/svg\" height=\"24px\"viewBox=\"0 0 24 24\"\n",
       "     width=\"24px\">\n",
       "    <g>\n",
       "        <path d=\"M19 3H5c-1.1 0-2 .9-2 2v14c0 1.1.9 2 2 2h14c1.1 0 2-.9 2-2V5c0-1.1-.9-2-2-2zM9 17H7v-7h2v7zm4 0h-2V7h2v10zm4 0h-2v-4h2v4z\"/>\n",
       "    </g>\n",
       "</svg>\n",
       "  </button>\n",
       "\n",
       "<style>\n",
       "  .colab-df-quickchart {\n",
       "      --bg-color: #E8F0FE;\n",
       "      --fill-color: #1967D2;\n",
       "      --hover-bg-color: #E2EBFA;\n",
       "      --hover-fill-color: #174EA6;\n",
       "      --disabled-fill-color: #AAA;\n",
       "      --disabled-bg-color: #DDD;\n",
       "  }\n",
       "\n",
       "  [theme=dark] .colab-df-quickchart {\n",
       "      --bg-color: #3B4455;\n",
       "      --fill-color: #D2E3FC;\n",
       "      --hover-bg-color: #434B5C;\n",
       "      --hover-fill-color: #FFFFFF;\n",
       "      --disabled-bg-color: #3B4455;\n",
       "      --disabled-fill-color: #666;\n",
       "  }\n",
       "\n",
       "  .colab-df-quickchart {\n",
       "    background-color: var(--bg-color);\n",
       "    border: none;\n",
       "    border-radius: 50%;\n",
       "    cursor: pointer;\n",
       "    display: none;\n",
       "    fill: var(--fill-color);\n",
       "    height: 32px;\n",
       "    padding: 0;\n",
       "    width: 32px;\n",
       "  }\n",
       "\n",
       "  .colab-df-quickchart:hover {\n",
       "    background-color: var(--hover-bg-color);\n",
       "    box-shadow: 0 1px 2px rgba(60, 64, 67, 0.3), 0 1px 3px 1px rgba(60, 64, 67, 0.15);\n",
       "    fill: var(--button-hover-fill-color);\n",
       "  }\n",
       "\n",
       "  .colab-df-quickchart-complete:disabled,\n",
       "  .colab-df-quickchart-complete:disabled:hover {\n",
       "    background-color: var(--disabled-bg-color);\n",
       "    fill: var(--disabled-fill-color);\n",
       "    box-shadow: none;\n",
       "  }\n",
       "\n",
       "  .colab-df-spinner {\n",
       "    border: 2px solid var(--fill-color);\n",
       "    border-color: transparent;\n",
       "    border-bottom-color: var(--fill-color);\n",
       "    animation:\n",
       "      spin 1s steps(1) infinite;\n",
       "  }\n",
       "\n",
       "  @keyframes spin {\n",
       "    0% {\n",
       "      border-color: transparent;\n",
       "      border-bottom-color: var(--fill-color);\n",
       "      border-left-color: var(--fill-color);\n",
       "    }\n",
       "    20% {\n",
       "      border-color: transparent;\n",
       "      border-left-color: var(--fill-color);\n",
       "      border-top-color: var(--fill-color);\n",
       "    }\n",
       "    30% {\n",
       "      border-color: transparent;\n",
       "      border-left-color: var(--fill-color);\n",
       "      border-top-color: var(--fill-color);\n",
       "      border-right-color: var(--fill-color);\n",
       "    }\n",
       "    40% {\n",
       "      border-color: transparent;\n",
       "      border-right-color: var(--fill-color);\n",
       "      border-top-color: var(--fill-color);\n",
       "    }\n",
       "    60% {\n",
       "      border-color: transparent;\n",
       "      border-right-color: var(--fill-color);\n",
       "    }\n",
       "    80% {\n",
       "      border-color: transparent;\n",
       "      border-right-color: var(--fill-color);\n",
       "      border-bottom-color: var(--fill-color);\n",
       "    }\n",
       "    90% {\n",
       "      border-color: transparent;\n",
       "      border-bottom-color: var(--fill-color);\n",
       "    }\n",
       "  }\n",
       "</style>\n",
       "\n",
       "  <script>\n",
       "    async function quickchart(key) {\n",
       "      const quickchartButtonEl =\n",
       "        document.querySelector('#' + key + ' button');\n",
       "      quickchartButtonEl.disabled = true;  // To prevent multiple clicks.\n",
       "      quickchartButtonEl.classList.add('colab-df-spinner');\n",
       "      try {\n",
       "        const charts = await google.colab.kernel.invokeFunction(\n",
       "            'suggestCharts', [key], {});\n",
       "      } catch (error) {\n",
       "        console.error('Error during call to suggestCharts:', error);\n",
       "      }\n",
       "      quickchartButtonEl.classList.remove('colab-df-spinner');\n",
       "      quickchartButtonEl.classList.add('colab-df-quickchart-complete');\n",
       "    }\n",
       "    (() => {\n",
       "      let quickchartButtonEl =\n",
       "        document.querySelector('#df-2a9860ba-c631-4f3a-afd4-ca19022db29b button');\n",
       "      quickchartButtonEl.style.display =\n",
       "        google.colab.kernel.accessAllowed ? 'block' : 'none';\n",
       "    })();\n",
       "  </script>\n",
       "</div>\n",
       "    </div>\n",
       "  </div>\n"
      ],
      "text/plain": [
       "                       work_name generalized_work_class     global_work_class  \\\n",
       "3                 монтад лестниц         Монтаж лестниц  Строительство зданий   \n",
       "7                          кипиа        Монтаж приборов                Монтаж   \n",
       "9  электромонтажные работы 1.4.2                    ПНР                   ПНР   \n",
       "\n",
       "  upper_works  \n",
       "3         NaN  \n",
       "7         NaN  \n",
       "9         NaN  "
      ]
     },
     "execution_count": 15,
     "metadata": {},
     "output_type": "execute_result"
    }
   ],
   "source": [
    "marked_data.head(3)"
   ]
  },
  {
   "cell_type": "markdown",
   "metadata": {
    "id": "r2yLlnX_zQr8"
   },
   "source": [
    "# Subsets forming and targets encoding"
   ]
  },
  {
   "cell_type": "code",
   "execution_count": null,
   "metadata": {
    "id": "v2j2LZ8yzbpy"
   },
   "outputs": [],
   "source": [
    "# Unknown categories will be encoded as -1 to avoid unexpected crashes\n",
    "# In case of -1's appearance train_test_split with different random_state should be performed\n",
    "generalized_encoder = OrdinalEncoder(handle_unknown='use_encoded_value', unknown_value=-1)\n",
    "global_encoder = OrdinalEncoder(handle_unknown='use_encoded_value', unknown_value=-1)"
   ]
  },
  {
   "cell_type": "code",
   "execution_count": null,
   "metadata": {
    "id": "vU14mfV2zmAL"
   },
   "outputs": [],
   "source": [
    "X_train_raw = train.work_name\n",
    "y1_train = pd.Series(\n",
    "    generalized_encoder.fit_transform(\n",
    "        train.generalized_work_class.values.reshape(-1, 1) # \"Reshape\" to make encoder work properly\n",
    "    ).flatten(), # \"Flatten\" to obtain list of values instead of list of lists with values\n",
    "    index=X_train_raw.index,\n",
    ")\n",
    "y2_train = pd.Series(\n",
    "    global_encoder.fit_transform(\n",
    "        train.global_work_class.values.reshape(-1, 1)\n",
    "    ).flatten(),\n",
    "    index=X_train_raw.index,\n",
    ")"
   ]
  },
  {
   "cell_type": "code",
   "execution_count": null,
   "metadata": {
    "id": "_UbNsDAAzn_Y"
   },
   "outputs": [],
   "source": [
    "X_val_raw = val.work_name\n",
    "y1_val = pd.Series(\n",
    "    generalized_encoder.transform(\n",
    "        val.generalized_work_class.values.reshape(-1, 1)\n",
    "    ).flatten(),\n",
    "    index=X_val_raw.index,\n",
    ")\n",
    "y2_val = pd.Series(\n",
    "    global_encoder.transform(val.global_work_class.values.reshape(-1, 1)).flatten(),\n",
    "    index=X_val_raw.index,\n",
    ")"
   ]
  },
  {
   "cell_type": "code",
   "execution_count": null,
   "metadata": {
    "colab": {
     "base_uri": "https://localhost:8080/",
     "height": 295
    },
    "id": "ExFtxT_Vzp6H",
    "outputId": "9303ee06-bc4d-47a7-d3be-474336ee4a5a"
   },
   "outputs": [
    {
     "data": {
      "text/plain": [
       "154276                      изготовление металлоконструкций\n",
       "687997                        обратная засыпка трубопровода\n",
       "108560    антикоррозийная изоляция внутренней поверхност...\n",
       "Name: work_name, dtype: object"
      ]
     },
     "metadata": {},
     "output_type": "display_data"
    },
    {
     "name": "stdout",
     "output_type": "stream",
     "text": [
      "\n"
     ]
    },
    {
     "data": {
      "text/plain": [
       "225625    165.0\n",
       "238367     28.0\n",
       "357855    139.0\n",
       "270696    171.0\n",
       "54329      35.0\n",
       "444519    149.0\n",
       "45285     157.0\n",
       "542407    139.0\n",
       "697845    188.0\n",
       "498760    117.0\n",
       "dtype: float64"
      ]
     },
     "metadata": {},
     "output_type": "display_data"
    }
   ],
   "source": [
    "display(X_train_raw.sample(3, random_state=42))\n",
    "print()\n",
    "display(y1_train.head(10))"
   ]
  },
  {
   "cell_type": "code",
   "execution_count": null,
   "metadata": {
    "colab": {
     "base_uri": "https://localhost:8080/",
     "height": 208
    },
    "id": "MB2-pMmK0pY8",
    "outputId": "85747818-eed7-4547-82d0-701fb0052ff0"
   },
   "outputs": [
    {
     "data": {
      "text/plain": [
       "225625    32.0\n",
       "238367    12.0\n",
       "357855    34.0\n",
       "270696    51.0\n",
       "54329     15.0\n",
       "444519    36.0\n",
       "45285     26.0\n",
       "542407    34.0\n",
       "697845    44.0\n",
       "498760    26.0\n",
       "dtype: float64"
      ]
     },
     "metadata": {},
     "output_type": "display_data"
    }
   ],
   "source": [
    "display(y2_train.head(10))"
   ]
  },
  {
   "cell_type": "code",
   "execution_count": null,
   "metadata": {
    "colab": {
     "base_uri": "https://localhost:8080/",
     "height": 295
    },
    "id": "m8dWDuOU1JNU",
    "outputId": "fd19529b-eabb-489a-ae48-29216034bd82"
   },
   "outputs": [
    {
     "data": {
      "text/plain": [
       "237657      обратная засыпка\n",
       "346615    монтаж оголовников\n",
       "360508       монтаж балок б2\n",
       "Name: work_name, dtype: object"
      ]
     },
     "metadata": {},
     "output_type": "display_data"
    },
    {
     "name": "stdout",
     "output_type": "stream",
     "text": [
      "\n"
     ]
    },
    {
     "data": {
      "text/plain": [
       "400713    165.0\n",
       "195157    188.0\n",
       "476626    156.0\n",
       "546337    192.0\n",
       "71037     181.0\n",
       "605832     35.0\n",
       "425050    181.0\n",
       "629116    139.0\n",
       "192351    123.0\n",
       "639171    123.0\n",
       "dtype: float64"
      ]
     },
     "metadata": {},
     "output_type": "display_data"
    }
   ],
   "source": [
    "display(X_val_raw.sample(3, random_state=42))\n",
    "print()\n",
    "display(y1_val.head(10))"
   ]
  },
  {
   "cell_type": "code",
   "execution_count": null,
   "metadata": {
    "colab": {
     "base_uri": "https://localhost:8080/",
     "height": 208
    },
    "id": "NlEB__fi1Oxi",
    "outputId": "6d9c6b68-b5ca-4560-c63f-42c33269fb5f"
   },
   "outputs": [
    {
     "data": {
      "text/plain": [
       "400713    32.0\n",
       "195157    44.0\n",
       "476626    54.0\n",
       "546337    37.0\n",
       "71037     15.0\n",
       "605832    15.0\n",
       "425050    15.0\n",
       "629116    34.0\n",
       "192351    39.0\n",
       "639171    39.0\n",
       "dtype: float64"
      ]
     },
     "metadata": {},
     "output_type": "display_data"
    }
   ],
   "source": [
    "display(y2_val.head(10))"
   ]
  },
  {
   "cell_type": "markdown",
   "metadata": {
    "id": "YlQwE06kzyFE"
   },
   "source": [
    "# Feature extraction\n",
    "\n"
   ]
  },
  {
   "cell_type": "code",
   "execution_count": null,
   "metadata": {
    "id": "DMRVLWJgzu8X"
   },
   "outputs": [],
   "source": [
    "def create_embeddings(text_series, batch_size: int = 1024):\n",
    "    embeddings_list = []\n",
    "    for i in tqdm(range(0, text_series.shape[0], batch_size)): # Calculate embeddings in batches to avoid memory crashes\n",
    "        #string_list = list(text_series.iloc[i : i + batch_size].values)\n",
    "        batch = text_series.iloc[i : i + batch_size]\n",
    "\n",
    "        embedding = MODEL(batch).numpy() # Get the embedded batch and turn it into a numpy matrix\n",
    "        embeddings_list.append(embedding)\n",
    "\n",
    "    embeddings = np.concatenate(embeddings_list) # Concatenation of a list of matrices into one matrix\n",
    "    return embeddings"
   ]
  },
  {
   "cell_type": "code",
   "execution_count": null,
   "metadata": {
    "colab": {
     "base_uri": "https://localhost:8080/"
    },
    "id": "G_q_4yukz6OF",
    "outputId": "8fb0d25f-9537-4ce3-9f20-fb73375e7d8e"
   },
   "outputs": [
    {
     "name": "stderr",
     "output_type": "stream",
     "text": [
      "  0%|          | 1/276 [00:03<18:02,  3.94s/it]"
     ]
    }
   ],
   "source": [
    "embeddings_train = create_embeddings(X_train_raw)\n",
    "embeddings_val = create_embeddings(X_val_raw)"
   ]
  },
  {
   "cell_type": "code",
   "execution_count": null,
   "metadata": {
    "id": "sgiZwqbyF08w"
   },
   "outputs": [],
   "source": [
    "np.save(\"embeddings_train\", embeddings_train)"
   ]
  },
  {
   "cell_type": "code",
   "execution_count": null,
   "metadata": {
    "id": "kcFJmM9VF3th"
   },
   "outputs": [],
   "source": [
    "np.save(\"embeddings_val\", embeddings_val)"
   ]
  }
 ],
 "metadata": {
  "colab": {
   "provenance": []
  },
  "kernelspec": {
   "display_name": "Python 3 (ipykernel)",
   "language": "python",
   "name": "python3"
  },
  "language_info": {
   "codemirror_mode": {
    "name": "ipython",
    "version": 3
   },
   "file_extension": ".py",
   "mimetype": "text/x-python",
   "name": "python",
   "nbconvert_exporter": "python",
   "pygments_lexer": "ipython3",
   "version": "3.11.5"
  }
 },
 "nbformat": 4,
 "nbformat_minor": 1
}
