{
 "cells": [
  {
   "cell_type": "markdown",
   "id": "6a1e507b",
   "metadata": {},
   "source": [
    "## Modules import / Импортирование модулей"
   ]
  },
  {
   "cell_type": "code",
   "execution_count": 2,
   "id": "78372515",
   "metadata": {},
   "outputs": [],
   "source": [
    "import pandas as pd\n",
    "import numpy as np\n",
    "from tqdm import tqdm\n",
    "\n",
    "from matplotlib import pyplot as plt\n",
    "from sklearn.preprocessing import OrdinalEncoder\n",
    "from sklearn.model_selection import train_test_split\n",
    "from sklearn.linear_model import LogisticRegression\n",
    "from sklearn.metrics import f1_score\n",
    "\n",
    "from sklearn.neighbors import KNeighborsClassifier\n",
    "from sklearn.ensemble import RandomForestClassifier\n",
    "from sklearn.model_selection import cross_val_score\n",
    "from time import time"
   ]
  },
  {
   "cell_type": "markdown",
   "id": "42f04143",
   "metadata": {},
   "source": [
    "## Data import and splitting"
   ]
  },
  {
   "cell_type": "code",
   "execution_count": 4,
   "id": "03a97b31",
   "metadata": {},
   "outputs": [],
   "source": [
    "data = pd.read_csv('lab2_oil_gas_field_construction_data.csv')\n",
    "embeddings_train = pd.read_csv('x_train.csv')\n",
    "embeddings_val = pd.read_csv('x_val.csv')"
   ]
  },
  {
   "cell_type": "code",
   "execution_count": 5,
   "id": "9f80c01e",
   "metadata": {},
   "outputs": [
    {
     "name": "stdout",
     "output_type": "stream",
     "text": [
      "The training dataset size is 282015 records, or 95.00 % of the data available for training.\n",
      "The validation dataset size is 14843 records, or 5.00 % of the data available for training.\n"
     ]
    }
   ],
   "source": [
    "marked_data = data[((data.generalized_work_class.notna())) & (data.global_work_class.notna())] # Select the data labelled by both class fields\n",
    "\n",
    "train, val = train_test_split(\n",
    "    marked_data, test_size=0.05, train_size=0.95, random_state=42)\n",
    "\n",
    "print(f'The training dataset size is {train.shape[0]} records, or {100 * train.shape[0]/marked_data.shape[0]:.2f} % of the data available for training.')\n",
    "print(f'The validation dataset size is {val.shape[0]} records, or {100 * val.shape[0]/marked_data.shape[0]:.2f} % of the data available for training.')"
   ]
  },
  {
   "cell_type": "markdown",
   "id": "b7d63906",
   "metadata": {},
   "source": [
    "## Subsets forming and targets encoding"
   ]
  },
  {
   "cell_type": "code",
   "execution_count": 6,
   "id": "b7cd8d66",
   "metadata": {},
   "outputs": [],
   "source": [
    "# Unknown categories will be encoded as -1 to avoid unexpected crashes\n",
    "# In case of -1's appearance train_test_split with different random_state should be performed\n",
    "generalized_encoder = OrdinalEncoder(handle_unknown='use_encoded_value', unknown_value=-1)\n",
    "global_encoder = OrdinalEncoder(handle_unknown='use_encoded_value', unknown_value=-1)"
   ]
  },
  {
   "cell_type": "code",
   "execution_count": 43,
   "id": "825d39e7",
   "metadata": {},
   "outputs": [],
   "source": [
    "X_train_raw = train.work_name\n",
    "y1_train = pd.Series(\n",
    "    generalized_encoder.fit_transform(\n",
    "        train.generalized_work_class.values.reshape(-1, 1) # \"Reshape\" to make encoder work properly\n",
    "    ).flatten(), # \"Flatten\" to obtain list of values instead of list of lists with values\n",
    "    index=train.index,\n",
    ")\n",
    "y2_train = pd.Series(\n",
    "    global_encoder.fit_transform(\n",
    "        train.global_work_class.values.reshape(-1, 1)\n",
    "    ).flatten(),\n",
    "    index=train.index,\n",
    ")"
   ]
  },
  {
   "cell_type": "code",
   "execution_count": 44,
   "id": "9d65f05f",
   "metadata": {},
   "outputs": [],
   "source": [
    "X_val_raw = val.work_name\n",
    "y1_val = pd.Series(\n",
    "    generalized_encoder.transform(\n",
    "        val.generalized_work_class.values.reshape(-1, 1)\n",
    "    ).flatten(),\n",
    "    index=val.index,\n",
    ")\n",
    "y2_val = pd.Series(\n",
    "    global_encoder.transform(val.global_work_class.values.reshape(-1, 1)).flatten(),\n",
    "    index=val.index,\n",
    ")"
   ]
  },
  {
   "cell_type": "code",
   "execution_count": 9,
   "id": "07a44406",
   "metadata": {},
   "outputs": [
    {
     "data": {
      "text/plain": [
       "225625    165.0\n",
       "238367     28.0\n",
       "357855    139.0\n",
       "270696    171.0\n",
       "54329      35.0\n",
       "444519    149.0\n",
       "45285     157.0\n",
       "542407    139.0\n",
       "697845    188.0\n",
       "498760    117.0\n",
       "dtype: float64"
      ]
     },
     "metadata": {},
     "output_type": "display_data"
    }
   ],
   "source": [
    "display(y1_train.head(10))"
   ]
  },
  {
   "cell_type": "code",
   "execution_count": 10,
   "id": "fdeda55a",
   "metadata": {},
   "outputs": [
    {
     "data": {
      "text/plain": [
       "225625    32.0\n",
       "238367    12.0\n",
       "357855    34.0\n",
       "270696    51.0\n",
       "54329     15.0\n",
       "444519    36.0\n",
       "45285     26.0\n",
       "542407    34.0\n",
       "697845    44.0\n",
       "498760    26.0\n",
       "dtype: float64"
      ]
     },
     "metadata": {},
     "output_type": "display_data"
    }
   ],
   "source": [
    "display(y2_train.head(10))"
   ]
  },
  {
   "cell_type": "markdown",
   "id": "a070e3a0",
   "metadata": {},
   "source": [
    "## Features loading\n"
   ]
  },
  {
   "cell_type": "code",
   "execution_count": 11,
   "id": "de892a76",
   "metadata": {},
   "outputs": [],
   "source": [
    "embeddings_train.drop(columns=['Unnamed: 0'], inplace=True)\n",
    "embeddings_val.drop(columns=['Unnamed: 0'], inplace=True)"
   ]
  },
  {
   "cell_type": "code",
   "execution_count": 12,
   "id": "523a540d",
   "metadata": {},
   "outputs": [],
   "source": [
    "X_train = pd.DataFrame(embeddings_train.values, index=train.index)\n",
    "X_val = pd.DataFrame(embeddings_val.values, index=val.index)"
   ]
  },
  {
   "cell_type": "code",
   "execution_count": 16,
   "id": "475a750d",
   "metadata": {},
   "outputs": [
    {
     "data": {
      "text/html": [
       "<div>\n",
       "<style scoped>\n",
       "    .dataframe tbody tr th:only-of-type {\n",
       "        vertical-align: middle;\n",
       "    }\n",
       "\n",
       "    .dataframe tbody tr th {\n",
       "        vertical-align: top;\n",
       "    }\n",
       "\n",
       "    .dataframe thead th {\n",
       "        text-align: right;\n",
       "    }\n",
       "</style>\n",
       "<table border=\"1\" class=\"dataframe\">\n",
       "  <thead>\n",
       "    <tr style=\"text-align: right;\">\n",
       "      <th></th>\n",
       "      <th>0</th>\n",
       "      <th>1</th>\n",
       "      <th>2</th>\n",
       "      <th>3</th>\n",
       "      <th>4</th>\n",
       "      <th>5</th>\n",
       "      <th>6</th>\n",
       "      <th>7</th>\n",
       "      <th>8</th>\n",
       "      <th>9</th>\n",
       "      <th>...</th>\n",
       "      <th>502</th>\n",
       "      <th>503</th>\n",
       "      <th>504</th>\n",
       "      <th>505</th>\n",
       "      <th>506</th>\n",
       "      <th>507</th>\n",
       "      <th>508</th>\n",
       "      <th>509</th>\n",
       "      <th>510</th>\n",
       "      <th>511</th>\n",
       "    </tr>\n",
       "  </thead>\n",
       "  <tbody>\n",
       "    <tr>\n",
       "      <th>154276</th>\n",
       "      <td>0.113643</td>\n",
       "      <td>0.014277</td>\n",
       "      <td>-0.015322</td>\n",
       "      <td>-0.033846</td>\n",
       "      <td>-0.051642</td>\n",
       "      <td>0.052199</td>\n",
       "      <td>-0.024451</td>\n",
       "      <td>-0.005593</td>\n",
       "      <td>0.044588</td>\n",
       "      <td>-0.048071</td>\n",
       "      <td>...</td>\n",
       "      <td>-0.066962</td>\n",
       "      <td>0.040657</td>\n",
       "      <td>-0.029578</td>\n",
       "      <td>0.070915</td>\n",
       "      <td>-0.013325</td>\n",
       "      <td>0.074499</td>\n",
       "      <td>-0.069606</td>\n",
       "      <td>-0.009099</td>\n",
       "      <td>0.033147</td>\n",
       "      <td>0.028903</td>\n",
       "    </tr>\n",
       "    <tr>\n",
       "      <th>687997</th>\n",
       "      <td>0.091818</td>\n",
       "      <td>0.040785</td>\n",
       "      <td>-0.061397</td>\n",
       "      <td>0.049828</td>\n",
       "      <td>-0.102584</td>\n",
       "      <td>0.024915</td>\n",
       "      <td>0.007012</td>\n",
       "      <td>0.080604</td>\n",
       "      <td>0.027978</td>\n",
       "      <td>0.051415</td>\n",
       "      <td>...</td>\n",
       "      <td>-0.053080</td>\n",
       "      <td>-0.020653</td>\n",
       "      <td>0.051529</td>\n",
       "      <td>0.087559</td>\n",
       "      <td>0.015842</td>\n",
       "      <td>0.052521</td>\n",
       "      <td>0.056413</td>\n",
       "      <td>0.012658</td>\n",
       "      <td>0.007800</td>\n",
       "      <td>0.055728</td>\n",
       "    </tr>\n",
       "    <tr>\n",
       "      <th>108560</th>\n",
       "      <td>0.028982</td>\n",
       "      <td>0.008540</td>\n",
       "      <td>-0.073775</td>\n",
       "      <td>-0.059660</td>\n",
       "      <td>-0.069658</td>\n",
       "      <td>0.083254</td>\n",
       "      <td>-0.049393</td>\n",
       "      <td>0.082266</td>\n",
       "      <td>0.062147</td>\n",
       "      <td>0.041122</td>\n",
       "      <td>...</td>\n",
       "      <td>-0.028273</td>\n",
       "      <td>0.007476</td>\n",
       "      <td>-0.012896</td>\n",
       "      <td>0.082432</td>\n",
       "      <td>-0.018309</td>\n",
       "      <td>-0.029180</td>\n",
       "      <td>0.033281</td>\n",
       "      <td>-0.034215</td>\n",
       "      <td>-0.043049</td>\n",
       "      <td>0.023154</td>\n",
       "    </tr>\n",
       "  </tbody>\n",
       "</table>\n",
       "<p>3 rows × 512 columns</p>\n",
       "</div>"
      ],
      "text/plain": [
       "             0         1         2         3         4         5         6    \\\n",
       "154276  0.113643  0.014277 -0.015322 -0.033846 -0.051642  0.052199 -0.024451   \n",
       "687997  0.091818  0.040785 -0.061397  0.049828 -0.102584  0.024915  0.007012   \n",
       "108560  0.028982  0.008540 -0.073775 -0.059660 -0.069658  0.083254 -0.049393   \n",
       "\n",
       "             7         8         9    ...       502       503       504  \\\n",
       "154276 -0.005593  0.044588 -0.048071  ... -0.066962  0.040657 -0.029578   \n",
       "687997  0.080604  0.027978  0.051415  ... -0.053080 -0.020653  0.051529   \n",
       "108560  0.082266  0.062147  0.041122  ... -0.028273  0.007476 -0.012896   \n",
       "\n",
       "             505       506       507       508       509       510       511  \n",
       "154276  0.070915 -0.013325  0.074499 -0.069606 -0.009099  0.033147  0.028903  \n",
       "687997  0.087559  0.015842  0.052521  0.056413  0.012658  0.007800  0.055728  \n",
       "108560  0.082432 -0.018309 -0.029180  0.033281 -0.034215 -0.043049  0.023154  \n",
       "\n",
       "[3 rows x 512 columns]"
      ]
     },
     "execution_count": 16,
     "metadata": {},
     "output_type": "execute_result"
    }
   ],
   "source": [
    "X_train.sample(3, random_state=42)"
   ]
  },
  {
   "cell_type": "markdown",
   "id": "cf741c73",
   "metadata": {},
   "source": [
    "## Model training"
   ]
  },
  {
   "cell_type": "code",
   "execution_count": 29,
   "id": "2d0e68b6",
   "metadata": {},
   "outputs": [],
   "source": [
    "class MultiLogisticRegression():\n",
    "    def __init__(self, n_estimators: int, max_iter: int = 200):\n",
    "        '''\n",
    "        Create a list of estimators with specified max_iter\n",
    "        '''\n",
    "        self.estimators = []\n",
    "        for _ in range(n_estimators):\n",
    "            self.estimators.append(LogisticRegression(max_iter=max_iter))\n",
    "\n",
    "    def fit(self, X, y_list):\n",
    "        '''\n",
    "        Fit each estimator of the list using provided features and targets\n",
    "        '''\n",
    "        i = 1\n",
    "        for estimator, y in zip(self.estimators, y_list):\n",
    "            print(f'Fitting estimator #{i}')\n",
    "            estimator.fit(X, y)\n",
    "            i += 1\n",
    "        \n",
    "    def predict(self, X):\n",
    "        '''\n",
    "        Obtain each estimator's predictions using provided features\n",
    "        '''\n",
    "        predictions = []\n",
    "        for i, estimator in enumerate(self.estimators):\n",
    "            print(f'Obtaining predictions of the #{i+1} estimator')\n",
    "            predictions.append(estimator.predict(X))\n",
    "        return predictions\n",
    "    \n",
    "    \n",
    "    def predict_proba(self, X):\n",
    "        '''\n",
    "        Obtain each estimator's predictions using provided features\n",
    "        '''\n",
    "        predictions = []\n",
    "        for i, estimator in enumerate(self.estimators):\n",
    "            print(f'Obtaining predictions of the #{i+1} estimator')\n",
    "            predictions.append(estimator.predict_proba(X))\n",
    "            \n",
    "        return predictions\n",
    "\n",
    "        "
   ]
  },
  {
   "cell_type": "code",
   "execution_count": 30,
   "id": "8ecb29d5",
   "metadata": {},
   "outputs": [],
   "source": [
    "lr_model = MultiLogisticRegression(n_estimators=2, max_iter=450)"
   ]
  },
  {
   "cell_type": "code",
   "execution_count": 31,
   "id": "c0183ba7",
   "metadata": {},
   "outputs": [
    {
     "name": "stdout",
     "output_type": "stream",
     "text": [
      "Fitting estimator #1\n",
      "Fitting estimator #2\n"
     ]
    }
   ],
   "source": [
    "lr_model.fit(X_train, [y1_train, y2_train]) # 12:43 - 53"
   ]
  },
  {
   "cell_type": "markdown",
   "id": "18c8bb62",
   "metadata": {},
   "source": [
    "## Trained model validation"
   ]
  },
  {
   "cell_type": "code",
   "execution_count": 32,
   "id": "4480381f",
   "metadata": {},
   "outputs": [
    {
     "name": "stdout",
     "output_type": "stream",
     "text": [
      "Obtaining predictions of the #1 estimator\n",
      "Obtaining predictions of the #2 estimator\n"
     ]
    }
   ],
   "source": [
    "# %%timeit\n",
    "predictions = lr_model.predict(X_val) # Obtain class predictions"
   ]
  },
  {
   "cell_type": "code",
   "execution_count": 33,
   "id": "98e0b9de",
   "metadata": {},
   "outputs": [],
   "source": [
    "f1_score_1_micro = f1_score(y1_val, predictions[0], average='micro') # Generalized_work_class F1 micro\n",
    "f1_score_2_micro = f1_score(y2_val, predictions[1], average='micro') # Global_work_class F1 micro\n",
    "\n",
    "f1_score_1_macro = f1_score(y1_val, predictions[0], average='macro') # Generalized_work_class F1 macro\n",
    "f1_score_2_macro = f1_score(y2_val, predictions[1], average='macro') # Global_work_class F1 macro\n",
    "\n",
    "total_f1_score_micro = np.mean((f1_score_1_micro, f1_score_2_micro)) # Total F1 micro score\n",
    "total_f1_score_macro = np.mean((f1_score_1_macro, f1_score_2_macro)) # Total F1 macro score"
   ]
  },
  {
   "cell_type": "code",
   "execution_count": 34,
   "id": "c8870b2f",
   "metadata": {},
   "outputs": [
    {
     "data": {
      "text/html": [
       "<div>\n",
       "<style scoped>\n",
       "    .dataframe tbody tr th:only-of-type {\n",
       "        vertical-align: middle;\n",
       "    }\n",
       "\n",
       "    .dataframe tbody tr th {\n",
       "        vertical-align: top;\n",
       "    }\n",
       "\n",
       "    .dataframe thead th {\n",
       "        text-align: right;\n",
       "    }\n",
       "</style>\n",
       "<table border=\"1\" class=\"dataframe\">\n",
       "  <thead>\n",
       "    <tr style=\"text-align: right;\">\n",
       "      <th></th>\n",
       "      <th>generalized_work_class</th>\n",
       "      <th>global_work_class</th>\n",
       "      <th>total</th>\n",
       "    </tr>\n",
       "  </thead>\n",
       "  <tbody>\n",
       "    <tr>\n",
       "      <th>F1 micro</th>\n",
       "      <td>0.980</td>\n",
       "      <td>0.976</td>\n",
       "      <td>0.978</td>\n",
       "    </tr>\n",
       "    <tr>\n",
       "      <th>F1 macro</th>\n",
       "      <td>0.792</td>\n",
       "      <td>0.823</td>\n",
       "      <td>0.807</td>\n",
       "    </tr>\n",
       "  </tbody>\n",
       "</table>\n",
       "</div>"
      ],
      "text/plain": [
       "          generalized_work_class  global_work_class  total\n",
       "F1 micro                   0.980              0.976  0.978\n",
       "F1 macro                   0.792              0.823  0.807"
      ]
     },
     "execution_count": 34,
     "metadata": {},
     "output_type": "execute_result"
    }
   ],
   "source": [
    "pd.DataFrame(\n",
    "    {\n",
    "    'generalized_work_class': [f1_score_1_micro, f1_score_1_macro],\n",
    "    'global_work_class': [f1_score_2_micro, f1_score_2_macro],\n",
    "    'total': [total_f1_score_micro, total_f1_score_macro]\n",
    "    },\n",
    "    index=['F1 micro', 'F1 macro']\n",
    ").round(3) # Form a summarised table with rounded metric values"
   ]
  },
  {
   "cell_type": "code",
   "execution_count": 35,
   "id": "4e4c6fb5",
   "metadata": {},
   "outputs": [
    {
     "name": "stdout",
     "output_type": "stream",
     "text": [
      "Obtaining predictions of the #1 estimator\n",
      "Obtaining predictions of the #2 estimator\n"
     ]
    }
   ],
   "source": [
    "probas = lr_model.predict_proba(X_val) \n",
    "# shape = list of two np.array of shape (14843, 207)"
   ]
  },
  {
   "cell_type": "code",
   "execution_count": 38,
   "id": "bceb2b85",
   "metadata": {},
   "outputs": [],
   "source": [
    "np.save(\"independent_general.npy\", probas[0])\n",
    "np.save(\"independent_global.npy\", probas[1])"
   ]
  },
  {
   "cell_type": "code",
   "execution_count": 42,
   "id": "08fc8ee2",
   "metadata": {},
   "outputs": [],
   "source": [
    "pd.DataFrame(probas[0], index=X_val_raw.index).to_csv(\"independent_general.csv\")\n",
    "pd.DataFrame(probas[1], index=X_val_raw.index).to_csv(\"independent_global.csv\")"
   ]
  },
  {
   "cell_type": "code",
   "execution_count": 45,
   "id": "05c9c821",
   "metadata": {
    "scrolled": true
   },
   "outputs": [],
   "source": [
    "# Для прочтения вероятностей использовать:\n",
    "# preds_from_csv = pd.read_csv(\"independent_general.csv\", index_col=\"Unnamed: 0\")"
   ]
  },
  {
   "cell_type": "markdown",
   "id": "12e75630",
   "metadata": {},
   "source": [
    "## Conclusion / Вывод"
   ]
  },
  {
   "cell_type": "markdown",
   "id": "a8934e6d",
   "metadata": {},
   "source": [
    "`ENG`\n",
    "\n",
    "The overall F1 value of micro = 0.978 is close to 1. This means that the model performs well in classifying the data and achieves a high measure of consistency between accuracy* and completeness**.   \n",
    "\n",
    "At the same time, the overall value of the F1 macro metric shows that there are problems in the predictions for sparse classes. In the context of our task, this means that for sparse classes the model is significantly likely to assign a more popular class of tasks with close semantic meaning. To solve this problem, the number of records with rare classes should be increased.\n",
    "\n",
    "(Micro average F1 score performs worse on imbalanced datasets than macro average F1 score. The reason for this is because micro F1 gives equal importance to each observation, whilst macro F1 gives each class equal importance.\n",
    "\n",
    "When micro F1 score gives equal importance to each observation this means that when the classes are imbalanced, those classes with more observations will have a larger impact on the final score. Resulting in a final score which hides the performance of the minority classes and amplifies the majority.\n",
    "\n",
    "On the other hand, macro F1 score gives equal importance to each class. This means that a majority class will contribute equally along with the minority, allowing macro f1 to still return objective results on imbalanced datasets.)\n",
    "\n",
    "`RU`\n",
    "\n",
    "Общее значение F1 micro = 0.978 близко к 1. Это означает, что модель хорошо справляется с классификацией данных и достигает высокой меры согласованности между точностью* и полнотой**.   \n",
    "\n",
    "В то же время, общее значение метрики F1 macro показывает наличие проблем в предсказаниях для малочисленных классов. В контексте нашей задачи это означает, что редким классам модель с значительной долей вероятности назначит более популярный класс задач с близким семантическим смыслом. Для решения этой проблемы следует увеличить число записей с редкими классами.\n",
    "\n",
    "*Точность (precision) измеряет, как много из предсказанных как положительные примеры на самом деле являются положительными. Большое значение точности означает, что модель делает мало ложных положительных предсказаний.\n",
    "\n",
    "**Полнота (recall) измеряет, как много из всех положительных примеров модель смогла найти. Большое значение полноты означает, что модель находит много положительных примеров."
   ]
  },
  {
   "cell_type": "markdown",
   "id": "a59fea52",
   "metadata": {},
   "source": [
    "## Testing 1st hypothesis"
   ]
  },
  {
   "cell_type": "markdown",
   "id": "ffb00d21",
   "metadata": {},
   "source": [
    "### EDA + keys with surjection"
   ]
  },
  {
   "cell_type": "code",
   "execution_count": 13,
   "id": "64b57606",
   "metadata": {},
   "outputs": [],
   "source": [
    "key_pairs_info = marked_data.groupby([\"generalized_work_class\", \"global_work_class\"]).size()\n",
    "\n",
    "keys1, keys2 = [], []\n",
    "for key1, key2 in list(key_pairs_info.index):\n",
    "    keys1.append(key1)\n",
    "    keys2.append(key2)"
   ]
  },
  {
   "cell_type": "code",
   "execution_count": 14,
   "id": "967b7196",
   "metadata": {},
   "outputs": [
    {
     "data": {
      "text/html": [
       "<div>\n",
       "<style scoped>\n",
       "    .dataframe tbody tr th:only-of-type {\n",
       "        vertical-align: middle;\n",
       "    }\n",
       "\n",
       "    .dataframe tbody tr th {\n",
       "        vertical-align: top;\n",
       "    }\n",
       "\n",
       "    .dataframe thead th {\n",
       "        text-align: right;\n",
       "    }\n",
       "</style>\n",
       "<table border=\"1\" class=\"dataframe\">\n",
       "  <thead>\n",
       "    <tr style=\"text-align: right;\">\n",
       "      <th></th>\n",
       "      <th>global_work_class</th>\n",
       "    </tr>\n",
       "    <tr>\n",
       "      <th>generalized_work_class</th>\n",
       "      <th></th>\n",
       "    </tr>\n",
       "  </thead>\n",
       "  <tbody>\n",
       "    <tr>\n",
       "      <th>Монтаж блок-бокса</th>\n",
       "      <td>2</td>\n",
       "    </tr>\n",
       "    <tr>\n",
       "      <th>Монтаж крана</th>\n",
       "      <td>2</td>\n",
       "    </tr>\n",
       "    <tr>\n",
       "      <th>Монтаж электрооборудования</th>\n",
       "      <td>2</td>\n",
       "    </tr>\n",
       "  </tbody>\n",
       "</table>\n",
       "</div>"
      ],
      "text/plain": [
       "                            global_work_class\n",
       "generalized_work_class                       \n",
       "Монтаж блок-бокса                           2\n",
       "Монтаж крана                                2\n",
       "Монтаж электрооборудования                  2"
      ]
     },
     "execution_count": 14,
     "metadata": {},
     "output_type": "execute_result"
    }
   ],
   "source": [
    "key_pairs_info_idx = pd.DataFrame(list(zip(keys1, keys2)), columns=[\"generalized_work_class\", \"global_work_class\"])\n",
    "\n",
    "first_key_counted = key_pairs_info_idx.groupby(\"generalized_work_class\").count()\n",
    "first_key_counted.loc[first_key_counted['global_work_class'] > 1]"
   ]
  },
  {
   "cell_type": "code",
   "execution_count": 15,
   "id": "414016ce",
   "metadata": {},
   "outputs": [
    {
     "data": {
      "text/plain": [
       "1050"
      ]
     },
     "execution_count": 15,
     "metadata": {},
     "output_type": "execute_result"
    }
   ],
   "source": [
    "no_sur_keys = list(first_key_counted.loc[first_key_counted['global_work_class'] > 1].index)\n",
    "\n",
    "sum(marked_data[\"generalized_work_class\"].isin(no_sur_keys))"
   ]
  },
  {
   "cell_type": "code",
   "execution_count": 69,
   "id": "d7b13c99",
   "metadata": {},
   "outputs": [
    {
     "data": {
      "text/plain": [
       "296858"
      ]
     },
     "execution_count": 69,
     "metadata": {},
     "output_type": "execute_result"
    }
   ],
   "source": [
    "len(marked_data)"
   ]
  },
  {
   "cell_type": "code",
   "execution_count": 72,
   "id": "bb4251dd",
   "metadata": {},
   "outputs": [
    {
     "name": "stdout",
     "output_type": "stream",
     "text": [
      "0.35% of labeled data with no surjection first key\n"
     ]
    }
   ],
   "source": [
    "print(f\"{1050 * 100 / len(marked_data):.2f}% of labeled data with no surjection first key\")"
   ]
  },
  {
   "cell_type": "markdown",
   "id": "c9d014aa",
   "metadata": {},
   "source": [
    "### Splitting val into surjectioned and non-surjectioned"
   ]
  },
  {
   "cell_type": "code",
   "execution_count": 86,
   "id": "694f2163",
   "metadata": {},
   "outputs": [
    {
     "data": {
      "text/plain": [
       "204"
      ]
     },
     "execution_count": 86,
     "metadata": {},
     "output_type": "execute_result"
    }
   ],
   "source": [
    "~key_pairs_info_idx.generalized_work_class.duplicated(keep=False)\n",
    "len(key_pairs_info_idx.generalized_work_class[~key_pairs_info_idx.generalized_work_class.duplicated(keep=False)])"
   ]
  },
  {
   "cell_type": "code",
   "execution_count": 16,
   "id": "c05df3cf",
   "metadata": {},
   "outputs": [
    {
     "data": {
      "text/plain": [
       "0    АКЗ мк\n",
       "Name: generalized_work_class, dtype: object"
      ]
     },
     "execution_count": 16,
     "metadata": {},
     "output_type": "execute_result"
    }
   ],
   "source": [
    "sur_first_keys = key_pairs_info_idx.generalized_work_class[~key_pairs_info_idx.generalized_work_class.duplicated(keep=False)]\n",
    "sur_first_keys.head(1)"
   ]
  },
  {
   "cell_type": "code",
   "execution_count": 17,
   "id": "0c9c2c2d",
   "metadata": {},
   "outputs": [
    {
     "name": "stderr",
     "output_type": "stream",
     "text": [
      "C:\\Users\\Ivik12S\\AppData\\Local\\Temp\\ipykernel_10752\\3143052891.py:1: SettingWithCopyWarning: \n",
      "A value is trying to be set on a copy of a slice from a DataFrame.\n",
      "Try using .loc[row_indexer,col_indexer] = value instead\n",
      "\n",
      "See the caveats in the documentation: https://pandas.pydata.org/pandas-docs/stable/user_guide/indexing.html#returning-a-view-versus-a-copy\n",
      "  marked_data[\"Index\"] = pd.Series(marked_data.index, index=marked_data.index)\n"
     ]
    },
    {
     "data": {
      "text/plain": [
       "295808"
      ]
     },
     "execution_count": 17,
     "metadata": {},
     "output_type": "execute_result"
    }
   ],
   "source": [
    "marked_data[\"Index\"] = pd.Series(marked_data.index, index=marked_data.index)\n",
    "\n",
    "sur_marked_data = marked_data.merge(sur_first_keys, \n",
    "                                    on=\"generalized_work_class\").set_index(\"Index\")\n",
    "# sur_marked_data.drop(columns=[\"upper_works\"], inplace=True)\n",
    "# sur_marked_data.dropna(axis=1, inplace=True)\n",
    "len(sur_marked_data)"
   ]
  },
  {
   "cell_type": "code",
   "execution_count": 18,
   "id": "690a6135",
   "metadata": {},
   "outputs": [
    {
     "data": {
      "text/html": [
       "<div>\n",
       "<style scoped>\n",
       "    .dataframe tbody tr th:only-of-type {\n",
       "        vertical-align: middle;\n",
       "    }\n",
       "\n",
       "    .dataframe tbody tr th {\n",
       "        vertical-align: top;\n",
       "    }\n",
       "\n",
       "    .dataframe thead th {\n",
       "        text-align: right;\n",
       "    }\n",
       "</style>\n",
       "<table border=\"1\" class=\"dataframe\">\n",
       "  <thead>\n",
       "    <tr style=\"text-align: right;\">\n",
       "      <th></th>\n",
       "      <th>work_name</th>\n",
       "      <th>generalized_work_class</th>\n",
       "      <th>global_work_class</th>\n",
       "      <th>upper_works</th>\n",
       "      <th>Index</th>\n",
       "    </tr>\n",
       "  </thead>\n",
       "  <tbody>\n",
       "    <tr>\n",
       "      <th>623</th>\n",
       "      <td>монтаж блок бокса бу</td>\n",
       "      <td>Монтаж блок-бокса</td>\n",
       "      <td>Монтаж блок-бокса</td>\n",
       "      <td>NaN</td>\n",
       "      <td>623</td>\n",
       "    </tr>\n",
       "  </tbody>\n",
       "</table>\n",
       "</div>"
      ],
      "text/plain": [
       "                work_name generalized_work_class  global_work_class  \\\n",
       "623  монтаж блок бокса бу      Монтаж блок-бокса  Монтаж блок-бокса   \n",
       "\n",
       "    upper_works  Index  \n",
       "623         NaN    623  "
      ]
     },
     "execution_count": 18,
     "metadata": {},
     "output_type": "execute_result"
    }
   ],
   "source": [
    "no_sur_marked_idx = marked_data[marked_data[\"generalized_work_class\"].isin(no_sur_keys)]\n",
    "no_sur_marked_idx.head(1)"
   ]
  },
  {
   "cell_type": "code",
   "execution_count": 19,
   "id": "59606652",
   "metadata": {},
   "outputs": [
    {
     "data": {
      "text/plain": [
       "1050"
      ]
     },
     "execution_count": 19,
     "metadata": {},
     "output_type": "execute_result"
    }
   ],
   "source": [
    "len(no_sur_marked_idx)"
   ]
  },
  {
   "cell_type": "code",
   "execution_count": 20,
   "id": "17028f37",
   "metadata": {},
   "outputs": [
    {
     "name": "stdout",
     "output_type": "stream",
     "text": [
      "Len of no surjection keys: 48\n",
      "Len of surjection keys: 14795\n"
     ]
    }
   ],
   "source": [
    "val_idx = pd.DataFrame(y1_val.index, columns=[\"idx\"])\n",
    "val_idx_no_sur = val_idx[list(val_idx.idx.isin(no_sur_marked_idx.index))]\n",
    "val_idx_sur = val_idx[list(val_idx.idx.isin(sur_marked_data.index))]\n",
    "print(\"Len of no surjection keys:\", len(val_idx_no_sur))\n",
    "print(\"Len of surjection keys:\", len(val_idx_sur))"
   ]
  },
  {
   "cell_type": "code",
   "execution_count": 21,
   "id": "db276d2d",
   "metadata": {},
   "outputs": [
    {
     "data": {
      "text/plain": [
       "14795"
      ]
     },
     "execution_count": 21,
     "metadata": {},
     "output_type": "execute_result"
    }
   ],
   "source": [
    "y1_val_sur = y1_val.iloc[list(val_idx_sur.index)]\n",
    "y2_val_sur = y2_val.iloc[list(val_idx_sur.index)]\n",
    "\n",
    "y1_val_no_sur = y1_val.iloc[list(val_idx_no_sur.index)]\n",
    "y2_val_no_sur = y2_val.iloc[list(val_idx_no_sur.index)]\n",
    "len(y2_val_sur)"
   ]
  },
  {
   "cell_type": "markdown",
   "id": "c2b5ff43",
   "metadata": {},
   "source": [
    "### Defining global classes by general classes"
   ]
  },
  {
   "cell_type": "code",
   "execution_count": 32,
   "id": "b6f73785",
   "metadata": {},
   "outputs": [
    {
     "data": {
      "text/plain": [
       "204"
      ]
     },
     "execution_count": 32,
     "metadata": {},
     "output_type": "execute_result"
    }
   ],
   "source": [
    "sur_keys_data = sur_marked_data[[\"generalized_work_class\", \"global_work_class\"]].drop_duplicates()\n",
    "len(sur_keys_data)"
   ]
  },
  {
   "cell_type": "code",
   "execution_count": 205,
   "id": "0d271633",
   "metadata": {},
   "outputs": [
    {
     "data": {
      "text/plain": [
       "400713    165.0\n",
       "195157    188.0\n",
       "Name: generalized_work_class, dtype: float64"
      ]
     },
     "execution_count": 205,
     "metadata": {},
     "output_type": "execute_result"
    }
   ],
   "source": [
    "model1_preds = pd.Series(predictions[0], index=y1_val.index, name=\"generalized_work_class\")\n",
    "model2_preds = pd.Series(predictions[1], index=y1_val.index, name=\"global_work_class\")\n",
    "model1_preds.head(2)"
   ]
  },
  {
   "cell_type": "code",
   "execution_count": 194,
   "id": "1208914b",
   "metadata": {},
   "outputs": [
    {
     "data": {
      "text/html": [
       "<div>\n",
       "<style scoped>\n",
       "    .dataframe tbody tr th:only-of-type {\n",
       "        vertical-align: middle;\n",
       "    }\n",
       "\n",
       "    .dataframe tbody tr th {\n",
       "        vertical-align: top;\n",
       "    }\n",
       "\n",
       "    .dataframe thead th {\n",
       "        text-align: right;\n",
       "    }\n",
       "</style>\n",
       "<table border=\"1\" class=\"dataframe\">\n",
       "  <thead>\n",
       "    <tr style=\"text-align: right;\">\n",
       "      <th></th>\n",
       "      <th>generalized_work_class</th>\n",
       "      <th>global_work_class</th>\n",
       "    </tr>\n",
       "  </thead>\n",
       "  <tbody>\n",
       "    <tr>\n",
       "      <th>0</th>\n",
       "      <td>132.0</td>\n",
       "      <td>54.0</td>\n",
       "    </tr>\n",
       "    <tr>\n",
       "      <th>1</th>\n",
       "      <td>157.0</td>\n",
       "      <td>26.0</td>\n",
       "    </tr>\n",
       "  </tbody>\n",
       "</table>\n",
       "</div>"
      ],
      "text/plain": [
       "   generalized_work_class  global_work_class\n",
       "0                   132.0               54.0\n",
       "1                   157.0               26.0"
      ]
     },
     "execution_count": 194,
     "metadata": {},
     "output_type": "execute_result"
    }
   ],
   "source": [
    "row1 = pd.Series(\n",
    "    generalized_encoder.transform(sur_keys_data \\\n",
    "                             .generalized_work_class \\\n",
    "                             .values.reshape(-1, 1)) \\\n",
    "                             .flatten(),\n",
    "    name=\"generalized_work_class\")\n",
    "\n",
    "row2 = pd.Series(\n",
    "    global_encoder.transform(sur_keys_data \\\n",
    "                             .global_work_class \\\n",
    "                             .values.reshape(-1, 1)) \\\n",
    "                             .flatten(),\n",
    "    name=\"global_work_class\")\n",
    "\n",
    "sur_keys_encoded = pd.concat([row1, row2], axis=1)\n",
    "sur_keys_encoded.head(2)"
   ]
  },
  {
   "cell_type": "code",
   "execution_count": 206,
   "id": "a6e7c27d",
   "metadata": {},
   "outputs": [
    {
     "data": {
      "text/html": [
       "<div>\n",
       "<style scoped>\n",
       "    .dataframe tbody tr th:only-of-type {\n",
       "        vertical-align: middle;\n",
       "    }\n",
       "\n",
       "    .dataframe tbody tr th {\n",
       "        vertical-align: top;\n",
       "    }\n",
       "\n",
       "    .dataframe thead th {\n",
       "        text-align: right;\n",
       "    }\n",
       "</style>\n",
       "<table border=\"1\" class=\"dataframe\">\n",
       "  <thead>\n",
       "    <tr style=\"text-align: right;\">\n",
       "      <th></th>\n",
       "      <th>generalized_work_class</th>\n",
       "      <th>global_work_class</th>\n",
       "    </tr>\n",
       "  </thead>\n",
       "  <tbody>\n",
       "    <tr>\n",
       "      <th>400713</th>\n",
       "      <td>165.0</td>\n",
       "      <td>32.0</td>\n",
       "    </tr>\n",
       "    <tr>\n",
       "      <th>195157</th>\n",
       "      <td>188.0</td>\n",
       "      <td>44.0</td>\n",
       "    </tr>\n",
       "  </tbody>\n",
       "</table>\n",
       "</div>"
      ],
      "text/plain": [
       "        generalized_work_class  global_work_class\n",
       "400713                   165.0               32.0\n",
       "195157                   188.0               44.0"
      ]
     },
     "execution_count": 206,
     "metadata": {},
     "output_type": "execute_result"
    }
   ],
   "source": [
    "models_def_preds = model1_preds.to_frame()\\\n",
    "            .merge(sur_keys_encoded, on=\"generalized_work_class\", how=\"left\")\\\n",
    "            .set_index(y1_val.index)\n",
    "models_def_preds.head(2)"
   ]
  },
  {
   "cell_type": "code",
   "execution_count": 214,
   "id": "03d8d39f",
   "metadata": {},
   "outputs": [
    {
     "data": {
      "text/plain": [
       "48"
      ]
     },
     "execution_count": 214,
     "metadata": {},
     "output_type": "execute_result"
    }
   ],
   "source": [
    "idxs = models_def_preds.global_work_class[models_def_preds.global_work_class.isna()].index\n",
    "len(idxs)"
   ]
  },
  {
   "cell_type": "code",
   "execution_count": 216,
   "id": "cf275cd4",
   "metadata": {},
   "outputs": [],
   "source": [
    "models_def_preds.loc[idxs, \"global_work_class\"] = model2_preds[idxs]"
   ]
  },
  {
   "cell_type": "code",
   "execution_count": 220,
   "id": "866acf1a",
   "metadata": {},
   "outputs": [],
   "source": [
    "gen_pred = models_def_preds.generalized_work_class.values\n",
    "glob_pred = models_def_preds.global_work_class.values\n",
    "\n",
    "f1_score_1_micro = f1_score(y1_val, gen_pred, average='micro') # Generalized_work_class F1 micro\n",
    "f1_score_2_micro = f1_score(y2_val, glob_pred, average='micro') # Global_work_class F1 micro\n",
    "\n",
    "f1_score_1_macro = f1_score(y1_val, gen_pred, average='macro') # Generalized_work_class F1 macro\n",
    "f1_score_2_macro = f1_score(y2_val, glob_pred, average='macro') # Global_work_class F1 macro\n",
    "\n",
    "total_f1_score_micro = np.mean((f1_score_1_micro, f1_score_2_micro)) # Total F1 micro score\n",
    "total_f1_score_macro = np.mean((f1_score_1_macro, f1_score_2_macro)) # Total F1 macro score"
   ]
  },
  {
   "cell_type": "code",
   "execution_count": 221,
   "id": "46ce95d2",
   "metadata": {},
   "outputs": [
    {
     "data": {
      "text/html": [
       "<div>\n",
       "<style scoped>\n",
       "    .dataframe tbody tr th:only-of-type {\n",
       "        vertical-align: middle;\n",
       "    }\n",
       "\n",
       "    .dataframe tbody tr th {\n",
       "        vertical-align: top;\n",
       "    }\n",
       "\n",
       "    .dataframe thead th {\n",
       "        text-align: right;\n",
       "    }\n",
       "</style>\n",
       "<table border=\"1\" class=\"dataframe\">\n",
       "  <thead>\n",
       "    <tr style=\"text-align: right;\">\n",
       "      <th></th>\n",
       "      <th>generalized_work_class</th>\n",
       "      <th>global_work_class</th>\n",
       "      <th>total</th>\n",
       "    </tr>\n",
       "  </thead>\n",
       "  <tbody>\n",
       "    <tr>\n",
       "      <th>F1 micro</th>\n",
       "      <td>0.980</td>\n",
       "      <td>0.982</td>\n",
       "      <td>0.981</td>\n",
       "    </tr>\n",
       "    <tr>\n",
       "      <th>F1 macro</th>\n",
       "      <td>0.792</td>\n",
       "      <td>0.836</td>\n",
       "      <td>0.814</td>\n",
       "    </tr>\n",
       "  </tbody>\n",
       "</table>\n",
       "</div>"
      ],
      "text/plain": [
       "          generalized_work_class  global_work_class  total\n",
       "F1 micro                   0.980              0.982  0.981\n",
       "F1 macro                   0.792              0.836  0.814"
      ]
     },
     "execution_count": 221,
     "metadata": {},
     "output_type": "execute_result"
    }
   ],
   "source": [
    "pd.DataFrame(\n",
    "    {\n",
    "    'generalized_work_class': [f1_score_1_micro, f1_score_1_macro],\n",
    "    'global_work_class': [f1_score_2_micro, f1_score_2_macro],\n",
    "    'total': [total_f1_score_micro, total_f1_score_macro]\n",
    "    },\n",
    "    index=['F1 micro', 'F1 macro']\n",
    ").round(3) # Form a summarised table with rounded metric values"
   ]
  },
  {
   "cell_type": "markdown",
   "id": "0b3d9652",
   "metadata": {},
   "source": [
    "## Recovering data from a prediction"
   ]
  },
  {
   "cell_type": "markdown",
   "id": "a6a15802",
   "metadata": {},
   "source": [
    "`ENG`\n",
    "\n",
    "The resulting model predicts numbers but not text. Let's \"reconstruct\" the data from the predictions. We will also see what errors the model makes.\n",
    "\n",
    "`RU`\n",
    "\n",
    "Полученная модель предсказывает числа, но не текст. \"Восстановим\" данные по предсказаниям. Также посмотрим, какие ошибки допускает модель."
   ]
  },
  {
   "cell_type": "code",
   "execution_count": 222,
   "id": "a07aa9b4",
   "metadata": {},
   "outputs": [],
   "source": [
    "generalized_predicted_class = pd.Series(\n",
    "    generalized_encoder.inverse_transform(predictions[0].reshape(-1, 1)).flatten(),\n",
    "    index=X_val.index,\n",
    "    name=\"generalized_work_class\",\n",
    ") # Form generalized_work_class series\n",
    "global_predicted_class = pd.Series(\n",
    "    global_encoder.inverse_transform(predictions[1].reshape(-1, 1)).flatten(),\n",
    "    index=X_val.index,\n",
    "    name=\"global_work_class\",\n",
    ") # Form global_work_class series"
   ]
  },
  {
   "cell_type": "markdown",
   "id": "81f3c9eb",
   "metadata": {},
   "source": [
    "#### Recovering validation dataframe from predicted values"
   ]
  },
  {
   "cell_type": "code",
   "execution_count": 223,
   "id": "b1d89860",
   "metadata": {},
   "outputs": [],
   "source": [
    "val_dataframe_from_predictions = pd.concat(\n",
    "    (X_val_raw, generalized_predicted_class, global_predicted_class), axis=1\n",
    ") # Form val dataframe from predicted values"
   ]
  },
  {
   "cell_type": "code",
   "execution_count": 224,
   "id": "2c90c914",
   "metadata": {},
   "outputs": [],
   "source": [
    "mistakes_recovered = val_dataframe_from_predictions[\n",
    "    (\n",
    "        val_dataframe_from_predictions[\"generalized_work_class\"]\n",
    "        != data.loc[X_val_raw.index, \"generalized_work_class\"]\n",
    "    )\n",
    "    | (\n",
    "        val_dataframe_from_predictions[\"global_work_class\"]\n",
    "        != data.loc[X_val_raw.index, \"global_work_class\"]\n",
    "    )\n",
    "] # Get the rows of the recovered dataframe where the errors occurred\n",
    "mistakes_original = data.loc[X_val_raw.index][\n",
    "    (\n",
    "        data.loc[X_val_raw.index, \"generalized_work_class\"]\n",
    "        != val_dataframe_from_predictions[\"generalized_work_class\"]\n",
    "    )\n",
    "    | (\n",
    "        data.loc[X_val_raw.index, \"global_work_class\"]\n",
    "        != val_dataframe_from_predictions[\"global_work_class\"]\n",
    "    )\n",
    "].drop(columns=\"upper_works\") # Get the rows of the original dataframe where the errors occurred"
   ]
  },
  {
   "cell_type": "code",
   "execution_count": 225,
   "id": "942bf0c8",
   "metadata": {},
   "outputs": [
    {
     "name": "stdout",
     "output_type": "stream",
     "text": [
      "Число ошибок: 447 из 14843 предсказаний\n",
      "\n",
      "Оригинал:\n"
     ]
    },
    {
     "data": {
      "text/html": [
       "<div>\n",
       "<style scoped>\n",
       "    .dataframe tbody tr th:only-of-type {\n",
       "        vertical-align: middle;\n",
       "    }\n",
       "\n",
       "    .dataframe tbody tr th {\n",
       "        vertical-align: top;\n",
       "    }\n",
       "\n",
       "    .dataframe thead th {\n",
       "        text-align: right;\n",
       "    }\n",
       "</style>\n",
       "<table border=\"1\" class=\"dataframe\">\n",
       "  <thead>\n",
       "    <tr style=\"text-align: right;\">\n",
       "      <th></th>\n",
       "      <th>work_name</th>\n",
       "      <th>generalized_work_class</th>\n",
       "      <th>global_work_class</th>\n",
       "    </tr>\n",
       "  </thead>\n",
       "  <tbody>\n",
       "    <tr>\n",
       "      <th>439123</th>\n",
       "      <td>установка систем мску,нку,сау (поз.6)</td>\n",
       "      <td>Монтаж оборудования</td>\n",
       "      <td>Монтаж</td>\n",
       "    </tr>\n",
       "    <tr>\n",
       "      <th>574601</th>\n",
       "      <td>зашивка цоколя профлистом</td>\n",
       "      <td>Внешняя отделка</td>\n",
       "      <td>Отделка</td>\n",
       "    </tr>\n",
       "    <tr>\n",
       "      <th>77955</th>\n",
       "      <td>планировка грунта (с откосами) (узлы лч)</td>\n",
       "      <td>Планировка грунта</td>\n",
       "      <td>Планировка грунта</td>\n",
       "    </tr>\n",
       "    <tr>\n",
       "      <th>349651</th>\n",
       "      <td>монтаж зра (подача метанола) (поз.4.5)</td>\n",
       "      <td>Монтаж ЗРА</td>\n",
       "      <td>Монтаж</td>\n",
       "    </tr>\n",
       "    <tr>\n",
       "      <th>83016</th>\n",
       "      <td>монтаж оборудования связи на мачте н=35м</td>\n",
       "      <td>Монтаж мк</td>\n",
       "      <td>Монтаж мк</td>\n",
       "    </tr>\n",
       "    <tr>\n",
       "      <th>395096</th>\n",
       "      <td>эо/межплощадочные трубопроводы от т.1 до пл. у...</td>\n",
       "      <td>Монтаж кабеля</td>\n",
       "      <td>Монтаж электрики</td>\n",
       "    </tr>\n",
       "    <tr>\n",
       "      <th>25540</th>\n",
       "      <td>монтаж емкостей (поз.55.1,55.2)</td>\n",
       "      <td>Монтаж мк</td>\n",
       "      <td>Монтаж мк</td>\n",
       "    </tr>\n",
       "    <tr>\n",
       "      <th>437995</th>\n",
       "      <td>досборка технологических трубопроводов тда (по...</td>\n",
       "      <td>Сборка оборудования</td>\n",
       "      <td>Сборка</td>\n",
       "    </tr>\n",
       "    <tr>\n",
       "      <th>349938</th>\n",
       "      <td>эн/поз.5.11.4/монтаж заделки концевой</td>\n",
       "      <td>Монтаж мелких комплектующих кабеля</td>\n",
       "      <td>Монтаж электрики</td>\n",
       "    </tr>\n",
       "    <tr>\n",
       "      <th>439173</th>\n",
       "      <td>тк/с037/акз технологических трубопроводов и зр...</td>\n",
       "      <td>Монтаж ЗРА</td>\n",
       "      <td>Монтаж</td>\n",
       "    </tr>\n",
       "  </tbody>\n",
       "</table>\n",
       "</div>"
      ],
      "text/plain": [
       "                                                work_name  \\\n",
       "439123              установка систем мску,нку,сау (поз.6)   \n",
       "574601                          зашивка цоколя профлистом   \n",
       "77955            планировка грунта (с откосами) (узлы лч)   \n",
       "349651             монтаж зра (подача метанола) (поз.4.5)   \n",
       "83016            монтаж оборудования связи на мачте н=35м   \n",
       "395096  эо/межплощадочные трубопроводы от т.1 до пл. у...   \n",
       "25540                     монтаж емкостей (поз.55.1,55.2)   \n",
       "437995  досборка технологических трубопроводов тда (по...   \n",
       "349938              эн/поз.5.11.4/монтаж заделки концевой   \n",
       "439173  тк/с037/акз технологических трубопроводов и зр...   \n",
       "\n",
       "                    generalized_work_class  global_work_class  \n",
       "439123                 Монтаж оборудования             Монтаж  \n",
       "574601                     Внешняя отделка            Отделка  \n",
       "77955                    Планировка грунта  Планировка грунта  \n",
       "349651                          Монтаж ЗРА             Монтаж  \n",
       "83016                            Монтаж мк          Монтаж мк  \n",
       "395096                       Монтаж кабеля   Монтаж электрики  \n",
       "25540                            Монтаж мк          Монтаж мк  \n",
       "437995                 Сборка оборудования             Сборка  \n",
       "349938  Монтаж мелких комплектующих кабеля   Монтаж электрики  \n",
       "439173                          Монтаж ЗРА             Монтаж  "
      ]
     },
     "metadata": {},
     "output_type": "display_data"
    },
    {
     "name": "stdout",
     "output_type": "stream",
     "text": [
      "Восстановлено по предсказаниям:\n"
     ]
    },
    {
     "data": {
      "text/html": [
       "<div>\n",
       "<style scoped>\n",
       "    .dataframe tbody tr th:only-of-type {\n",
       "        vertical-align: middle;\n",
       "    }\n",
       "\n",
       "    .dataframe tbody tr th {\n",
       "        vertical-align: top;\n",
       "    }\n",
       "\n",
       "    .dataframe thead th {\n",
       "        text-align: right;\n",
       "    }\n",
       "</style>\n",
       "<table border=\"1\" class=\"dataframe\">\n",
       "  <thead>\n",
       "    <tr style=\"text-align: right;\">\n",
       "      <th></th>\n",
       "      <th>work_name</th>\n",
       "      <th>generalized_work_class</th>\n",
       "      <th>global_work_class</th>\n",
       "    </tr>\n",
       "  </thead>\n",
       "  <tbody>\n",
       "    <tr>\n",
       "      <th>439123</th>\n",
       "      <td>установка систем мску,нку,сау (поз.6)</td>\n",
       "      <td>Погружение свай</td>\n",
       "      <td>Монтаж электрики</td>\n",
       "    </tr>\n",
       "    <tr>\n",
       "      <th>574601</th>\n",
       "      <td>зашивка цоколя профлистом</td>\n",
       "      <td>Внешняя отделка</td>\n",
       "      <td>Монтаж</td>\n",
       "    </tr>\n",
       "    <tr>\n",
       "      <th>77955</th>\n",
       "      <td>планировка грунта (с откосами) (узлы лч)</td>\n",
       "      <td>Разработка грунта</td>\n",
       "      <td>Разработка грунта</td>\n",
       "    </tr>\n",
       "    <tr>\n",
       "      <th>349651</th>\n",
       "      <td>монтаж зра (подача метанола) (поз.4.5)</td>\n",
       "      <td>Монтаж оборудования</td>\n",
       "      <td>Монтаж</td>\n",
       "    </tr>\n",
       "    <tr>\n",
       "      <th>83016</th>\n",
       "      <td>монтаж оборудования связи на мачте н=35м</td>\n",
       "      <td>Монтаж мк</td>\n",
       "      <td>Монтаж</td>\n",
       "    </tr>\n",
       "    <tr>\n",
       "      <th>395096</th>\n",
       "      <td>эо/межплощадочные трубопроводы от т.1 до пл. у...</td>\n",
       "      <td>Монтаж трубопровода</td>\n",
       "      <td>Монтаж электрики</td>\n",
       "    </tr>\n",
       "    <tr>\n",
       "      <th>25540</th>\n",
       "      <td>монтаж емкостей (поз.55.1,55.2)</td>\n",
       "      <td>Монтаж мк</td>\n",
       "      <td>Монтаж опор</td>\n",
       "    </tr>\n",
       "    <tr>\n",
       "      <th>437995</th>\n",
       "      <td>досборка технологических трубопроводов тда (по...</td>\n",
       "      <td>Монтаж трубопровода</td>\n",
       "      <td>Прокладка трубопровода</td>\n",
       "    </tr>\n",
       "    <tr>\n",
       "      <th>349938</th>\n",
       "      <td>эн/поз.5.11.4/монтаж заделки концевой</td>\n",
       "      <td>Монтаж мелких комплектующих кабеля</td>\n",
       "      <td>Монтаж</td>\n",
       "    </tr>\n",
       "    <tr>\n",
       "      <th>439173</th>\n",
       "      <td>тк/с037/акз технологических трубопроводов и зр...</td>\n",
       "      <td>Монтаж ЗРА</td>\n",
       "      <td>АКЗ</td>\n",
       "    </tr>\n",
       "  </tbody>\n",
       "</table>\n",
       "</div>"
      ],
      "text/plain": [
       "                                                work_name  \\\n",
       "439123              установка систем мску,нку,сау (поз.6)   \n",
       "574601                          зашивка цоколя профлистом   \n",
       "77955            планировка грунта (с откосами) (узлы лч)   \n",
       "349651             монтаж зра (подача метанола) (поз.4.5)   \n",
       "83016            монтаж оборудования связи на мачте н=35м   \n",
       "395096  эо/межплощадочные трубопроводы от т.1 до пл. у...   \n",
       "25540                     монтаж емкостей (поз.55.1,55.2)   \n",
       "437995  досборка технологических трубопроводов тда (по...   \n",
       "349938              эн/поз.5.11.4/монтаж заделки концевой   \n",
       "439173  тк/с037/акз технологических трубопроводов и зр...   \n",
       "\n",
       "                    generalized_work_class       global_work_class  \n",
       "439123                     Погружение свай        Монтаж электрики  \n",
       "574601                     Внешняя отделка                  Монтаж  \n",
       "77955                    Разработка грунта       Разработка грунта  \n",
       "349651                 Монтаж оборудования                  Монтаж  \n",
       "83016                            Монтаж мк                  Монтаж  \n",
       "395096                 Монтаж трубопровода        Монтаж электрики  \n",
       "25540                            Монтаж мк             Монтаж опор  \n",
       "437995                 Монтаж трубопровода  Прокладка трубопровода  \n",
       "349938  Монтаж мелких комплектующих кабеля                  Монтаж  \n",
       "439173                          Монтаж ЗРА                     АКЗ  "
      ]
     },
     "metadata": {},
     "output_type": "display_data"
    }
   ],
   "source": [
    "print(f'Число ошибок: {mistakes_recovered.shape[0]} из {val_dataframe_from_predictions.shape[0]} предсказаний')\n",
    "print()\n",
    "print('Оригинал:')\n",
    "display(mistakes_original.sample(10, random_state=42))\n",
    "print('Восстановлено по предсказаниям:')\n",
    "display(mistakes_recovered.sample(10, random_state=42))\n"
   ]
  },
  {
   "cell_type": "markdown",
   "id": "b093b827",
   "metadata": {},
   "source": [
    "#### Recovering mistakes from the model with surjection"
   ]
  },
  {
   "cell_type": "code",
   "execution_count": 250,
   "id": "7501a9c7",
   "metadata": {
    "scrolled": false
   },
   "outputs": [
    {
     "name": "stdout",
     "output_type": "stream",
     "text": [
      "Число ошибок: 303 из 14843 предсказаний\n",
      "\n",
      "Оригинал:\n"
     ]
    },
    {
     "data": {
      "text/html": [
       "<div>\n",
       "<style scoped>\n",
       "    .dataframe tbody tr th:only-of-type {\n",
       "        vertical-align: middle;\n",
       "    }\n",
       "\n",
       "    .dataframe tbody tr th {\n",
       "        vertical-align: top;\n",
       "    }\n",
       "\n",
       "    .dataframe thead th {\n",
       "        text-align: right;\n",
       "    }\n",
       "</style>\n",
       "<table border=\"1\" class=\"dataframe\">\n",
       "  <thead>\n",
       "    <tr style=\"text-align: right;\">\n",
       "      <th></th>\n",
       "      <th>work_name</th>\n",
       "      <th>generalized_work_class</th>\n",
       "      <th>global_work_class</th>\n",
       "    </tr>\n",
       "  </thead>\n",
       "  <tbody>\n",
       "    <tr>\n",
       "      <th>578032</th>\n",
       "      <td>антикоррозийная изоляция подземных труб</td>\n",
       "      <td>Монтаж арматуры</td>\n",
       "      <td>Монтаж</td>\n",
       "    </tr>\n",
       "    <tr>\n",
       "      <th>306006</th>\n",
       "      <td>монтаж пневмопровода, компрессоров и ресивера</td>\n",
       "      <td>Монтаж трубопровода</td>\n",
       "      <td>Прокладка трубопровода</td>\n",
       "    </tr>\n",
       "    <tr>\n",
       "      <th>114129</th>\n",
       "      <td>ас/поз.3.3/монтаж металлоконструкций под основ...</td>\n",
       "      <td>Монтаж мк</td>\n",
       "      <td>Монтаж мк</td>\n",
       "    </tr>\n",
       "    <tr>\n",
       "      <th>293685</th>\n",
       "      <td>монтаж системы отопления</td>\n",
       "      <td>Монтаж трубопровода</td>\n",
       "      <td>Прокладка трубопровода</td>\n",
       "    </tr>\n",
       "    <tr>\n",
       "      <th>485007</th>\n",
       "      <td>изготовление м/к балочной клетки</td>\n",
       "      <td>Изготовление мк</td>\n",
       "      <td>Изготовление</td>\n",
       "    </tr>\n",
       "    <tr>\n",
       "      <th>473746</th>\n",
       "      <td>монтаж кабельных наконечников</td>\n",
       "      <td>Монтаж кабель-каналов</td>\n",
       "      <td>Монтаж</td>\n",
       "    </tr>\n",
       "    <tr>\n",
       "      <th>168327</th>\n",
       "      <td>монтаж трубопроводов ду 159х6 (поз.с037-тк1.4 ...</td>\n",
       "      <td>Монтаж оборудования</td>\n",
       "      <td>Монтаж</td>\n",
       "    </tr>\n",
       "    <tr>\n",
       "      <th>78622</th>\n",
       "      <td>монтаж трубопроводов ду 820х10 (поз.с037-тк1.4...</td>\n",
       "      <td>Монтаж оборудования</td>\n",
       "      <td>Монтаж</td>\n",
       "    </tr>\n",
       "    <tr>\n",
       "      <th>215148</th>\n",
       "      <td>эом/поз.1.6/прокладка провода</td>\n",
       "      <td>Монтаж трубопровода</td>\n",
       "      <td>Прокладка трубопровода</td>\n",
       "    </tr>\n",
       "    <tr>\n",
       "      <th>571078</th>\n",
       "      <td>монтаж узлов прохода трубопроводов</td>\n",
       "      <td>Монтаж оборудования</td>\n",
       "      <td>Монтаж</td>\n",
       "    </tr>\n",
       "  </tbody>\n",
       "</table>\n",
       "</div>"
      ],
      "text/plain": [
       "                                                work_name  \\\n",
       "578032            антикоррозийная изоляция подземных труб   \n",
       "306006      монтаж пневмопровода, компрессоров и ресивера   \n",
       "114129  ас/поз.3.3/монтаж металлоконструкций под основ...   \n",
       "293685                           монтаж системы отопления   \n",
       "485007                   изготовление м/к балочной клетки   \n",
       "473746                      монтаж кабельных наконечников   \n",
       "168327  монтаж трубопроводов ду 159х6 (поз.с037-тк1.4 ...   \n",
       "78622   монтаж трубопроводов ду 820х10 (поз.с037-тк1.4...   \n",
       "215148                      эом/поз.1.6/прокладка провода   \n",
       "571078                 монтаж узлов прохода трубопроводов   \n",
       "\n",
       "       generalized_work_class       global_work_class  \n",
       "578032        Монтаж арматуры                  Монтаж  \n",
       "306006    Монтаж трубопровода  Прокладка трубопровода  \n",
       "114129              Монтаж мк               Монтаж мк  \n",
       "293685    Монтаж трубопровода  Прокладка трубопровода  \n",
       "485007        Изготовление мк            Изготовление  \n",
       "473746  Монтаж кабель-каналов                  Монтаж  \n",
       "168327    Монтаж оборудования                  Монтаж  \n",
       "78622     Монтаж оборудования                  Монтаж  \n",
       "215148    Монтаж трубопровода  Прокладка трубопровода  \n",
       "571078    Монтаж оборудования                  Монтаж  "
      ]
     },
     "metadata": {},
     "output_type": "display_data"
    },
    {
     "name": "stdout",
     "output_type": "stream",
     "text": [
      "Восстановлено по предсказаниям:\n"
     ]
    },
    {
     "data": {
      "text/html": [
       "<div>\n",
       "<style scoped>\n",
       "    .dataframe tbody tr th:only-of-type {\n",
       "        vertical-align: middle;\n",
       "    }\n",
       "\n",
       "    .dataframe tbody tr th {\n",
       "        vertical-align: top;\n",
       "    }\n",
       "\n",
       "    .dataframe thead th {\n",
       "        text-align: right;\n",
       "    }\n",
       "</style>\n",
       "<table border=\"1\" class=\"dataframe\">\n",
       "  <thead>\n",
       "    <tr style=\"text-align: right;\">\n",
       "      <th></th>\n",
       "      <th>work_name</th>\n",
       "      <th>generalized_work_class</th>\n",
       "      <th>global_work_class</th>\n",
       "    </tr>\n",
       "  </thead>\n",
       "  <tbody>\n",
       "    <tr>\n",
       "      <th>578032</th>\n",
       "      <td>антикоррозийная изоляция подземных труб</td>\n",
       "      <td>АКЗ трубопровода</td>\n",
       "      <td>АКЗ</td>\n",
       "    </tr>\n",
       "    <tr>\n",
       "      <th>306006</th>\n",
       "      <td>монтаж пневмопровода, компрессоров и ресивера</td>\n",
       "      <td>Монтаж кабеля</td>\n",
       "      <td>Монтаж электрики</td>\n",
       "    </tr>\n",
       "    <tr>\n",
       "      <th>114129</th>\n",
       "      <td>ас/поз.3.3/монтаж металлоконструкций под основ...</td>\n",
       "      <td>Монтаж оборудования</td>\n",
       "      <td>Монтаж</td>\n",
       "    </tr>\n",
       "    <tr>\n",
       "      <th>293685</th>\n",
       "      <td>монтаж системы отопления</td>\n",
       "      <td>Монтаж термостабилизаторов</td>\n",
       "      <td>Монтаж</td>\n",
       "    </tr>\n",
       "    <tr>\n",
       "      <th>485007</th>\n",
       "      <td>изготовление м/к балочной клетки</td>\n",
       "      <td>Монтаж мк</td>\n",
       "      <td>Монтаж мк</td>\n",
       "    </tr>\n",
       "    <tr>\n",
       "      <th>473746</th>\n",
       "      <td>монтаж кабельных наконечников</td>\n",
       "      <td>Монтаж мелких комплектующих кабеля</td>\n",
       "      <td>Монтаж электрики</td>\n",
       "    </tr>\n",
       "    <tr>\n",
       "      <th>168327</th>\n",
       "      <td>монтаж трубопроводов ду 159х6 (поз.с037-тк1.4 ...</td>\n",
       "      <td>Монтаж трубопровода</td>\n",
       "      <td>Прокладка трубопровода</td>\n",
       "    </tr>\n",
       "    <tr>\n",
       "      <th>78622</th>\n",
       "      <td>монтаж трубопроводов ду 820х10 (поз.с037-тк1.4...</td>\n",
       "      <td>Монтаж трубопровода</td>\n",
       "      <td>Прокладка трубопровода</td>\n",
       "    </tr>\n",
       "    <tr>\n",
       "      <th>215148</th>\n",
       "      <td>эом/поз.1.6/прокладка провода</td>\n",
       "      <td>Монтаж кабеля</td>\n",
       "      <td>Монтаж электрики</td>\n",
       "    </tr>\n",
       "    <tr>\n",
       "      <th>571078</th>\n",
       "      <td>монтаж узлов прохода трубопроводов</td>\n",
       "      <td>Монтаж трубопровода</td>\n",
       "      <td>Прокладка трубопровода</td>\n",
       "    </tr>\n",
       "  </tbody>\n",
       "</table>\n",
       "</div>"
      ],
      "text/plain": [
       "                                                work_name  \\\n",
       "578032            антикоррозийная изоляция подземных труб   \n",
       "306006      монтаж пневмопровода, компрессоров и ресивера   \n",
       "114129  ас/поз.3.3/монтаж металлоконструкций под основ...   \n",
       "293685                           монтаж системы отопления   \n",
       "485007                   изготовление м/к балочной клетки   \n",
       "473746                      монтаж кабельных наконечников   \n",
       "168327  монтаж трубопроводов ду 159х6 (поз.с037-тк1.4 ...   \n",
       "78622   монтаж трубопроводов ду 820х10 (поз.с037-тк1.4...   \n",
       "215148                      эом/поз.1.6/прокладка провода   \n",
       "571078                 монтаж узлов прохода трубопроводов   \n",
       "\n",
       "                    generalized_work_class       global_work_class  \n",
       "578032                    АКЗ трубопровода                     АКЗ  \n",
       "306006                       Монтаж кабеля        Монтаж электрики  \n",
       "114129                 Монтаж оборудования                  Монтаж  \n",
       "293685          Монтаж термостабилизаторов                  Монтаж  \n",
       "485007                           Монтаж мк               Монтаж мк  \n",
       "473746  Монтаж мелких комплектующих кабеля        Монтаж электрики  \n",
       "168327                 Монтаж трубопровода  Прокладка трубопровода  \n",
       "78622                  Монтаж трубопровода  Прокладка трубопровода  \n",
       "215148                       Монтаж кабеля        Монтаж электрики  \n",
       "571078                 Монтаж трубопровода  Прокладка трубопровода  "
      ]
     },
     "metadata": {},
     "output_type": "display_data"
    }
   ],
   "source": [
    "# gen_pred = models_def_preds.generalized_work_class.values\n",
    "# glob_pred = models_def_preds.global_work_class.values\n",
    "\n",
    "generalized_predicted_class = pd.Series(\n",
    "    generalized_encoder.inverse_transform(gen_pred.reshape(-1, 1)).flatten(),\n",
    "    index=X_val.index,\n",
    "    name=\"generalized_work_class\",\n",
    ") # Form generalized_work_class series\n",
    "global_predicted_class = pd.Series(\n",
    "    global_encoder.inverse_transform(glob_pred.reshape(-1, 1)).flatten(),\n",
    "    index=X_val.index,\n",
    "    name=\"global_work_class\",\n",
    ") # Form global_work_class series\n",
    "\n",
    "\n",
    "val_dataframe_from_predictions = pd.concat(\n",
    "    (X_val_raw, generalized_predicted_class, global_predicted_class), axis=1\n",
    ") # Form val dataframe from predicted values\n",
    "    \n",
    "mistakes_recovered = val_dataframe_from_predictions[\n",
    "    (\n",
    "        val_dataframe_from_predictions[\"generalized_work_class\"]\n",
    "        != data.loc[X_val_raw.index, \"generalized_work_class\"]\n",
    "    )\n",
    "    | (\n",
    "        val_dataframe_from_predictions[\"global_work_class\"]\n",
    "        != data.loc[X_val_raw.index, \"global_work_class\"]\n",
    "    )\n",
    "] # Get the rows of the recovered dataframe where the errors occurred\n",
    "mistakes_original = data.loc[X_val_raw.index][\n",
    "    (\n",
    "        data.loc[X_val_raw.index, \"generalized_work_class\"]\n",
    "        != val_dataframe_from_predictions[\"generalized_work_class\"]\n",
    "    )\n",
    "    | (\n",
    "        data.loc[X_val_raw.index, \"global_work_class\"]\n",
    "        != val_dataframe_from_predictions[\"global_work_class\"]\n",
    "    )\n",
    "].drop(columns=\"upper_works\") # Get the rows of the original dataframe where the errors occurred\n",
    "print(f'Число ошибок: {mistakes_recovered.shape[0]} из {val_dataframe_from_predictions.shape[0]} предсказаний')\n",
    "print()\n",
    "print('Оригинал:')\n",
    "display(mistakes_original.sample(10, random_state=42))\n",
    "print('Восстановлено по предсказаниям:')\n",
    "display(mistakes_recovered.sample(10, random_state=42))\n",
    " "
   ]
  },
  {
   "cell_type": "code",
   "execution_count": 251,
   "id": "4669cd27",
   "metadata": {},
   "outputs": [
    {
     "data": {
      "text/plain": [
       "48"
      ]
     },
     "execution_count": 251,
     "metadata": {},
     "output_type": "execute_result"
    }
   ],
   "source": [
    "val_dataframe_from_predictions_slice = val_dataframe_from_predictions.loc[idxs]\n",
    "len(val_dataframe_from_predictions_slice)"
   ]
  },
  {
   "cell_type": "code",
   "execution_count": 252,
   "id": "df0b21dd",
   "metadata": {},
   "outputs": [],
   "source": [
    "mistakes_nosur_recovered = val_dataframe_from_predictions_slice[\n",
    "    (\n",
    "        val_dataframe_from_predictions.loc[idxs, \"generalized_work_class\"]\n",
    "        != data.loc[idxs, \"generalized_work_class\"]\n",
    "    )\n",
    "    | (\n",
    "        val_dataframe_from_predictions.loc[idxs, \"global_work_class\"]\n",
    "        != data.loc[idxs, \"global_work_class\"]\n",
    "    )\n",
    "]"
   ]
  },
  {
   "cell_type": "code",
   "execution_count": 237,
   "id": "38b05d90",
   "metadata": {},
   "outputs": [
    {
     "name": "stdout",
     "output_type": "stream",
     "text": [
      "Число ошибок: 6 из 48\n"
     ]
    }
   ],
   "source": [
    "print(f'Число ошибок: {mistakes_nosur_recovered.shape[0]} из 48') # in 87,5% of cases the class is "
   ]
  },
  {
   "cell_type": "markdown",
   "id": "21f463ad",
   "metadata": {},
   "source": [
    "### Mistakes analysis"
   ]
  },
  {
   "cell_type": "code",
   "execution_count": 276,
   "id": "c367efa6",
   "metadata": {},
   "outputs": [
    {
     "data": {
      "text/plain": [
       "110"
      ]
     },
     "execution_count": 276,
     "metadata": {},
     "output_type": "execute_result"
    }
   ],
   "source": [
    "len(mistakes_original.generalized_work_class.unique())"
   ]
  },
  {
   "cell_type": "code",
   "execution_count": 267,
   "id": "acee92e6",
   "metadata": {},
   "outputs": [
    {
     "data": {
      "text/plain": [
       "['Монтаж мк',\n",
       " 'Монтаж блока',\n",
       " 'Монтаж',\n",
       " 'Укладка',\n",
       " 'Монтаж электрики',\n",
       " 'Монтаж заземления',\n",
       " 'Изготовление и монтаж',\n",
       " 'Армирование',\n",
       " 'Изготовление',\n",
       " 'Испытания систем',\n",
       " 'Бурение',\n",
       " 'АКЗ',\n",
       " 'Огрунтовка и окраска',\n",
       " 'Гидроиспытания',\n",
       " 'Монтаж опор',\n",
       " 'АОВ',\n",
       " 'Прокладка трубопровода',\n",
       " 'Герметизация',\n",
       " 'Монтаж свай',\n",
       " 'Монтаж блок-бокса',\n",
       " 'Засыпка',\n",
       " 'Демонтаж',\n",
       " 'Сборка',\n",
       " 'Бетонирование',\n",
       " 'Изоляция',\n",
       " 'Планировка грунта',\n",
       " 'Перевозки',\n",
       " 'Прокладка кабеля',\n",
       " 'ПНР',\n",
       " 'Монтаж водоснабжения',\n",
       " 'Разработка грунта',\n",
       " 'Приемка',\n",
       " 'Балластировка трубопровода',\n",
       " 'Строительство зданий',\n",
       " 'Запуск',\n",
       " 'Монтаж строительной техники',\n",
       " 'Испытания изоляции',\n",
       " 'Грунтовка',\n",
       " 'Очистка трубопровода',\n",
       " 'Монтаж оборудования',\n",
       " 'Автоматизация',\n",
       " 'Монтаж изоляции']"
      ]
     },
     "execution_count": 267,
     "metadata": {},
     "output_type": "execute_result"
    }
   ],
   "source": [
    "list(mistakes_original.generalized_work_class.unique())"
   ]
  },
  {
   "cell_type": "code",
   "execution_count": 273,
   "id": "6e696cc0",
   "metadata": {},
   "outputs": [
    {
     "data": {
      "text/plain": [
       "239565"
      ]
     },
     "execution_count": 273,
     "metadata": {},
     "output_type": "execute_result"
    }
   ],
   "source": [
    "mistake_names = mistakes_original.generalized_work_class.unique()\n",
    "mistake_data = marked_data[marked_data[\"generalized_work_class\"].isin(list(mistake_names))]\n",
    "len(mistake_data)\n",
    "# mistake_data.head()"
   ]
  },
  {
   "cell_type": "code",
   "execution_count": 274,
   "id": "b2e2dc13",
   "metadata": {},
   "outputs": [
    {
     "data": {
      "text/plain": [
       "110"
      ]
     },
     "execution_count": 274,
     "metadata": {},
     "output_type": "execute_result"
    }
   ],
   "source": [
    "vals = mistake_data['generalized_work_class'].value_counts()\n",
    "len(vals)"
   ]
  },
  {
   "cell_type": "code",
   "execution_count": 275,
   "id": "e922b45e",
   "metadata": {},
   "outputs": [
    {
     "data": {
      "text/plain": [
       "110"
      ]
     },
     "execution_count": 275,
     "metadata": {},
     "output_type": "execute_result"
    }
   ],
   "source": [
    "len(mistake_data['generalized_work_class'].unique())"
   ]
  },
  {
   "cell_type": "code",
   "execution_count": 278,
   "id": "de3b1cb4",
   "metadata": {},
   "outputs": [
    {
     "data": {
      "image/png": "[encoded data removed]",
      "text/plain": [
       "<Figure size 1200x600 with 1 Axes>"
      ]
     },
     "metadata": {},
     "output_type": "display_data"
    }
   ],
   "source": [
    "vals = mistake_data['generalized_work_class'].value_counts()\n",
    "idx_plot = [i for i in range(len(vals))]\n",
    "# idx_plot = list(vals.index)\n",
    "\n",
    "plt.figure(figsize=(12, 6))\n",
    "plt.bar(idx_plot, vals)\n",
    "plt.title('Number of samples for classes, where mistakes were made')\n",
    "plt.xlabel('Class number')\n",
    "plt.ylabel('Samples in class')\n",
    "plt.show()"
   ]
  },
  {
   "cell_type": "markdown",
   "id": "aa40a22e",
   "metadata": {},
   "source": [
    "## Other models implementation"
   ]
  },
  {
   "cell_type": "code",
   "execution_count": 22,
   "id": "4892c5bb",
   "metadata": {},
   "outputs": [],
   "source": [
    "def show_metrics1(predictions):\n",
    "    f1_score_1_micro = f1_score(y1_val, predictions, average='micro')\n",
    "    f1_score_1_macro = f1_score(y1_val, predictions, average='macro')\n",
    "    \n",
    "    show_df = pd.DataFrame(\n",
    "        {\n",
    "        'generalized_work_class': [f1_score_1_micro, f1_score_1_macro]\n",
    "        },\n",
    "        index=['F1 micro', 'F1 macro']\n",
    "    ).round(3)\n",
    "    \n",
    "    return show_df"
   ]
  },
  {
   "cell_type": "code",
   "execution_count": 23,
   "id": "a64c1de1",
   "metadata": {},
   "outputs": [],
   "source": [
    "def show_metrics2(predictions):\n",
    "    f1_score_2_micro = f1_score(y2_val, predictions, average='micro')\n",
    "    f1_score_2_macro = f1_score(y2_val, predictions, average='macro')\n",
    "    \n",
    "    show_df = pd.DataFrame(\n",
    "        {\n",
    "        'global_work_class': [f1_score_2_micro, f1_score_2_macro]\n",
    "        },\n",
    "        index=['F1 micro', 'F1 macro']\n",
    "    ).round(6)\n",
    "    \n",
    "    return show_df"
   ]
  },
  {
   "cell_type": "code",
   "execution_count": 287,
   "id": "ae1e46d4",
   "metadata": {},
   "outputs": [
    {
     "name": "stderr",
     "output_type": "stream",
     "text": [
      "D:\\Conda\\anaconda3\\Lib\\site-packages\\sklearn\\model_selection\\_split.py:725: UserWarning: The least populated class in y has only 1 members, which is less than n_splits=5.\n",
      "  warnings.warn(\n"
     ]
    },
    {
     "name": "stdout",
     "output_type": "stream",
     "text": [
      "The accuracy score of KNeighborsClassifier(weights='distance') is: 0.939949709120403\n"
     ]
    },
    {
     "name": "stderr",
     "output_type": "stream",
     "text": [
      "D:\\Conda\\anaconda3\\Lib\\site-packages\\sklearn\\model_selection\\_split.py:725: UserWarning: The least populated class in y has only 1 members, which is less than n_splits=5.\n",
      "  warnings.warn(\n"
     ]
    },
    {
     "name": "stdout",
     "output_type": "stream",
     "text": [
      "The accuracy score of RandomForestClassifier() is: 0.9374340361538351\n"
     ]
    }
   ],
   "source": [
    "knn =  KNeighborsClassifier(weights=\"distance\")\n",
    "rfc = RandomForestClassifier()\n",
    "\n",
    "# Printing the individual accuracy of the models\n",
    "classifications = [knn,rfc]\n",
    "for algo in classifications:\n",
    "    score = cross_val_score(algo, X_train, y1_train, cv = 5,scoring = 'f1_macro')\n",
    "    print(\"The accuracy score of {} is:\".format(algo),score.mean())"
   ]
  },
  {
   "cell_type": "code",
   "execution_count": 24,
   "id": "21985973",
   "metadata": {},
   "outputs": [
    {
     "name": "stdout",
     "output_type": "stream",
     "text": [
      "Time for training, s: 0.49\n",
      "Time for validation, s: 8.23\n"
     ]
    }
   ],
   "source": [
    "moment1 = time()\n",
    "knn1 =  KNeighborsClassifier(weights=\"distance\")\n",
    "knn1.fit(X_train, y1_train)\n",
    "moment2 = time()\n",
    "\n",
    "knn1_preds = knn1.predict(X_val)\n",
    "moment3 = time()\n",
    "\n",
    "print(f\"Time for training, s: {(moment2-moment1):.2f}\")\n",
    "print(f\"Time for validation, s: {(moment3-moment2):.2f}\")"
   ]
  },
  {
   "cell_type": "code",
   "execution_count": 26,
   "id": "2f74e825",
   "metadata": {},
   "outputs": [
    {
     "data": {
      "text/html": [
       "<div>\n",
       "<style scoped>\n",
       "    .dataframe tbody tr th:only-of-type {\n",
       "        vertical-align: middle;\n",
       "    }\n",
       "\n",
       "    .dataframe tbody tr th {\n",
       "        vertical-align: top;\n",
       "    }\n",
       "\n",
       "    .dataframe thead th {\n",
       "        text-align: right;\n",
       "    }\n",
       "</style>\n",
       "<table border=\"1\" class=\"dataframe\">\n",
       "  <thead>\n",
       "    <tr style=\"text-align: right;\">\n",
       "      <th></th>\n",
       "      <th>generalized_work_class</th>\n",
       "    </tr>\n",
       "  </thead>\n",
       "  <tbody>\n",
       "    <tr>\n",
       "      <th>F1 micro</th>\n",
       "      <td>0.994</td>\n",
       "    </tr>\n",
       "    <tr>\n",
       "      <th>F1 macro</th>\n",
       "      <td>0.972</td>\n",
       "    </tr>\n",
       "  </tbody>\n",
       "</table>\n",
       "</div>"
      ],
      "text/plain": [
       "          generalized_work_class\n",
       "F1 micro                   0.994\n",
       "F1 macro                   0.972"
      ]
     },
     "execution_count": 26,
     "metadata": {},
     "output_type": "execute_result"
    }
   ],
   "source": [
    "show_metrics1(knn1_preds)"
   ]
  },
  {
   "cell_type": "code",
   "execution_count": 27,
   "id": "3455f0ed",
   "metadata": {},
   "outputs": [
    {
     "name": "stdout",
     "output_type": "stream",
     "text": [
      "Time for training, s: 0.41\n",
      "Time for validation, s: 7.56\n"
     ]
    }
   ],
   "source": [
    "moment1 = time()\n",
    "knn2 =  KNeighborsClassifier(weights=\"distance\")\n",
    "knn2.fit(X_train, y2_train)\n",
    "moment2 = time()\n",
    "\n",
    "knn2_preds = knn2.predict(X_val)\n",
    "moment3 = time()\n",
    "\n",
    "print(f\"Time for training, s: {(moment2-moment1):.2f}\")\n",
    "print(f\"Time for validation, s: {(moment3-moment2):.2f}\")"
   ]
  },
  {
   "cell_type": "code",
   "execution_count": 28,
   "id": "f3449cb6",
   "metadata": {},
   "outputs": [
    {
     "data": {
      "text/html": [
       "<div>\n",
       "<style scoped>\n",
       "    .dataframe tbody tr th:only-of-type {\n",
       "        vertical-align: middle;\n",
       "    }\n",
       "\n",
       "    .dataframe tbody tr th {\n",
       "        vertical-align: top;\n",
       "    }\n",
       "\n",
       "    .dataframe thead th {\n",
       "        text-align: right;\n",
       "    }\n",
       "</style>\n",
       "<table border=\"1\" class=\"dataframe\">\n",
       "  <thead>\n",
       "    <tr style=\"text-align: right;\">\n",
       "      <th></th>\n",
       "      <th>global_work_class</th>\n",
       "    </tr>\n",
       "  </thead>\n",
       "  <tbody>\n",
       "    <tr>\n",
       "      <th>F1 micro</th>\n",
       "      <td>0.995419</td>\n",
       "    </tr>\n",
       "    <tr>\n",
       "      <th>F1 macro</th>\n",
       "      <td>0.994231</td>\n",
       "    </tr>\n",
       "  </tbody>\n",
       "</table>\n",
       "</div>"
      ],
      "text/plain": [
       "          global_work_class\n",
       "F1 micro           0.995419\n",
       "F1 macro           0.994231"
      ]
     },
     "execution_count": 28,
     "metadata": {},
     "output_type": "execute_result"
    }
   ],
   "source": [
    "show_metrics2(knn2_preds)"
   ]
  },
  {
   "cell_type": "code",
   "execution_count": 30,
   "id": "449c0b63",
   "metadata": {},
   "outputs": [],
   "source": [
    "knn1_preds_series = pd.Series(knn1_preds, index=y1_val.index, name=\"generalized_work_class\")\n",
    "knn2_preds_series = pd.Series(knn2_preds, index=y1_val.index, name=\"global_work_class\")"
   ]
  },
  {
   "cell_type": "code",
   "execution_count": 33,
   "id": "2e1771cd",
   "metadata": {},
   "outputs": [
    {
     "data": {
      "text/html": [
       "<div>\n",
       "<style scoped>\n",
       "    .dataframe tbody tr th:only-of-type {\n",
       "        vertical-align: middle;\n",
       "    }\n",
       "\n",
       "    .dataframe tbody tr th {\n",
       "        vertical-align: top;\n",
       "    }\n",
       "\n",
       "    .dataframe thead th {\n",
       "        text-align: right;\n",
       "    }\n",
       "</style>\n",
       "<table border=\"1\" class=\"dataframe\">\n",
       "  <thead>\n",
       "    <tr style=\"text-align: right;\">\n",
       "      <th></th>\n",
       "      <th>generalized_work_class</th>\n",
       "      <th>global_work_class</th>\n",
       "    </tr>\n",
       "  </thead>\n",
       "  <tbody>\n",
       "    <tr>\n",
       "      <th>0</th>\n",
       "      <td>132.0</td>\n",
       "      <td>54.0</td>\n",
       "    </tr>\n",
       "    <tr>\n",
       "      <th>1</th>\n",
       "      <td>157.0</td>\n",
       "      <td>26.0</td>\n",
       "    </tr>\n",
       "  </tbody>\n",
       "</table>\n",
       "</div>"
      ],
      "text/plain": [
       "   generalized_work_class  global_work_class\n",
       "0                   132.0               54.0\n",
       "1                   157.0               26.0"
      ]
     },
     "execution_count": 33,
     "metadata": {},
     "output_type": "execute_result"
    }
   ],
   "source": [
    "# generalized_predicted_class = pd.Series(\n",
    "#     generalized_encoder.inverse_transform(predictions[0].reshape(-1, 1)).flatten(),\n",
    "#     index=X_val.index,\n",
    "#     name=\"generalized_work_class\",\n",
    "# ) # Form generalized_work_class series\n",
    "\n",
    "# global_predicted_class = pd.Series(\n",
    "#     global_encoder.inverse_transform(predictions[1].reshape(-1, 1)).flatten(),\n",
    "#     index=X_val.index,\n",
    "#     name=\"global_work_class\",\n",
    "# ) # Form global_work_class series\n",
    "\n",
    "row1 = pd.Series(\n",
    "    generalized_encoder.transform(sur_keys_data \\\n",
    "                             .generalized_work_class \\\n",
    "                             .values.reshape(-1, 1)) \\\n",
    "                             .flatten(),\n",
    "    name=\"generalized_work_class\")\n",
    "\n",
    "row2 = pd.Series(\n",
    "    global_encoder.transform(sur_keys_data \\\n",
    "                             .global_work_class \\\n",
    "                             .values.reshape(-1, 1)) \\\n",
    "                             .flatten(),\n",
    "    name=\"global_work_class\")\n",
    "\n",
    "sur_keys_encoded = pd.concat([row1, row2], axis=1)\n",
    "sur_keys_encoded.head(2)"
   ]
  },
  {
   "cell_type": "code",
   "execution_count": 34,
   "id": "3408b4fc",
   "metadata": {},
   "outputs": [
    {
     "data": {
      "text/html": [
       "<div>\n",
       "<style scoped>\n",
       "    .dataframe tbody tr th:only-of-type {\n",
       "        vertical-align: middle;\n",
       "    }\n",
       "\n",
       "    .dataframe tbody tr th {\n",
       "        vertical-align: top;\n",
       "    }\n",
       "\n",
       "    .dataframe thead th {\n",
       "        text-align: right;\n",
       "    }\n",
       "</style>\n",
       "<table border=\"1\" class=\"dataframe\">\n",
       "  <thead>\n",
       "    <tr style=\"text-align: right;\">\n",
       "      <th></th>\n",
       "      <th>generalized_work_class</th>\n",
       "      <th>global_work_class</th>\n",
       "    </tr>\n",
       "  </thead>\n",
       "  <tbody>\n",
       "    <tr>\n",
       "      <th>400713</th>\n",
       "      <td>165.0</td>\n",
       "      <td>32.0</td>\n",
       "    </tr>\n",
       "    <tr>\n",
       "      <th>195157</th>\n",
       "      <td>188.0</td>\n",
       "      <td>44.0</td>\n",
       "    </tr>\n",
       "  </tbody>\n",
       "</table>\n",
       "</div>"
      ],
      "text/plain": [
       "        generalized_work_class  global_work_class\n",
       "400713                   165.0               32.0\n",
       "195157                   188.0               44.0"
      ]
     },
     "execution_count": 34,
     "metadata": {},
     "output_type": "execute_result"
    }
   ],
   "source": [
    "knns_def_preds = knn1_preds_series.to_frame()\\\n",
    "            .merge(sur_keys_encoded, on=\"generalized_work_class\", how=\"left\")\\\n",
    "            .set_index(y1_val.index)\n",
    "knns_def_preds.head(2)"
   ]
  },
  {
   "cell_type": "code",
   "execution_count": 35,
   "id": "4a02dcfb",
   "metadata": {},
   "outputs": [],
   "source": [
    "knn_idxs = knns_def_preds.global_work_class[knns_def_preds.global_work_class.isna()].index"
   ]
  },
  {
   "cell_type": "code",
   "execution_count": 36,
   "id": "fe132b3a",
   "metadata": {},
   "outputs": [],
   "source": [
    "knns_def_preds.loc[knn_idxs, \"global_work_class\"] = knn2_preds_series[knn_idxs]"
   ]
  },
  {
   "cell_type": "code",
   "execution_count": 37,
   "id": "82cf1843",
   "metadata": {},
   "outputs": [],
   "source": [
    "knn_pred_gen = knns_def_preds.generalized_work_class.values\n",
    "knn_pred_glob = knns_def_preds.global_work_class.values"
   ]
  },
  {
   "cell_type": "code",
   "execution_count": 38,
   "id": "b5d61638",
   "metadata": {},
   "outputs": [
    {
     "data": {
      "text/html": [
       "<div>\n",
       "<style scoped>\n",
       "    .dataframe tbody tr th:only-of-type {\n",
       "        vertical-align: middle;\n",
       "    }\n",
       "\n",
       "    .dataframe tbody tr th {\n",
       "        vertical-align: top;\n",
       "    }\n",
       "\n",
       "    .dataframe thead th {\n",
       "        text-align: right;\n",
       "    }\n",
       "</style>\n",
       "<table border=\"1\" class=\"dataframe\">\n",
       "  <thead>\n",
       "    <tr style=\"text-align: right;\">\n",
       "      <th></th>\n",
       "      <th>generalized_work_class</th>\n",
       "    </tr>\n",
       "  </thead>\n",
       "  <tbody>\n",
       "    <tr>\n",
       "      <th>F1 micro</th>\n",
       "      <td>0.994</td>\n",
       "    </tr>\n",
       "    <tr>\n",
       "      <th>F1 macro</th>\n",
       "      <td>0.972</td>\n",
       "    </tr>\n",
       "  </tbody>\n",
       "</table>\n",
       "</div>"
      ],
      "text/plain": [
       "          generalized_work_class\n",
       "F1 micro                   0.994\n",
       "F1 macro                   0.972"
      ]
     },
     "execution_count": 38,
     "metadata": {},
     "output_type": "execute_result"
    }
   ],
   "source": [
    "show_metrics1(knn_pred_gen)"
   ]
  },
  {
   "cell_type": "code",
   "execution_count": 39,
   "id": "62e18cd0",
   "metadata": {},
   "outputs": [
    {
     "data": {
      "text/html": [
       "<div>\n",
       "<style scoped>\n",
       "    .dataframe tbody tr th:only-of-type {\n",
       "        vertical-align: middle;\n",
       "    }\n",
       "\n",
       "    .dataframe tbody tr th {\n",
       "        vertical-align: top;\n",
       "    }\n",
       "\n",
       "    .dataframe thead th {\n",
       "        text-align: right;\n",
       "    }\n",
       "</style>\n",
       "<table border=\"1\" class=\"dataframe\">\n",
       "  <thead>\n",
       "    <tr style=\"text-align: right;\">\n",
       "      <th></th>\n",
       "      <th>global_work_class</th>\n",
       "    </tr>\n",
       "  </thead>\n",
       "  <tbody>\n",
       "    <tr>\n",
       "      <th>F1 micro</th>\n",
       "      <td>0.995284</td>\n",
       "    </tr>\n",
       "    <tr>\n",
       "      <th>F1 macro</th>\n",
       "      <td>0.994038</td>\n",
       "    </tr>\n",
       "  </tbody>\n",
       "</table>\n",
       "</div>"
      ],
      "text/plain": [
       "          global_work_class\n",
       "F1 micro           0.995284\n",
       "F1 macro           0.994038"
      ]
     },
     "execution_count": 39,
     "metadata": {},
     "output_type": "execute_result"
    }
   ],
   "source": [
    "show_metrics2(knn_pred_glob)"
   ]
  },
  {
   "cell_type": "code",
   "execution_count": 40,
   "id": "1534279c",
   "metadata": {},
   "outputs": [
    {
     "data": {
      "text/html": [
       "<div>\n",
       "<style scoped>\n",
       "    .dataframe tbody tr th:only-of-type {\n",
       "        vertical-align: middle;\n",
       "    }\n",
       "\n",
       "    .dataframe tbody tr th {\n",
       "        vertical-align: top;\n",
       "    }\n",
       "\n",
       "    .dataframe thead th {\n",
       "        text-align: right;\n",
       "    }\n",
       "</style>\n",
       "<table border=\"1\" class=\"dataframe\">\n",
       "  <thead>\n",
       "    <tr style=\"text-align: right;\">\n",
       "      <th></th>\n",
       "      <th>global_work_class</th>\n",
       "    </tr>\n",
       "  </thead>\n",
       "  <tbody>\n",
       "    <tr>\n",
       "      <th>F1 micro</th>\n",
       "      <td>0.995419</td>\n",
       "    </tr>\n",
       "    <tr>\n",
       "      <th>F1 macro</th>\n",
       "      <td>0.994231</td>\n",
       "    </tr>\n",
       "  </tbody>\n",
       "</table>\n",
       "</div>"
      ],
      "text/plain": [
       "          global_work_class\n",
       "F1 micro           0.995419\n",
       "F1 macro           0.994231"
      ]
     },
     "execution_count": 40,
     "metadata": {},
     "output_type": "execute_result"
    }
   ],
   "source": [
    "show_metrics2(knn2_preds)"
   ]
  },
  {
   "cell_type": "markdown",
   "id": "14a29611",
   "metadata": {},
   "source": [
    "## Recovering data from a prediction"
   ]
  },
  {
   "cell_type": "code",
   "execution_count": 41,
   "id": "01fce2ac",
   "metadata": {},
   "outputs": [],
   "source": [
    "generalized_predicted_class = pd.Series(\n",
    "    generalized_encoder.inverse_transform(knn1_preds.reshape(-1, 1)).flatten(),\n",
    "    index=X_val.index,\n",
    "    name=\"generalized_work_class\",\n",
    ") # Form generalized_work_class series\n",
    "global_predicted_class = pd.Series(\n",
    "    global_encoder.inverse_transform(knn2_preds.reshape(-1, 1)).flatten(),\n",
    "    index=X_val.index,\n",
    "    name=\"global_work_class\",\n",
    ") # Form global_work_class series"
   ]
  },
  {
   "cell_type": "code",
   "execution_count": 45,
   "id": "42f39d56",
   "metadata": {},
   "outputs": [],
   "source": [
    "val_dataframe_from_predictions = pd.concat(\n",
    "    (X_val_raw, generalized_predicted_class, global_predicted_class), axis=1\n",
    ") # Form val dataframe from predicted values"
   ]
  },
  {
   "cell_type": "code",
   "execution_count": 46,
   "id": "09699b6f",
   "metadata": {},
   "outputs": [],
   "source": [
    "mistakes_recovered = val_dataframe_from_predictions[\n",
    "    (\n",
    "        val_dataframe_from_predictions[\"generalized_work_class\"]\n",
    "        != data.loc[X_val_raw.index, \"generalized_work_class\"]\n",
    "    )\n",
    "    | (\n",
    "        val_dataframe_from_predictions[\"global_work_class\"]\n",
    "        != data.loc[X_val_raw.index, \"global_work_class\"]\n",
    "    )\n",
    "] # Get the rows of the recovered dataframe where the errors occurred\n",
    "mistakes_original = data.loc[X_val_raw.index][\n",
    "    (\n",
    "        data.loc[X_val_raw.index, \"generalized_work_class\"]\n",
    "        != val_dataframe_from_predictions[\"generalized_work_class\"]\n",
    "    )\n",
    "    | (\n",
    "        data.loc[X_val_raw.index, \"global_work_class\"]\n",
    "        != val_dataframe_from_predictions[\"global_work_class\"]\n",
    "    )\n",
    "].drop(columns=\"upper_works\") # Get the rows of the original dataframe where the errors occurred"
   ]
  },
  {
   "cell_type": "code",
   "execution_count": 323,
   "id": "733275d7",
   "metadata": {},
   "outputs": [
    {
     "name": "stdout",
     "output_type": "stream",
     "text": [
      "Число ошибок: 82 из 14843 предсказаний\n",
      "\n",
      "Оригинал:\n"
     ]
    },
    {
     "data": {
      "text/html": [
       "<div>\n",
       "<style scoped>\n",
       "    .dataframe tbody tr th:only-of-type {\n",
       "        vertical-align: middle;\n",
       "    }\n",
       "\n",
       "    .dataframe tbody tr th {\n",
       "        vertical-align: top;\n",
       "    }\n",
       "\n",
       "    .dataframe thead th {\n",
       "        text-align: right;\n",
       "    }\n",
       "</style>\n",
       "<table border=\"1\" class=\"dataframe\">\n",
       "  <thead>\n",
       "    <tr style=\"text-align: right;\">\n",
       "      <th></th>\n",
       "      <th>work_name</th>\n",
       "      <th>generalized_work_class</th>\n",
       "      <th>global_work_class</th>\n",
       "    </tr>\n",
       "  </thead>\n",
       "  <tbody>\n",
       "    <tr>\n",
       "      <th>708160</th>\n",
       "      <td>насос не подключен</td>\n",
       "      <td>Монтаж насоса</td>\n",
       "      <td>Монтаж</td>\n",
       "    </tr>\n",
       "    <tr>\n",
       "      <th>215167</th>\n",
       "      <td>тх. спортзал. монтаж трибуны</td>\n",
       "      <td>Монтаж мк</td>\n",
       "      <td>Монтаж мк</td>\n",
       "    </tr>\n",
       "    <tr>\n",
       "      <th>79448</th>\n",
       "      <td>2.14.5 монтаж гидранта</td>\n",
       "      <td>Монтаж оборудования</td>\n",
       "      <td>Монтаж</td>\n",
       "    </tr>\n",
       "    <tr>\n",
       "      <th>113717</th>\n",
       "      <td>изоляция емкости</td>\n",
       "      <td>Монтаж мк</td>\n",
       "      <td>Монтаж мк</td>\n",
       "    </tr>\n",
       "    <tr>\n",
       "      <th>528563</th>\n",
       "      <td>монтаж стоек (поз.4 кгс-2 тх)</td>\n",
       "      <td>Монтаж мк</td>\n",
       "      <td>Монтаж мк</td>\n",
       "    </tr>\n",
       "    <tr>\n",
       "      <th>202088</th>\n",
       "      <td>изготовление и монтаж ограждения огл 45-12,5.18</td>\n",
       "      <td>Изготовление и монтаж вентиляции</td>\n",
       "      <td>Изготовление и монтаж</td>\n",
       "    </tr>\n",
       "    <tr>\n",
       "      <th>293626</th>\n",
       "      <td>монтаж балок б2,б (двутавр 20б1-9,6х2м.; швелл...</td>\n",
       "      <td>Монтаж мк</td>\n",
       "      <td>Монтаж мк</td>\n",
       "    </tr>\n",
       "    <tr>\n",
       "      <th>292059</th>\n",
       "      <td>монтаж м/к шахты воздухозаборная (ростверк, тр...</td>\n",
       "      <td>Монтаж ростверков</td>\n",
       "      <td>Монтаж свай</td>\n",
       "    </tr>\n",
       "    <tr>\n",
       "      <th>381868</th>\n",
       "      <td>монтаж м/к оголовников опор под трубопроводы</td>\n",
       "      <td>Монтаж оголовков</td>\n",
       "      <td>Монтаж свай</td>\n",
       "    </tr>\n",
       "    <tr>\n",
       "      <th>261208</th>\n",
       "      <td>демонтажные работы, кабель муфты</td>\n",
       "      <td>Демонтаж</td>\n",
       "      <td>Демонтаж</td>\n",
       "    </tr>\n",
       "  </tbody>\n",
       "</table>\n",
       "</div>"
      ],
      "text/plain": [
       "                                                work_name  \\\n",
       "708160                                 насос не подключен   \n",
       "215167                       тх. спортзал. монтаж трибуны   \n",
       "79448                              2.14.5 монтаж гидранта   \n",
       "113717                                   изоляция емкости   \n",
       "528563                      монтаж стоек (поз.4 кгс-2 тх)   \n",
       "202088    изготовление и монтаж ограждения огл 45-12,5.18   \n",
       "293626  монтаж балок б2,б (двутавр 20б1-9,6х2м.; швелл...   \n",
       "292059  монтаж м/к шахты воздухозаборная (ростверк, тр...   \n",
       "381868       монтаж м/к оголовников опор под трубопроводы   \n",
       "261208                   демонтажные работы, кабель муфты   \n",
       "\n",
       "                  generalized_work_class      global_work_class  \n",
       "708160                     Монтаж насоса                 Монтаж  \n",
       "215167                         Монтаж мк              Монтаж мк  \n",
       "79448                Монтаж оборудования                 Монтаж  \n",
       "113717                         Монтаж мк              Монтаж мк  \n",
       "528563                         Монтаж мк              Монтаж мк  \n",
       "202088  Изготовление и монтаж вентиляции  Изготовление и монтаж  \n",
       "293626                         Монтаж мк              Монтаж мк  \n",
       "292059                 Монтаж ростверков            Монтаж свай  \n",
       "381868                  Монтаж оголовков            Монтаж свай  \n",
       "261208                          Демонтаж               Демонтаж  "
      ]
     },
     "metadata": {},
     "output_type": "display_data"
    },
    {
     "name": "stdout",
     "output_type": "stream",
     "text": [
      "Восстановлено по предсказаниям:\n"
     ]
    },
    {
     "data": {
      "text/html": [
       "<div>\n",
       "<style scoped>\n",
       "    .dataframe tbody tr th:only-of-type {\n",
       "        vertical-align: middle;\n",
       "    }\n",
       "\n",
       "    .dataframe tbody tr th {\n",
       "        vertical-align: top;\n",
       "    }\n",
       "\n",
       "    .dataframe thead th {\n",
       "        text-align: right;\n",
       "    }\n",
       "</style>\n",
       "<table border=\"1\" class=\"dataframe\">\n",
       "  <thead>\n",
       "    <tr style=\"text-align: right;\">\n",
       "      <th></th>\n",
       "      <th>work_name</th>\n",
       "      <th>generalized_work_class</th>\n",
       "      <th>global_work_class</th>\n",
       "    </tr>\n",
       "  </thead>\n",
       "  <tbody>\n",
       "    <tr>\n",
       "      <th>708160</th>\n",
       "      <td>насос не подключен</td>\n",
       "      <td>Демонтаж</td>\n",
       "      <td>Демонтаж</td>\n",
       "    </tr>\n",
       "    <tr>\n",
       "      <th>215167</th>\n",
       "      <td>тх. спортзал. монтаж трибуны</td>\n",
       "      <td>Монтаж блока ЗРУ</td>\n",
       "      <td>Монтаж блока</td>\n",
       "    </tr>\n",
       "    <tr>\n",
       "      <th>79448</th>\n",
       "      <td>2.14.5 монтаж гидранта</td>\n",
       "      <td>Монтаж приборов</td>\n",
       "      <td>Монтаж</td>\n",
       "    </tr>\n",
       "    <tr>\n",
       "      <th>113717</th>\n",
       "      <td>изоляция емкости</td>\n",
       "      <td>Изоляция сварных соединений</td>\n",
       "      <td>Изоляция</td>\n",
       "    </tr>\n",
       "    <tr>\n",
       "      <th>528563</th>\n",
       "      <td>монтаж стоек (поз.4 кгс-2 тх)</td>\n",
       "      <td>Монтаж приборов</td>\n",
       "      <td>Монтаж</td>\n",
       "    </tr>\n",
       "    <tr>\n",
       "      <th>202088</th>\n",
       "      <td>изготовление и монтаж ограждения огл 45-12,5.18</td>\n",
       "      <td>Монтаж лестниц</td>\n",
       "      <td>Изготовление и монтаж</td>\n",
       "    </tr>\n",
       "    <tr>\n",
       "      <th>293626</th>\n",
       "      <td>монтаж балок б2,б (двутавр 20б1-9,6х2м.; швелл...</td>\n",
       "      <td>Монтаж траверс</td>\n",
       "      <td>Монтаж</td>\n",
       "    </tr>\n",
       "    <tr>\n",
       "      <th>292059</th>\n",
       "      <td>монтаж м/к шахты воздухозаборная (ростверк, тр...</td>\n",
       "      <td>Монтаж оголовков</td>\n",
       "      <td>Монтаж свай</td>\n",
       "    </tr>\n",
       "    <tr>\n",
       "      <th>381868</th>\n",
       "      <td>монтаж м/к оголовников опор под трубопроводы</td>\n",
       "      <td>Монтаж опор трубопровода</td>\n",
       "      <td>Монтаж опор</td>\n",
       "    </tr>\n",
       "    <tr>\n",
       "      <th>261208</th>\n",
       "      <td>демонтажные работы, кабель муфты</td>\n",
       "      <td>Монтаж мелких комплектующих кабеля</td>\n",
       "      <td>Монтаж электрики</td>\n",
       "    </tr>\n",
       "  </tbody>\n",
       "</table>\n",
       "</div>"
      ],
      "text/plain": [
       "                                                work_name  \\\n",
       "708160                                 насос не подключен   \n",
       "215167                       тх. спортзал. монтаж трибуны   \n",
       "79448                              2.14.5 монтаж гидранта   \n",
       "113717                                   изоляция емкости   \n",
       "528563                      монтаж стоек (поз.4 кгс-2 тх)   \n",
       "202088    изготовление и монтаж ограждения огл 45-12,5.18   \n",
       "293626  монтаж балок б2,б (двутавр 20б1-9,6х2м.; швелл...   \n",
       "292059  монтаж м/к шахты воздухозаборная (ростверк, тр...   \n",
       "381868       монтаж м/к оголовников опор под трубопроводы   \n",
       "261208                   демонтажные работы, кабель муфты   \n",
       "\n",
       "                    generalized_work_class      global_work_class  \n",
       "708160                            Демонтаж               Демонтаж  \n",
       "215167                    Монтаж блока ЗРУ           Монтаж блока  \n",
       "79448                      Монтаж приборов                 Монтаж  \n",
       "113717         Изоляция сварных соединений               Изоляция  \n",
       "528563                     Монтаж приборов                 Монтаж  \n",
       "202088                      Монтаж лестниц  Изготовление и монтаж  \n",
       "293626                      Монтаж траверс                 Монтаж  \n",
       "292059                    Монтаж оголовков            Монтаж свай  \n",
       "381868            Монтаж опор трубопровода            Монтаж опор  \n",
       "261208  Монтаж мелких комплектующих кабеля       Монтаж электрики  "
      ]
     },
     "metadata": {},
     "output_type": "display_data"
    }
   ],
   "source": [
    "print(f'Число ошибок: {mistakes_recovered.shape[0]} из {val_dataframe_from_predictions.shape[0]} предсказаний')\n",
    "print()\n",
    "print('Оригинал:')\n",
    "display(mistakes_original.sample(10, random_state=42))\n",
    "print('Восстановлено по предсказаниям:')\n",
    "display(mistakes_recovered.sample(10, random_state=42))"
   ]
  },
  {
   "cell_type": "code",
   "execution_count": 47,
   "id": "6107fce5",
   "metadata": {},
   "outputs": [
    {
     "data": {
      "text/plain": [
       "82"
      ]
     },
     "execution_count": 47,
     "metadata": {},
     "output_type": "execute_result"
    }
   ],
   "source": [
    "len(mistakes_recovered.index)"
   ]
  },
  {
   "cell_type": "code",
   "execution_count": 51,
   "id": "0aab7625",
   "metadata": {},
   "outputs": [
    {
     "data": {
      "image/png": "[encoded data removed]",
      "text/plain": [
       "<Figure size 1200x600 with 1 Axes>"
      ]
     },
     "metadata": {},
     "output_type": "display_data"
    }
   ],
   "source": [
    "vals = mistakes_recovered['generalized_work_class'].value_counts()\n",
    "# idx = [i for i in range(len(vals))]\n",
    "idx = vals.index\n",
    "\n",
    "plt.figure(figsize=(12, 6))\n",
    "plt.bar(idx, vals)\n",
    "plt.title('Number of errors by class')\n",
    "plt.xlabel('Class name')\n",
    "plt.xticks(rotation=45, ha='right')\n",
    "plt.ylabel('Error count')\n",
    "plt.show()"
   ]
  },
  {
   "cell_type": "code",
   "execution_count": 324,
   "id": "d8efb0cd",
   "metadata": {},
   "outputs": [
    {
     "data": {
      "text/plain": [
       "48"
      ]
     },
     "execution_count": 324,
     "metadata": {},
     "output_type": "execute_result"
    }
   ],
   "source": [
    "val_dataframe_from_predictions_slice = val_dataframe_from_predictions.loc[knn_idxs]\n",
    "len(val_dataframe_from_predictions_slice)"
   ]
  },
  {
   "cell_type": "code",
   "execution_count": 325,
   "id": "bafe5670",
   "metadata": {},
   "outputs": [],
   "source": [
    "mistakes_nosur_recovered = val_dataframe_from_predictions_slice[\n",
    "    (\n",
    "        val_dataframe_from_predictions.loc[knn_idxs, \"generalized_work_class\"]\n",
    "        != data.loc[knn_idxs, \"generalized_work_class\"]\n",
    "    )\n",
    "    | (\n",
    "        val_dataframe_from_predictions.loc[knn_idxs, \"global_work_class\"]\n",
    "        != data.loc[knn_idxs, \"global_work_class\"]\n",
    "    )\n",
    "]"
   ]
  },
  {
   "cell_type": "code",
   "execution_count": 326,
   "id": "3b141dd3",
   "metadata": {},
   "outputs": [
    {
     "name": "stdout",
     "output_type": "stream",
     "text": [
      "Число ошибок: 0 из 48\n"
     ]
    }
   ],
   "source": [
    "print(f'Число ошибок: {mistakes_nosur_recovered.shape[0]} из 48') "
   ]
  },
  {
   "cell_type": "code",
   "execution_count": null,
   "id": "9bcc3fc0",
   "metadata": {},
   "outputs": [],
   "source": []
  }
 ],
 "metadata": {
  "kernelspec": {
   "display_name": "Python 3 (ipykernel)",
   "language": "python",
   "name": "python3"
  },
  "language_info": {
   "codemirror_mode": {
    "name": "ipython",
    "version": 3
   },
   "file_extension": ".py",
   "mimetype": "text/x-python",
   "name": "python",
   "nbconvert_exporter": "python",
   "pygments_lexer": "ipython3",
   "version": "3.11.5"
  }
 },
 "nbformat": 4,
 "nbformat_minor": 5
}
