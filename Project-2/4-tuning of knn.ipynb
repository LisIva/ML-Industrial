{
 "cells": [
  {
   "cell_type": "markdown",
   "id": "e4cd989c",
   "metadata": {},
   "source": [
    "## Modules import / Импортирование модулей"
   ]
  },
  {
   "cell_type": "code",
   "execution_count": 1,
   "id": "5cf5c3aa",
   "metadata": {},
   "outputs": [],
   "source": [
    "from itertools import product\n",
    "import pandas as pd\n",
    "import numpy as np\n",
    "from tqdm import tqdm\n",
    "\n",
    "from matplotlib import pyplot as plt\n",
    "from sklearn.preprocessing import OrdinalEncoder\n",
    "from sklearn.model_selection import train_test_split\n",
    "# from sklearn.linear_model import LogisticRegression\n",
    "from sklearn.metrics import f1_score\n",
    "\n",
    "from sklearn.neighbors import KNeighborsClassifier\n",
    "# from sklearn.ensemble import RandomForestClassifier\n",
    "from sklearn.model_selection import cross_val_score\n",
    "from time import time"
   ]
  },
  {
   "cell_type": "markdown",
   "id": "bc437a6a",
   "metadata": {},
   "source": [
    "## Data import and splitting"
   ]
  },
  {
   "cell_type": "code",
   "execution_count": 2,
   "id": "3360accb",
   "metadata": {},
   "outputs": [],
   "source": [
    "data = pd.read_csv('lab2_oil_gas_field_construction_data.csv')\n",
    "embeddings_train = pd.read_csv('x_train.csv', index_col=\"Unnamed: 0\")\n",
    "embeddings_val = pd.read_csv('x_val.csv', index_col=\"Unnamed: 0\")"
   ]
  },
  {
   "cell_type": "code",
   "execution_count": 3,
   "id": "386b5f16",
   "metadata": {},
   "outputs": [
    {
     "name": "stdout",
     "output_type": "stream",
     "text": [
      "The training dataset size is 282015 records, or 95.00 % of the data available for training.\n",
      "The validation dataset size is 14843 records, or 5.00 % of the data available for training.\n"
     ]
    }
   ],
   "source": [
    "marked_data = data[((data.generalized_work_class.notna())) & (data.global_work_class.notna())] # Select the data labelled by both class fields\n",
    "\n",
    "train, val = train_test_split(\n",
    "    marked_data, test_size=0.05, train_size=0.95, random_state=42)\n",
    "\n",
    "print(f'The training dataset size is {train.shape[0]} records, or {100 * train.shape[0]/marked_data.shape[0]:.2f} % of the data available for training.')\n",
    "print(f'The validation dataset size is {val.shape[0]} records, or {100 * val.shape[0]/marked_data.shape[0]:.2f} % of the data available for training.')"
   ]
  },
  {
   "cell_type": "markdown",
   "id": "e3736bab",
   "metadata": {},
   "source": [
    "## Subsets forming and targets encoding"
   ]
  },
  {
   "cell_type": "code",
   "execution_count": 4,
   "id": "932ce253",
   "metadata": {},
   "outputs": [],
   "source": [
    "generalized_encoder = OrdinalEncoder(handle_unknown='use_encoded_value', unknown_value=-1)\n",
    "global_encoder = OrdinalEncoder(handle_unknown='use_encoded_value', unknown_value=-1)"
   ]
  },
  {
   "cell_type": "code",
   "execution_count": 5,
   "id": "0bd4edbc",
   "metadata": {},
   "outputs": [],
   "source": [
    "X_train_raw = train.work_name\n",
    "y1_train = pd.Series(\n",
    "    generalized_encoder.fit_transform(\n",
    "        train.generalized_work_class.values.reshape(-1, 1) # \"Reshape\" to make encoder work properly\n",
    "    ).flatten(), # \"Flatten\" to obtain list of values instead of list of lists with values\n",
    "    index=train.index,\n",
    ")\n",
    "y2_train = pd.Series(\n",
    "    global_encoder.fit_transform(\n",
    "        train.global_work_class.values.reshape(-1, 1)\n",
    "    ).flatten(),\n",
    "    index=train.index,\n",
    ")"
   ]
  },
  {
   "cell_type": "code",
   "execution_count": 6,
   "id": "fb11a3ef",
   "metadata": {},
   "outputs": [],
   "source": [
    "X_val_raw = val.work_name\n",
    "y1_val = pd.Series(\n",
    "    generalized_encoder.transform(\n",
    "        val.generalized_work_class.values.reshape(-1, 1)\n",
    "    ).flatten(),\n",
    "    index=val.index,\n",
    ")\n",
    "y2_val = pd.Series(\n",
    "    global_encoder.transform(val.global_work_class.values.reshape(-1, 1)).flatten(),\n",
    "    index=val.index,\n",
    ")"
   ]
  },
  {
   "cell_type": "markdown",
   "id": "0e296c30",
   "metadata": {},
   "source": [
    "## Features loading\n"
   ]
  },
  {
   "cell_type": "code",
   "execution_count": 7,
   "id": "ca4d172b",
   "metadata": {},
   "outputs": [],
   "source": [
    "X_train = pd.DataFrame(embeddings_train.values, index=train.index)\n",
    "X_val = pd.DataFrame(embeddings_val.values, index=val.index)"
   ]
  },
  {
   "cell_type": "markdown",
   "id": "8a389f07",
   "metadata": {},
   "source": [
    "## Model fine-tuning"
   ]
  },
  {
   "cell_type": "code",
   "execution_count": 8,
   "id": "c4e3997c",
   "metadata": {},
   "outputs": [],
   "source": [
    "# !!!!! ERROR: 'Flags' object has no attribute 'c_contiguous' in is_numpy_c_ordered\n",
    "\n",
    "# estimator_KNN = KNeighborsClassifier(weights='distance')\n",
    "# parameters_KNN = {\n",
    "#     'n_neighbors': (5,7,8,10),\n",
    "#     'leaf_size': (20,30,40),\n",
    "#     'p': (2,3),\n",
    "# #     'weights': ('distance'),\n",
    "#     'metric': ('minkowski', 'chebyshev')}\n",
    "    \n",
    "    \n",
    "# grid_search_KNN = GridSearchCV(\n",
    "#     estimator=estimator_KNN,\n",
    "#     param_grid=parameters_KNN,\n",
    "#     scoring = 'f1_macro',\n",
    "#     n_jobs = -1,\n",
    "#     cv = 5,\n",
    "#     verbose=3\n",
    "# )"
   ]
  },
  {
   "cell_type": "code",
   "execution_count": 8,
   "id": "30c785a1",
   "metadata": {},
   "outputs": [
    {
     "name": "stderr",
     "output_type": "stream",
     "text": [
      "  0%|                                                                                            | 0/3 [00:00<?, ?it/s][Parallel(n_jobs=5)]: Using backend LokyBackend with 5 concurrent workers.\n",
      "D:\\Conda\\anaconda3\\Lib\\site-packages\\sklearn\\model_selection\\_split.py:725: UserWarning: The least populated class in y has only 1 members, which is less than n_splits=5.\n",
      "  warnings.warn(\n",
      "[Parallel(n_jobs=5)]: Done   2 out of   5 | elapsed:  2.6min remaining:  3.8min\n",
      "[Parallel(n_jobs=5)]: Done   5 out of   5 | elapsed:  2.6min finished\n",
      " 33%|███████████████████████████▋                                                       | 1/3 [02:34<05:08, 154.43s/it]"
     ]
    },
    {
     "name": "stdout",
     "output_type": "stream",
     "text": [
      "Score: 0.939949709120403 , params: 5\n"
     ]
    },
    {
     "name": "stderr",
     "output_type": "stream",
     "text": [
      "[Parallel(n_jobs=5)]: Using backend LokyBackend with 5 concurrent workers.\n",
      "D:\\Conda\\anaconda3\\Lib\\site-packages\\sklearn\\model_selection\\_split.py:725: UserWarning: The least populated class in y has only 1 members, which is less than n_splits=5.\n",
      "  warnings.warn(\n",
      "[Parallel(n_jobs=5)]: Done   2 out of   5 | elapsed:  2.6min remaining:  3.9min\n",
      "[Parallel(n_jobs=5)]: Done   5 out of   5 | elapsed:  2.6min finished\n",
      " 67%|███████████████████████████████████████████████████████▎                           | 2/3 [05:09<02:34, 154.77s/it]"
     ]
    },
    {
     "name": "stdout",
     "output_type": "stream",
     "text": [
      "Score: 0.9347321865270937 , params: 7\n"
     ]
    },
    {
     "name": "stderr",
     "output_type": "stream",
     "text": [
      "[Parallel(n_jobs=5)]: Using backend LokyBackend with 5 concurrent workers.\n",
      "D:\\Conda\\anaconda3\\Lib\\site-packages\\sklearn\\model_selection\\_split.py:725: UserWarning: The least populated class in y has only 1 members, which is less than n_splits=5.\n",
      "  warnings.warn(\n",
      "[Parallel(n_jobs=5)]: Done   2 out of   5 | elapsed:  2.6min remaining:  3.9min\n",
      "[Parallel(n_jobs=5)]: Done   5 out of   5 | elapsed:  2.6min finished\n",
      "100%|███████████████████████████████████████████████████████████████████████████████████| 3/3 [07:45<00:00, 155.25s/it]"
     ]
    },
    {
     "name": "stdout",
     "output_type": "stream",
     "text": [
      "Score: 0.933765705998821 , params: 10\n",
      "\n",
      "Best score: 0.939949709120403\n",
      "Best params:\n",
      "n_neighbors: 5\n"
     ]
    },
    {
     "name": "stderr",
     "output_type": "stream",
     "text": [
      "\n"
     ]
    }
   ],
   "source": [
    "nneighb = [5, 7, 10] # 17:18\n",
    "# leaf_sizes = [20,30]\n",
    "# metrics = ['minkowski']\n",
    "\n",
    "# parameters = list(product(nneighb, leaf_sizes, metrics))\n",
    "\n",
    "best_score = 0.0\n",
    "best_params = 5\n",
    "for param in tqdm(nneighb):\n",
    "    clf = KNeighborsClassifier(n_neighbors=param,\n",
    "                               metric='minkowski',\n",
    "                               weights='distance') \n",
    "    score = cross_val_score(clf, X_train, y1_train, cv=5, scoring = 'f1_macro', n_jobs=5, verbose=3)\n",
    "    mean_val = score.mean()\n",
    "    if mean_val > best_score:\n",
    "        best_score = mean_val\n",
    "        best_params = param\n",
    "    print(\"Score:\", mean_val, \", params:\", param)\n",
    "    \n",
    "print(f\"\\nBest score: {best_score}\")\n",
    "print(f\"Best params:\")\n",
    "print(f\"n_neighbors: {best_params}\")"
   ]
  },
  {
   "cell_type": "code",
   "execution_count": 9,
   "id": "ba8b8dc0",
   "metadata": {},
   "outputs": [
    {
     "name": "stderr",
     "output_type": "stream",
     "text": [
      "  0%|                                                                                            | 0/3 [00:00<?, ?it/s][Parallel(n_jobs=5)]: Using backend LokyBackend with 5 concurrent workers.\n",
      "D:\\Conda\\anaconda3\\Lib\\site-packages\\sklearn\\model_selection\\_split.py:725: UserWarning: The least populated class in y has only 1 members, which is less than n_splits=5.\n",
      "  warnings.warn(\n",
      "[Parallel(n_jobs=5)]: Done   2 out of   5 | elapsed:  2.6min remaining:  3.9min\n",
      "[Parallel(n_jobs=5)]: Done   5 out of   5 | elapsed:  2.6min finished\n",
      " 33%|███████████████████████████▋                                                       | 1/3 [02:35<05:10, 155.16s/it]"
     ]
    },
    {
     "name": "stdout",
     "output_type": "stream",
     "text": [
      "Score: 0.9441808738348383 , params: 4\n"
     ]
    },
    {
     "name": "stderr",
     "output_type": "stream",
     "text": [
      "[Parallel(n_jobs=5)]: Using backend LokyBackend with 5 concurrent workers.\n",
      "D:\\Conda\\anaconda3\\Lib\\site-packages\\sklearn\\model_selection\\_split.py:725: UserWarning: The least populated class in y has only 1 members, which is less than n_splits=5.\n",
      "  warnings.warn(\n",
      "[Parallel(n_jobs=5)]: Done   2 out of   5 | elapsed:  2.6min remaining:  3.9min\n",
      "[Parallel(n_jobs=5)]: Done   5 out of   5 | elapsed:  2.6min finished\n",
      " 67%|███████████████████████████████████████████████████████▎                           | 2/3 [05:10<02:35, 155.15s/it]"
     ]
    },
    {
     "name": "stdout",
     "output_type": "stream",
     "text": [
      "Score: 0.9373588045202391 , params: 6\n"
     ]
    },
    {
     "name": "stderr",
     "output_type": "stream",
     "text": [
      "[Parallel(n_jobs=5)]: Using backend LokyBackend with 5 concurrent workers.\n",
      "D:\\Conda\\anaconda3\\Lib\\site-packages\\sklearn\\model_selection\\_split.py:725: UserWarning: The least populated class in y has only 1 members, which is less than n_splits=5.\n",
      "  warnings.warn(\n",
      "[Parallel(n_jobs=5)]: Done   2 out of   5 | elapsed:  2.6min remaining:  3.9min\n",
      "[Parallel(n_jobs=5)]: Done   5 out of   5 | elapsed:  2.6min finished\n",
      "100%|███████████████████████████████████████████████████████████████████████████████████| 3/3 [07:46<00:00, 155.48s/it]"
     ]
    },
    {
     "name": "stdout",
     "output_type": "stream",
     "text": [
      "Score: 0.93405464313092 , params: 8\n",
      "\n",
      "Best score: 0.9441808738348383\n",
      "Best params:\n",
      "n_neighbors: 4\n"
     ]
    },
    {
     "name": "stderr",
     "output_type": "stream",
     "text": [
      "\n"
     ]
    }
   ],
   "source": [
    "nneighb = [4, 6, 8] # 17:18\n",
    "# leaf_sizes = [20,30]\n",
    "# metrics = ['minkowski']\n",
    "\n",
    "# parameters = list(product(nneighb, leaf_sizes, metrics))\n",
    "\n",
    "best_score = 0.0\n",
    "best_params = 5\n",
    "for param in tqdm(nneighb):\n",
    "    clf = KNeighborsClassifier(n_neighbors=param,\n",
    "                               metric='minkowski',\n",
    "                               weights='distance') \n",
    "    score = cross_val_score(clf, X_train, y1_train, cv=5, scoring = 'f1_macro', n_jobs=5, verbose=3)\n",
    "    mean_val = score.mean()\n",
    "    if mean_val > best_score:\n",
    "        best_score = mean_val\n",
    "        best_params = param\n",
    "    print(\"Score:\", mean_val, \", params:\", param)\n",
    "    \n",
    "print(f\"\\nBest score: {best_score}\")\n",
    "print(f\"Best params:\")\n",
    "print(f\"n_neighbors: {best_params}\")"
   ]
  },
  {
   "cell_type": "code",
   "execution_count": null,
   "id": "73760a17",
   "metadata": {},
   "outputs": [
    {
     "name": "stderr",
     "output_type": "stream",
     "text": [
      "D:\\Conda\\anaconda3\\Lib\\site-packages\\sklearn\\model_selection\\_split.py:725: UserWarning: The least populated class in y has only 1 members, which is less than n_splits=5.\n",
      "  warnings.warn(\n"
     ]
    }
   ],
   "source": [
    "# knn1=grid_search_KNN.fit(X_train, y1_train)"
   ]
  },
  {
   "cell_type": "code",
   "execution_count": 16,
   "id": "0bc7cda4",
   "metadata": {},
   "outputs": [
    {
     "name": "stderr",
     "output_type": "stream",
     "text": [
      "  0%|                                                                                            | 0/4 [00:00<?, ?it/s][Parallel(n_jobs=5)]: Using backend LokyBackend with 5 concurrent workers.\n",
      "D:\\Conda\\anaconda3\\Lib\\site-packages\\sklearn\\model_selection\\_split.py:725: UserWarning: The least populated class in y has only 2 members, which is less than n_splits=5.\n",
      "  warnings.warn(\n",
      "[Parallel(n_jobs=5)]: Done   2 out of   5 | elapsed:  3.0min remaining:  4.5min\n",
      "[Parallel(n_jobs=5)]: Done   5 out of   5 | elapsed:  3.0min finished\n",
      " 25%|████████████████████▊                                                              | 1/4 [03:01<09:04, 181.48s/it]"
     ]
    },
    {
     "name": "stdout",
     "output_type": "stream",
     "text": [
      "Score: 0.9510721263332276 , params: 4\n"
     ]
    },
    {
     "name": "stderr",
     "output_type": "stream",
     "text": [
      "[Parallel(n_jobs=5)]: Using backend LokyBackend with 5 concurrent workers.\n",
      "D:\\Conda\\anaconda3\\Lib\\site-packages\\sklearn\\model_selection\\_split.py:725: UserWarning: The least populated class in y has only 2 members, which is less than n_splits=5.\n",
      "  warnings.warn(\n",
      "[Parallel(n_jobs=5)]: Done   2 out of   5 | elapsed:  2.5min remaining:  3.8min\n",
      "[Parallel(n_jobs=5)]: Done   5 out of   5 | elapsed:  2.5min finished\n",
      " 50%|█████████████████████████████████████████▌                                         | 2/4 [05:33<05:28, 164.32s/it]"
     ]
    },
    {
     "name": "stdout",
     "output_type": "stream",
     "text": [
      "Score: 0.9444830247482171 , params: 5\n"
     ]
    },
    {
     "name": "stderr",
     "output_type": "stream",
     "text": [
      "[Parallel(n_jobs=5)]: Using backend LokyBackend with 5 concurrent workers.\n",
      "D:\\Conda\\anaconda3\\Lib\\site-packages\\sklearn\\model_selection\\_split.py:725: UserWarning: The least populated class in y has only 2 members, which is less than n_splits=5.\n",
      "  warnings.warn(\n",
      "[Parallel(n_jobs=5)]: Done   2 out of   5 | elapsed:  2.6min remaining:  3.9min\n",
      "[Parallel(n_jobs=5)]: Done   5 out of   5 | elapsed:  2.6min finished\n",
      " 75%|██████████████████████████████████████████████████████████████▎                    | 3/4 [08:08<02:40, 160.10s/it]"
     ]
    },
    {
     "name": "stdout",
     "output_type": "stream",
     "text": [
      "Score: 0.9447264488329358 , params: 7\n"
     ]
    },
    {
     "name": "stderr",
     "output_type": "stream",
     "text": [
      "[Parallel(n_jobs=5)]: Using backend LokyBackend with 5 concurrent workers.\n",
      "D:\\Conda\\anaconda3\\Lib\\site-packages\\sklearn\\model_selection\\_split.py:725: UserWarning: The least populated class in y has only 2 members, which is less than n_splits=5.\n",
      "  warnings.warn(\n",
      "[Parallel(n_jobs=5)]: Done   2 out of   5 | elapsed:  2.6min remaining:  3.9min\n",
      "[Parallel(n_jobs=5)]: Done   5 out of   5 | elapsed:  2.6min finished\n",
      "100%|███████████████████████████████████████████████████████████████████████████████████| 4/4 [10:46<00:00, 161.73s/it]"
     ]
    },
    {
     "name": "stdout",
     "output_type": "stream",
     "text": [
      "Score: 0.9463803284469572 , params: 10\n",
      "\n",
      "Best score: 0.9510721263332276\n",
      "Best params:\n",
      "n_neighbors: 4\n"
     ]
    },
    {
     "name": "stderr",
     "output_type": "stream",
     "text": [
      "\n"
     ]
    }
   ],
   "source": [
    "nneighb = [4, 5, 7, 10]\n",
    "# leaf_sizes = [20,30]\n",
    "# metrics = ['minkowski']\n",
    "\n",
    "# parameters = list(product(nneighb, leaf_sizes, metrics))\n",
    "\n",
    "best_score = 0.0\n",
    "best_params = 5\n",
    "for param in tqdm(nneighb):\n",
    "    clf = KNeighborsClassifier(n_neighbors=param,\n",
    "                               metric='minkowski',\n",
    "                               weights='distance') \n",
    "    score = cross_val_score(clf, X_train, y2_train, cv=5, scoring = 'f1_macro', n_jobs=5, verbose=3)\n",
    "    mean_val = score.mean()\n",
    "    if mean_val > best_score:\n",
    "        best_score = mean_val\n",
    "        best_params = param\n",
    "    print(\"Score:\", mean_val, \", params:\", param)\n",
    "    \n",
    "print(f\"\\nBest score: {best_score}\")\n",
    "print(f\"Best params:\")\n",
    "print(f\"n_neighbors: {best_params}\")"
   ]
  },
  {
   "cell_type": "markdown",
   "id": "d6161c2c",
   "metadata": {},
   "source": [
    "## Validating model with best params"
   ]
  },
  {
   "cell_type": "code",
   "execution_count": 14,
   "id": "1dba3a5d",
   "metadata": {},
   "outputs": [],
   "source": [
    "def show_metrics1(predictions):\n",
    "    f1_score_1_micro = f1_score(y1_val, predictions, average='micro')\n",
    "    f1_score_1_macro = f1_score(y1_val, predictions, average='macro')\n",
    "    \n",
    "    show_df = pd.DataFrame(\n",
    "        {\n",
    "        'generalized_work_class': [f1_score_1_micro, f1_score_1_macro]\n",
    "        },\n",
    "        index=['F1 micro', 'F1 macro']\n",
    "    ).round(6)\n",
    "    \n",
    "    return show_df"
   ]
  },
  {
   "cell_type": "code",
   "execution_count": 31,
   "id": "eaa7da50",
   "metadata": {},
   "outputs": [],
   "source": [
    "def show_metrics2(predictions):\n",
    "    f1_score_2_micro = f1_score(y2_val, predictions, average='micro')\n",
    "    f1_score_2_macro = f1_score(y2_val, predictions, average='macro')\n",
    "    \n",
    "    show_df = pd.DataFrame(\n",
    "        {\n",
    "        'global_work_class': [f1_score_2_micro, f1_score_2_macro]\n",
    "        },\n",
    "        index=['F1 micro', 'F1 macro']\n",
    "    ).round(6)\n",
    "    \n",
    "    return show_df"
   ]
  },
  {
   "cell_type": "code",
   "execution_count": 10,
   "id": "e4713c25",
   "metadata": {},
   "outputs": [
    {
     "name": "stdout",
     "output_type": "stream",
     "text": [
      "Time for training, s: 0.49\n",
      "Time for validation, s: 8.02\n"
     ]
    }
   ],
   "source": [
    "moment1 = time()\n",
    "knn1 =  KNeighborsClassifier(weights=\"distance\", metric='minkowski', n_neighbors=4)\n",
    "knn1.fit(X_train, y1_train)\n",
    "moment2 = time()\n",
    "\n",
    "knn1_preds = knn1.predict(X_val)\n",
    "moment3 = time()\n",
    "\n",
    "print(f\"Time for training, s: {(moment2-moment1):.2f}\")\n",
    "print(f\"Time for validation, s: {(moment3-moment2):.2f}\")"
   ]
  },
  {
   "cell_type": "code",
   "execution_count": 17,
   "id": "93288dfc",
   "metadata": {},
   "outputs": [
    {
     "name": "stdout",
     "output_type": "stream",
     "text": [
      "Time for training, s: 0.52\n",
      "Time for validation, s: 7.67\n"
     ]
    }
   ],
   "source": [
    "moment1 = time()\n",
    "knn2 =  KNeighborsClassifier(weights=\"distance\", n_neighbors=4)\n",
    "knn2.fit(X_train, y2_train)\n",
    "moment2 = time()\n",
    "\n",
    "knn2_preds = knn2.predict(X_val)\n",
    "moment3 = time()\n",
    "\n",
    "print(f\"Time for training, s: {(moment2-moment1):.2f}\")\n",
    "print(f\"Time for validation, s: {(moment3-moment2):.2f}\")"
   ]
  },
  {
   "cell_type": "code",
   "execution_count": 33,
   "id": "bc0e5e71",
   "metadata": {},
   "outputs": [
    {
     "name": "stdout",
     "output_type": "stream",
     "text": [
      "Time for training, s: 0.49\n",
      "Time for validation, s: 7.67\n"
     ]
    },
    {
     "data": {
      "text/html": [
       "<div>\n",
       "<style scoped>\n",
       "    .dataframe tbody tr th:only-of-type {\n",
       "        vertical-align: middle;\n",
       "    }\n",
       "\n",
       "    .dataframe tbody tr th {\n",
       "        vertical-align: top;\n",
       "    }\n",
       "\n",
       "    .dataframe thead th {\n",
       "        text-align: right;\n",
       "    }\n",
       "</style>\n",
       "<table border=\"1\" class=\"dataframe\">\n",
       "  <thead>\n",
       "    <tr style=\"text-align: right;\">\n",
       "      <th></th>\n",
       "      <th>generalized_work_class</th>\n",
       "    </tr>\n",
       "  </thead>\n",
       "  <tbody>\n",
       "    <tr>\n",
       "      <th>F1 micro</th>\n",
       "      <td>0.994476</td>\n",
       "    </tr>\n",
       "    <tr>\n",
       "      <th>F1 macro</th>\n",
       "      <td>0.972141</td>\n",
       "    </tr>\n",
       "  </tbody>\n",
       "</table>\n",
       "</div>"
      ],
      "text/plain": [
       "          generalized_work_class\n",
       "F1 micro                0.994476\n",
       "F1 macro                0.972141"
      ]
     },
     "execution_count": 33,
     "metadata": {},
     "output_type": "execute_result"
    }
   ],
   "source": [
    "moment1 = time()\n",
    "knn11 =  KNeighborsClassifier(weights=\"distance\", metric='minkowski', n_neighbors=5)\n",
    "knn11.fit(X_train, y1_train)\n",
    "moment2 = time()\n",
    "\n",
    "knn11_preds = knn11.predict(X_val)\n",
    "moment3 = time()\n",
    "\n",
    "print(f\"Time for training, s: {(moment2-moment1):.2f}\")\n",
    "print(f\"Time for validation, s: {(moment3-moment2):.2f}\")\n",
    "show_metrics1(knn11_preds)"
   ]
  },
  {
   "cell_type": "code",
   "execution_count": 15,
   "id": "5a7471bb",
   "metadata": {},
   "outputs": [
    {
     "data": {
      "text/html": [
       "<div>\n",
       "<style scoped>\n",
       "    .dataframe tbody tr th:only-of-type {\n",
       "        vertical-align: middle;\n",
       "    }\n",
       "\n",
       "    .dataframe tbody tr th {\n",
       "        vertical-align: top;\n",
       "    }\n",
       "\n",
       "    .dataframe thead th {\n",
       "        text-align: right;\n",
       "    }\n",
       "</style>\n",
       "<table border=\"1\" class=\"dataframe\">\n",
       "  <thead>\n",
       "    <tr style=\"text-align: right;\">\n",
       "      <th></th>\n",
       "      <th>generalized_work_class</th>\n",
       "    </tr>\n",
       "  </thead>\n",
       "  <tbody>\n",
       "    <tr>\n",
       "      <th>F1 micro</th>\n",
       "      <td>0.994543</td>\n",
       "    </tr>\n",
       "    <tr>\n",
       "      <th>F1 macro</th>\n",
       "      <td>0.972142</td>\n",
       "    </tr>\n",
       "  </tbody>\n",
       "</table>\n",
       "</div>"
      ],
      "text/plain": [
       "          generalized_work_class\n",
       "F1 micro                0.994543\n",
       "F1 macro                0.972142"
      ]
     },
     "execution_count": 15,
     "metadata": {},
     "output_type": "execute_result"
    }
   ],
   "source": [
    "show_metrics1(knn1_preds)"
   ]
  },
  {
   "cell_type": "code",
   "execution_count": 32,
   "id": "40d6827e",
   "metadata": {},
   "outputs": [
    {
     "data": {
      "text/html": [
       "<div>\n",
       "<style scoped>\n",
       "    .dataframe tbody tr th:only-of-type {\n",
       "        vertical-align: middle;\n",
       "    }\n",
       "\n",
       "    .dataframe tbody tr th {\n",
       "        vertical-align: top;\n",
       "    }\n",
       "\n",
       "    .dataframe thead th {\n",
       "        text-align: right;\n",
       "    }\n",
       "</style>\n",
       "<table border=\"1\" class=\"dataframe\">\n",
       "  <thead>\n",
       "    <tr style=\"text-align: right;\">\n",
       "      <th></th>\n",
       "      <th>global_work_class</th>\n",
       "    </tr>\n",
       "  </thead>\n",
       "  <tbody>\n",
       "    <tr>\n",
       "      <th>F1 micro</th>\n",
       "      <td>0.995419</td>\n",
       "    </tr>\n",
       "    <tr>\n",
       "      <th>F1 macro</th>\n",
       "      <td>0.993522</td>\n",
       "    </tr>\n",
       "  </tbody>\n",
       "</table>\n",
       "</div>"
      ],
      "text/plain": [
       "          global_work_class\n",
       "F1 micro           0.995419\n",
       "F1 macro           0.993522"
      ]
     },
     "execution_count": 32,
     "metadata": {},
     "output_type": "execute_result"
    }
   ],
   "source": [
    "show_metrics2(knn2_preds)"
   ]
  },
  {
   "cell_type": "markdown",
   "id": "d6aac60d",
   "metadata": {},
   "source": [
    "## Visualization of hyperparameters tuning"
   ]
  },
  {
   "cell_type": "code",
   "execution_count": 26,
   "id": "3855db2c",
   "metadata": {},
   "outputs": [],
   "source": [
    "dict1 = {4: 0.9441808738348383, 5: 0.939949709120403,  6: 0.9373588045202391, 7: 0.9347321865270937, 8: 0.93405464313092, 10: 0.933765705998821}\n",
    "ls1_scores = list(dict1.values())\n",
    "ls1_numbers = list(dict1.keys())\n",
    "\n",
    "\n",
    "ls2_scores = [0.9510721263332276,\n",
    "                0.9444830247482171,\n",
    "                0.9447264488329358,\n",
    "                0.9463803284469572]\n",
    "ls2_numbers = [4,5,7,10]"
   ]
  },
  {
   "cell_type": "code",
   "execution_count": 29,
   "id": "2d5acc57",
   "metadata": {},
   "outputs": [
    {
     "data": {
      "image/png": "[encoded data removed]",
      "text/plain": [
       "<Figure size 1200x600 with 1 Axes>"
      ]
     },
     "metadata": {},
     "output_type": "display_data"
    }
   ],
   "source": [
    "plt.figure(figsize=(12, 6))\n",
    "plt.plot(ls1_numbers, ls1_scores)\n",
    "# plt.title('Number of samples in different pairs of generalized_work_class-global_work_class')\n",
    "plt.title('F1-macro score for generalized_work_class')\n",
    "plt.xlabel('Number of k-neighbours')\n",
    "plt.grid()\n",
    "plt.ylabel('Score')\n",
    "plt.show()"
   ]
  },
  {
   "cell_type": "code",
   "execution_count": 30,
   "id": "10cf9862",
   "metadata": {},
   "outputs": [
    {
     "data": {
      "image/png": "[encoded data removed]",
      "text/plain": [
       "<Figure size 1200x600 with 1 Axes>"
      ]
     },
     "metadata": {},
     "output_type": "display_data"
    }
   ],
   "source": [
    "plt.figure(figsize=(12, 6))\n",
    "plt.plot(ls2_numbers, ls2_scores)\n",
    "# plt.title('Number of samples in different pairs of generalized_work_class-global_work_class')\n",
    "plt.title('F1-macro score for global_work_class')\n",
    "plt.xlabel('Number of k-neighbours')\n",
    "plt.grid()\n",
    "plt.ylabel('Score')\n",
    "plt.show()"
   ]
  },
  {
   "cell_type": "code",
   "execution_count": null,
   "id": "ca19eed5",
   "metadata": {},
   "outputs": [],
   "source": []
  }
 ],
 "metadata": {
  "kernelspec": {
   "display_name": "Python 3 (ipykernel)",
   "language": "python",
   "name": "python3"
  },
  "language_info": {
   "codemirror_mode": {
    "name": "ipython",
    "version": 3
   },
   "file_extension": ".py",
   "mimetype": "text/x-python",
   "name": "python",
   "nbconvert_exporter": "python",
   "pygments_lexer": "ipython3",
   "version": "3.11.5"
  }
 },
 "nbformat": 4,
 "nbformat_minor": 5
}
